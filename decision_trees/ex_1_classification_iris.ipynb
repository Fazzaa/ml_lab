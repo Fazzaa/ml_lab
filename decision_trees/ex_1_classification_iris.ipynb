{
 "cells": [
  {
   "cell_type": "markdown",
   "metadata": {},
   "source": [
    "# Esercizio 1: Classification Iris"
   ]
  },
  {
   "cell_type": "markdown",
   "metadata": {},
   "source": [
    "dataset: https://archive.ics.uci.edu/ml/datasets/iris"
   ]
  },
  {
   "cell_type": "code",
   "execution_count": 1,
   "metadata": {},
   "outputs": [],
   "source": [
    "from sklearn import tree \n",
    "from sklearn.datasets import load_iris\n",
    "from sklearn.model_selection import train_test_split\n",
    "from sklearn.metrics import accuracy_score, precision_score, recall_score\n",
    "from sklearn.metrics import f1_score\n",
    "from sklearn.model_selection import cross_val_score \n",
    "import graphviz \n",
    "from imblearn.over_sampling import SMOTE\n",
    "from collections import Counter\n",
    "from itertools import repeat\n"
   ]
  },
  {
   "cell_type": "markdown",
   "metadata": {},
   "source": [
    "##### load the dataset and split it in train and test set"
   ]
  },
  {
   "cell_type": "code",
   "execution_count": 2,
   "metadata": {},
   "outputs": [],
   "source": [
    "iris = load_iris()\n",
    "X_train, X_test, y_train, y_test = train_test_split(iris.data, iris.target, test_size=0.3, random_state=1)"
   ]
  },
  {
   "cell_type": "markdown",
   "metadata": {},
   "source": [
    "##### Initialize the model and fit with the training data"
   ]
  },
  {
   "cell_type": "code",
   "execution_count": 3,
   "metadata": {},
   "outputs": [],
   "source": [
    "# the weights are the same for all the classes\n",
    "clf = tree.DecisionTreeClassifier(criterion=\"entropy\",random_state=300,min_samples_leaf=5,class_weight={0:1,1:1,2:1}) \n",
    "clf = clf.fit(X_train, y_train)"
   ]
  },
  {
   "cell_type": "markdown",
   "metadata": {},
   "source": [
    "##### Predict the classes of the test set"
   ]
  },
  {
   "cell_type": "code",
   "execution_count": 4,
   "metadata": {},
   "outputs": [],
   "source": [
    "predicted_y_test = clf.predict(X_test)"
   ]
  },
  {
   "cell_type": "markdown",
   "metadata": {},
   "source": [
    "##### Printing information about the model"
   ]
  },
  {
   "cell_type": "code",
   "execution_count": 96,
   "metadata": {},
   "outputs": [
    {
     "name": "stdout",
     "output_type": "stream",
     "text": [
      "predicted classes:\n",
      "[0 1 1 0 2 1 2 0 0 2 1 0 2 1 1 0 1 1 0 0 1 1 2 0 2 1 0 0 1 2 1 2 1 2 2 0 1\n",
      " 0 1 2 2 0 1 2 1]\n",
      "\n",
      "real classes:\n",
      "[0 1 1 0 2 1 2 0 0 2 1 0 2 1 1 0 1 1 0 0 1 1 1 0 2 1 0 0 1 2 1 2 1 2 2 0 1\n",
      " 0 1 2 2 0 2 2 1]\n",
      "\n",
      "correctly classified examples: 43\n",
      "number of errors: 2\n"
     ]
    }
   ],
   "source": [
    "print(f\"predicted classes:\\n{predicted_y_test}\\n\")\n",
    "print(f\"real classes:\\n{y_test}\")\n",
    "print(f\"\\ncorrectly classified examples: {sum(predicted_y_test == y_test)}\")\n",
    "print(f\"number of errors: {sum(predicted_y_test != y_test)}\")"
   ]
  },
  {
   "cell_type": "code",
   "execution_count": 97,
   "metadata": {},
   "outputs": [
    {
     "name": "stdout",
     "output_type": "stream",
     "text": [
      "class setosa predicted as setosa\n",
      "sepal length (cm): 5.8\n",
      "sepal width (cm): 4.0\n",
      "petal length (cm): 1.2\n",
      "petal width (cm): 0.2\n",
      "\n",
      "\n",
      "class versicolor predicted as versicolor\n",
      "sepal length (cm): 5.1\n",
      "sepal width (cm): 2.5\n",
      "petal length (cm): 3.0\n",
      "petal width (cm): 1.1\n",
      "\n",
      "\n",
      "class versicolor predicted as versicolor\n",
      "sepal length (cm): 6.6\n",
      "sepal width (cm): 3.0\n",
      "petal length (cm): 4.4\n",
      "petal width (cm): 1.4\n",
      "\n",
      "\n",
      "class setosa predicted as setosa\n",
      "sepal length (cm): 5.4\n",
      "sepal width (cm): 3.9\n",
      "petal length (cm): 1.3\n",
      "petal width (cm): 0.4\n",
      "\n",
      "\n",
      "class virginica predicted as virginica\n",
      "sepal length (cm): 7.9\n",
      "sepal width (cm): 3.8\n",
      "petal length (cm): 6.4\n",
      "petal width (cm): 2.0\n",
      "\n",
      "\n",
      "class versicolor predicted as versicolor\n",
      "sepal length (cm): 6.3\n",
      "sepal width (cm): 3.3\n",
      "petal length (cm): 4.7\n",
      "petal width (cm): 1.6\n",
      "\n",
      "\n",
      "class virginica predicted as virginica\n",
      "sepal length (cm): 6.9\n",
      "sepal width (cm): 3.1\n",
      "petal length (cm): 5.1\n",
      "petal width (cm): 2.3\n",
      "\n",
      "\n",
      "class setosa predicted as setosa\n",
      "sepal length (cm): 5.1\n",
      "sepal width (cm): 3.8\n",
      "petal length (cm): 1.9\n",
      "petal width (cm): 0.4\n",
      "\n",
      "\n",
      "class setosa predicted as setosa\n",
      "sepal length (cm): 4.7\n",
      "sepal width (cm): 3.2\n",
      "petal length (cm): 1.6\n",
      "petal width (cm): 0.2\n",
      "\n",
      "\n",
      "class virginica predicted as virginica\n",
      "sepal length (cm): 6.9\n",
      "sepal width (cm): 3.2\n",
      "petal length (cm): 5.7\n",
      "petal width (cm): 2.3\n",
      "\n",
      "\n",
      "class versicolor predicted as versicolor\n",
      "sepal length (cm): 5.6\n",
      "sepal width (cm): 2.7\n",
      "petal length (cm): 4.2\n",
      "petal width (cm): 1.3\n",
      "\n",
      "\n",
      "class setosa predicted as setosa\n",
      "sepal length (cm): 5.4\n",
      "sepal width (cm): 3.9\n",
      "petal length (cm): 1.7\n",
      "petal width (cm): 0.4\n",
      "\n",
      "\n",
      "class virginica predicted as virginica\n",
      "sepal length (cm): 7.1\n",
      "sepal width (cm): 3.0\n",
      "petal length (cm): 5.9\n",
      "petal width (cm): 2.1\n",
      "\n",
      "\n",
      "class versicolor predicted as versicolor\n",
      "sepal length (cm): 6.4\n",
      "sepal width (cm): 3.2\n",
      "petal length (cm): 4.5\n",
      "petal width (cm): 1.5\n",
      "\n",
      "\n",
      "class versicolor predicted as versicolor\n",
      "sepal length (cm): 6.0\n",
      "sepal width (cm): 2.9\n",
      "petal length (cm): 4.5\n",
      "petal width (cm): 1.5\n",
      "\n",
      "\n",
      "class setosa predicted as setosa\n",
      "sepal length (cm): 4.4\n",
      "sepal width (cm): 3.2\n",
      "petal length (cm): 1.3\n",
      "petal width (cm): 0.2\n",
      "\n",
      "\n",
      "class versicolor predicted as versicolor\n",
      "sepal length (cm): 5.8\n",
      "sepal width (cm): 2.6\n",
      "petal length (cm): 4.0\n",
      "petal width (cm): 1.2\n",
      "\n",
      "\n",
      "class versicolor predicted as versicolor\n",
      "sepal length (cm): 5.6\n",
      "sepal width (cm): 3.0\n",
      "petal length (cm): 4.5\n",
      "petal width (cm): 1.5\n",
      "\n",
      "\n",
      "class setosa predicted as setosa\n",
      "sepal length (cm): 5.4\n",
      "sepal width (cm): 3.4\n",
      "petal length (cm): 1.5\n",
      "petal width (cm): 0.4\n",
      "\n",
      "\n",
      "class setosa predicted as setosa\n",
      "sepal length (cm): 5.0\n",
      "sepal width (cm): 3.2\n",
      "petal length (cm): 1.2\n",
      "petal width (cm): 0.2\n",
      "\n",
      "\n",
      "class versicolor predicted as versicolor\n",
      "sepal length (cm): 5.5\n",
      "sepal width (cm): 2.6\n",
      "petal length (cm): 4.4\n",
      "petal width (cm): 1.2\n",
      "\n",
      "\n",
      "class versicolor predicted as versicolor\n",
      "sepal length (cm): 5.4\n",
      "sepal width (cm): 3.0\n",
      "petal length (cm): 4.5\n",
      "petal width (cm): 1.5\n",
      "\n",
      "\n",
      "class versicolor predicted as virginica\n",
      "sepal length (cm): 6.7\n",
      "sepal width (cm): 3.0\n",
      "petal length (cm): 5.0\n",
      "petal width (cm): 1.7\n",
      "\n",
      "\n",
      "class setosa predicted as setosa\n",
      "sepal length (cm): 5.0\n",
      "sepal width (cm): 3.5\n",
      "petal length (cm): 1.3\n",
      "petal width (cm): 0.3\n",
      "\n",
      "\n",
      "class virginica predicted as virginica\n",
      "sepal length (cm): 7.2\n",
      "sepal width (cm): 3.2\n",
      "petal length (cm): 6.0\n",
      "petal width (cm): 1.8\n",
      "\n",
      "\n",
      "class versicolor predicted as versicolor\n",
      "sepal length (cm): 5.7\n",
      "sepal width (cm): 2.8\n",
      "petal length (cm): 4.1\n",
      "petal width (cm): 1.3\n",
      "\n",
      "\n",
      "class setosa predicted as setosa\n",
      "sepal length (cm): 5.5\n",
      "sepal width (cm): 4.2\n",
      "petal length (cm): 1.4\n",
      "petal width (cm): 0.2\n",
      "\n",
      "\n",
      "class setosa predicted as setosa\n",
      "sepal length (cm): 5.1\n",
      "sepal width (cm): 3.8\n",
      "petal length (cm): 1.5\n",
      "petal width (cm): 0.3\n",
      "\n",
      "\n",
      "class versicolor predicted as versicolor\n",
      "sepal length (cm): 6.1\n",
      "sepal width (cm): 2.8\n",
      "petal length (cm): 4.7\n",
      "petal width (cm): 1.2\n",
      "\n",
      "\n",
      "class virginica predicted as virginica\n",
      "sepal length (cm): 6.3\n",
      "sepal width (cm): 2.5\n",
      "petal length (cm): 5.0\n",
      "petal width (cm): 1.9\n",
      "\n",
      "\n",
      "class versicolor predicted as versicolor\n",
      "sepal length (cm): 6.1\n",
      "sepal width (cm): 3.0\n",
      "petal length (cm): 4.6\n",
      "petal width (cm): 1.4\n",
      "\n",
      "\n",
      "class virginica predicted as virginica\n",
      "sepal length (cm): 7.7\n",
      "sepal width (cm): 3.0\n",
      "petal length (cm): 6.1\n",
      "petal width (cm): 2.3\n",
      "\n",
      "\n",
      "class versicolor predicted as versicolor\n",
      "sepal length (cm): 5.6\n",
      "sepal width (cm): 2.5\n",
      "petal length (cm): 3.9\n",
      "petal width (cm): 1.1\n",
      "\n",
      "\n",
      "class virginica predicted as virginica\n",
      "sepal length (cm): 6.4\n",
      "sepal width (cm): 2.8\n",
      "petal length (cm): 5.6\n",
      "petal width (cm): 2.1\n",
      "\n",
      "\n",
      "class virginica predicted as virginica\n",
      "sepal length (cm): 5.8\n",
      "sepal width (cm): 2.8\n",
      "petal length (cm): 5.1\n",
      "petal width (cm): 2.4\n",
      "\n",
      "\n",
      "class setosa predicted as setosa\n",
      "sepal length (cm): 5.3\n",
      "sepal width (cm): 3.7\n",
      "petal length (cm): 1.5\n",
      "petal width (cm): 0.2\n",
      "\n",
      "\n",
      "class versicolor predicted as versicolor\n",
      "sepal length (cm): 5.5\n",
      "sepal width (cm): 2.3\n",
      "petal length (cm): 4.0\n",
      "petal width (cm): 1.3\n",
      "\n",
      "\n",
      "class setosa predicted as setosa\n",
      "sepal length (cm): 5.2\n",
      "sepal width (cm): 3.4\n",
      "petal length (cm): 1.4\n",
      "petal width (cm): 0.2\n",
      "\n",
      "\n",
      "class versicolor predicted as versicolor\n",
      "sepal length (cm): 6.5\n",
      "sepal width (cm): 2.8\n",
      "petal length (cm): 4.6\n",
      "petal width (cm): 1.5\n",
      "\n",
      "\n",
      "class virginica predicted as virginica\n",
      "sepal length (cm): 6.7\n",
      "sepal width (cm): 2.5\n",
      "petal length (cm): 5.8\n",
      "petal width (cm): 1.8\n",
      "\n",
      "\n",
      "class virginica predicted as virginica\n",
      "sepal length (cm): 6.8\n",
      "sepal width (cm): 3.0\n",
      "petal length (cm): 5.5\n",
      "petal width (cm): 2.1\n",
      "\n",
      "\n",
      "class setosa predicted as setosa\n",
      "sepal length (cm): 5.1\n",
      "sepal width (cm): 3.5\n",
      "petal length (cm): 1.4\n",
      "petal width (cm): 0.3\n",
      "\n",
      "\n",
      "class virginica predicted as versicolor\n",
      "sepal length (cm): 6.0\n",
      "sepal width (cm): 2.2\n",
      "petal length (cm): 5.0\n",
      "petal width (cm): 1.5\n",
      "\n",
      "\n",
      "class virginica predicted as virginica\n",
      "sepal length (cm): 6.3\n",
      "sepal width (cm): 2.9\n",
      "petal length (cm): 5.6\n",
      "petal width (cm): 1.8\n",
      "\n",
      "\n",
      "class versicolor predicted as versicolor\n",
      "sepal length (cm): 6.6\n",
      "sepal width (cm): 2.9\n",
      "petal length (cm): 4.6\n",
      "petal width (cm): 1.3\n",
      "\n",
      "\n"
     ]
    }
   ],
   "source": [
    "for i in range(len(y_test)):\n",
    "    print(f\"class {iris.target_names[y_test[i]]} predicted as {iris.target_names[predicted_y_test[i]]}\")\n",
    "    for j in range(len(iris.feature_names)):\n",
    "        print(f\"{iris.feature_names[j]}: {X_test[i][j]}\")\n",
    "    print(\"\\n\")"
   ]
  },
  {
   "cell_type": "markdown",
   "metadata": {},
   "source": [
    "##### Accuracy and F1 of the model \n",
    "- F1 = 2 * (precision * recall) / (precision + recall)"
   ]
  },
  {
   "cell_type": "code",
   "execution_count": 5,
   "metadata": {},
   "outputs": [
    {
     "name": "stdout",
     "output_type": "stream",
     "text": [
      "accuracy: 0.9555555555555556\n",
      "f1 score: 0.9558404558404558\n"
     ]
    }
   ],
   "source": [
    "print(f\"accuracy: {accuracy_score(y_test, predicted_y_test)}\")\n",
    "f1 = f1_score(y_test, predicted_y_test, average='macro') # macro means that the score is calculated for each class and then averaged\n",
    "print(f\"f1 score: {f1}\")"
   ]
  },
  {
   "cell_type": "markdown",
   "metadata": {},
   "source": [
    "##### Cross Validation"
   ]
  },
  {
   "cell_type": "code",
   "execution_count": 6,
   "metadata": {},
   "outputs": [
    {
     "name": "stdout",
     "output_type": "stream",
     "text": [
      "cross validation scores: [0.96666667 1.         0.86666667 0.86666667 1.        ]\n",
      "cross validation f1 scores: [0.96658312 1.         0.86111111 0.86666667 1.        ]\n"
     ]
    }
   ],
   "source": [
    "#cross validation\n",
    "accuracy_scores = cross_val_score(clf, iris.data, iris.target, cv=5) # default score is the accuracy, 5-fold cross validation\n",
    "print(f\"cross validation scores: {accuracy_scores}\")\n",
    "f1_scores = cross_val_score(clf, iris.data, iris.target, cv=5, scoring='f1_macro') \n",
    "print(f\"cross validation f1 scores: {f1_scores}\")"
   ]
  },
  {
   "cell_type": "markdown",
   "metadata": {},
   "source": [
    "##### Visualize the Tree with Graphviz"
   ]
  },
  {
   "cell_type": "code",
   "execution_count": null,
   "metadata": {},
   "outputs": [],
   "source": [
    "# initialize another classifier to visualize the graph on the total examples\n",
    "clf_graph = tree.DecisionTreeClassifier(criterion=\"entropy\",random_state=300,min_samples_leaf=5,class_weight={0:1,1:1,2:1})\n",
    "clf_graph = clf_graph.fit(iris.data, iris.target)\n",
    "\n",
    "dot_data = tree.export_graphviz(clf_graph, out_file=None, \n",
    "                                feature_names=iris.feature_names,\n",
    "                                class_names=iris.target_names,\n",
    "                                filled=True, rounded=True,\n",
    "                                special_characters=True)\n",
    "graph = graphviz.Source(dot_data)\n",
    "graph"
   ]
  },
  {
   "cell_type": "markdown",
   "metadata": {},
   "source": [
    "- The maximum entropy is log2(3) = 1.585\n",
    "- The minimum entropy is 0\n",
    "- The class is chosen by the majority of the samples"
   ]
  },
  {
   "cell_type": "markdown",
   "metadata": {},
   "source": [
    "### 1.a Oversampling (Artificial Inflation)"
   ]
  },
  {
   "cell_type": "markdown",
   "metadata": {},
   "source": [
    "Applicate un sovracampionamento (artificial inflation) ad una classe nel training set con un determinato fattore: 10 (si pesi di più una delle classi tra virginica o versicolor che sono più difficili da discriminare). Si apprenda l'albero di decisione in queste condizioni."
   ]
  },
  {
   "cell_type": "code",
   "execution_count": 14,
   "metadata": {},
   "outputs": [],
   "source": [
    "def oversampling(X_train, y_train, oversampling_factor):\n",
    "\tX_train_augmented = []\n",
    "\ty_train_augmented = []\n",
    "\tfor (x,y) in zip(X_train, y_train):\n",
    "\t\tif y == 2:\n",
    "\t\t\tX_train_augmented.extend(repeat(x, oversampling_factor))\n",
    "\t\t\ty_train_augmented.extend(repeat(y, oversampling_factor))\n",
    "\t\telse:\n",
    "\t\t\tX_train_augmented.append(x)\n",
    "\t\t\ty_train_augmented.append(y)\n",
    "\treturn X_train_augmented, y_train_augmented\n",
    "\n",
    "def compute_fp_tp_fn_tn(real_value, predicted_value):\n",
    "\t# returns tuple (fp, tp, fn, tn)\n",
    "\tfp, tp, fn, tn = 0, 0, 0, 0\n",
    "\tfor i in range(len(real_value)):\n",
    "\t\tif real_value[i] == 1 and predicted_value[i] == 1:\n",
    "\t\t\ttp += 1\n",
    "\t\telif real_value[i] == 0 and predicted_value[i] == 1:\n",
    "\t\t\tfp += 1\n",
    "\t\telif real_value[i] == 1 and predicted_value[i] == 0:\n",
    "\t\t\tfn += 1\n",
    "\t\telif real_value[i] == 0 and predicted_value[i] == 0:\n",
    "\t\t\ttn += 1\n",
    "\treturn fp, tp, fn, tn"
   ]
  },
  {
   "cell_type": "code",
   "execution_count": 18,
   "metadata": {},
   "outputs": [
    {
     "name": "stdout",
     "output_type": "stream",
     "text": [
      "tn: 14, tp: 17, fp: 0, fn: 0\n",
      "accuracy: 0.9555555555555556\n",
      "accuracy_homemade: 1.0\n",
      "precision: 1.0\n",
      "recall: 1.0\n",
      "f1 score: 0.9558404558404558\n"
     ]
    }
   ],
   "source": [
    "OVERSAMPLING_FACTOR = 10\n",
    "\n",
    "clf_oversampling = tree.DecisionTreeClassifier(criterion=\"entropy\",random_state=300,min_samples_leaf=5,class_weight={0:1,1:1,2:1})\n",
    "\n",
    "iris = load_iris()\n",
    "X_train, X_test, y_train, y_test = train_test_split(iris.data, iris.target, test_size=0.3, random_state=1)\n",
    "\n",
    "X_train_oversample, y_train_oversample = oversampling(X_train, y_train, OVERSAMPLING_FACTOR)\n",
    "\n",
    "clf_oversampling = clf_oversampling.fit(X_train_oversample, y_train_oversample)\n",
    "\n",
    "predicted_y_test = clf_oversampling.predict(X_test)\n",
    "fp, tp, fn, tn = compute_fp_tp_fn_tn(y_test, predicted_y_test)\n",
    "print(f\"Real_value: {y_test}, Predicted_value: {predicted_y_test}\")\n",
    "\n",
    "print(f\"accuracy: {accuracy_score(y_test, predicted_y_test)}\")\n",
    "\n",
    "print(f\"accuracy_homemade: {(tp+tn) / (tp+tn+fp+fn)}\")\n",
    "print(f\"precision: {tp / (tp+fp)}\")\n",
    "print(f\"recall: {tp / (tp+fn)}\")\n",
    "\n",
    "f1 = f1_score(y_test, predicted_y_test, average='macro') # macro means that the score is calculated for each class and then averaged\n",
    "print(f\"f1 score: {f1}\")\n",
    "\n"
   ]
  },
  {
   "cell_type": "markdown",
   "metadata": {},
   "source": [
    "### 1.b Modify weights\n"
   ]
  },
  {
   "cell_type": "code",
   "execution_count": 46,
   "metadata": {},
   "outputs": [
    {
     "name": "stdout",
     "output_type": "stream",
     "text": [
      "accuracy: 0.9777777777777777\n",
      "f1 score: 0.9781305114638448\n"
     ]
    }
   ],
   "source": [
    "clf_weights = tree.DecisionTreeClassifier(criterion=\"entropy\",random_state=300,min_samples_leaf=5,class_weight={0:1,1:1,2:10})\n",
    "iris = load_iris()\n",
    "X_train, X_test, y_train, y_test = train_test_split(iris.data, iris.target, test_size=0.3, random_state=1)\n",
    "\n",
    "clf_weights = clf_weights.fit(X_train, y_train)\n",
    "\n",
    "predicted_y_test = clf_weights.predict(X_test)\n",
    "\n",
    "print(f\"accuracy: {accuracy_score(y_test, predicted_y_test)}\")\n",
    "f1 = f1_score(y_test, predicted_y_test, average='macro') # macro means that the score is calculated for each class and then averaged\n",
    "print(f\"f1 score: {f1}\")\n",
    "\n"
   ]
  }
 ],
 "metadata": {
  "kernelspec": {
   "display_name": "Python 3.8.7 64-bit",
   "language": "python",
   "name": "python3"
  },
  "language_info": {
   "codemirror_mode": {
    "name": "ipython",
    "version": 3
   },
   "file_extension": ".py",
   "mimetype": "text/x-python",
   "name": "python",
   "nbconvert_exporter": "python",
   "pygments_lexer": "ipython3",
   "version": "3.8.7"
  },
  "orig_nbformat": 4,
  "vscode": {
   "interpreter": {
    "hash": "7efb2d7ff2df1439e00fdb3d4f2694a3ec3140441601882caf0cf9a3f70ee73c"
   }
  }
 },
 "nbformat": 4,
 "nbformat_minor": 2
}
