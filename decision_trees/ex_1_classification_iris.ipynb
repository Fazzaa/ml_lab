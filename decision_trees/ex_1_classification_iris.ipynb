{
 "cells": [
  {
   "cell_type": "markdown",
   "metadata": {},
   "source": [
    "# Esercizio 1: Classification Iris"
   ]
  },
  {
   "cell_type": "markdown",
   "metadata": {},
   "source": [
    "dataset: https://archive.ics.uci.edu/ml/datasets/iris"
   ]
  },
  {
   "cell_type": "code",
   "execution_count": 1,
   "metadata": {},
   "outputs": [],
   "source": [
    "from sklearn import tree \n",
    "from sklearn.datasets import load_iris\n",
    "from sklearn.model_selection import train_test_split\n",
    "from sklearn.metrics import accuracy_score, confusion_matrix\n",
    "from sklearn.metrics import f1_score\n",
    "from sklearn.model_selection import cross_val_score \n",
    "import graphviz\n",
    "from itertools import repeat\n",
    "from sklearn.multiclass import OneVsRestClassifier\n",
    "from sklearn.metrics import roc_curve, auc\n",
    "from sklearn.preprocessing import label_binarize\n",
    "from sklearn import metrics\n",
    "import matplotlib.pyplot as plt"
   ]
  },
  {
   "cell_type": "markdown",
   "metadata": {},
   "source": [
    "##### load the dataset and split it in train and test set"
   ]
  },
  {
   "cell_type": "code",
   "execution_count": 4,
   "metadata": {},
   "outputs": [],
   "source": [
    "iris = load_iris()\n",
    "X_train, X_test, y_train, y_test = train_test_split(iris.data, iris.target, test_size=0.3, random_state=1)"
   ]
  },
  {
   "cell_type": "markdown",
   "metadata": {},
   "source": [
    "##### Initialize the model and fit with the training data"
   ]
  },
  {
   "cell_type": "code",
   "execution_count": 5,
   "metadata": {},
   "outputs": [],
   "source": [
    "# the weights are the same for all the classes\n",
    "clf = tree.DecisionTreeClassifier(criterion=\"entropy\",random_state=300,min_samples_leaf=5,class_weight={0:1,1:1,2:1}) \n",
    "clf = clf.fit(X_train, y_train)"
   ]
  },
  {
   "cell_type": "markdown",
   "metadata": {},
   "source": [
    "##### Predict the classes of the test set"
   ]
  },
  {
   "cell_type": "code",
   "execution_count": 6,
   "metadata": {},
   "outputs": [],
   "source": [
    "predicted_y_test = clf.predict(X_test)"
   ]
  },
  {
   "cell_type": "markdown",
   "metadata": {},
   "source": [
    "##### Printing information about the model"
   ]
  },
  {
   "cell_type": "code",
   "execution_count": 7,
   "metadata": {},
   "outputs": [
    {
     "name": "stdout",
     "output_type": "stream",
     "text": [
      "predicted classes:\n",
      "[0 1 1 0 2 1 2 0 0 2 1 0 2 1 1 0 1 1 0 0 1 1 2 0 2 1 0 0 1 2 1 2 1 2 2 0 1\n",
      " 0 1 2 2 0 1 2 1]\n",
      "\n",
      "real classes:\n",
      "[0 1 1 0 2 1 2 0 0 2 1 0 2 1 1 0 1 1 0 0 1 1 1 0 2 1 0 0 1 2 1 2 1 2 2 0 1\n",
      " 0 1 2 2 0 2 2 1]\n",
      "\n",
      "correctly classified examples: 43\n",
      "number of errors: 2\n"
     ]
    }
   ],
   "source": [
    "print(f\"predicted classes:\\n{predicted_y_test}\\n\")\n",
    "print(f\"real classes:\\n{y_test}\")\n",
    "print(f\"\\ncorrectly classified examples: {sum(predicted_y_test == y_test)}\")\n",
    "print(f\"number of errors: {sum(predicted_y_test != y_test)}\")"
   ]
  },
  {
   "cell_type": "code",
   "execution_count": 8,
   "metadata": {},
   "outputs": [
    {
     "name": "stdout",
     "output_type": "stream",
     "text": [
      "class setosa predicted as setosa\n",
      "sepal length (cm): 5.8\n",
      "sepal width (cm): 4.0\n",
      "petal length (cm): 1.2\n",
      "petal width (cm): 0.2\n",
      "\n",
      "\n",
      "class versicolor predicted as versicolor\n",
      "sepal length (cm): 5.1\n",
      "sepal width (cm): 2.5\n",
      "petal length (cm): 3.0\n",
      "petal width (cm): 1.1\n",
      "\n",
      "\n",
      "class versicolor predicted as versicolor\n",
      "sepal length (cm): 6.6\n",
      "sepal width (cm): 3.0\n",
      "petal length (cm): 4.4\n",
      "petal width (cm): 1.4\n",
      "\n",
      "\n",
      "class setosa predicted as setosa\n",
      "sepal length (cm): 5.4\n",
      "sepal width (cm): 3.9\n",
      "petal length (cm): 1.3\n",
      "petal width (cm): 0.4\n",
      "\n",
      "\n",
      "class virginica predicted as virginica\n",
      "sepal length (cm): 7.9\n",
      "sepal width (cm): 3.8\n",
      "petal length (cm): 6.4\n",
      "petal width (cm): 2.0\n",
      "\n",
      "\n",
      "class versicolor predicted as versicolor\n",
      "sepal length (cm): 6.3\n",
      "sepal width (cm): 3.3\n",
      "petal length (cm): 4.7\n",
      "petal width (cm): 1.6\n",
      "\n",
      "\n",
      "class virginica predicted as virginica\n",
      "sepal length (cm): 6.9\n",
      "sepal width (cm): 3.1\n",
      "petal length (cm): 5.1\n",
      "petal width (cm): 2.3\n",
      "\n",
      "\n",
      "class setosa predicted as setosa\n",
      "sepal length (cm): 5.1\n",
      "sepal width (cm): 3.8\n",
      "petal length (cm): 1.9\n",
      "petal width (cm): 0.4\n",
      "\n",
      "\n",
      "class setosa predicted as setosa\n",
      "sepal length (cm): 4.7\n",
      "sepal width (cm): 3.2\n",
      "petal length (cm): 1.6\n",
      "petal width (cm): 0.2\n",
      "\n",
      "\n",
      "class virginica predicted as virginica\n",
      "sepal length (cm): 6.9\n",
      "sepal width (cm): 3.2\n",
      "petal length (cm): 5.7\n",
      "petal width (cm): 2.3\n",
      "\n",
      "\n",
      "class versicolor predicted as versicolor\n",
      "sepal length (cm): 5.6\n",
      "sepal width (cm): 2.7\n",
      "petal length (cm): 4.2\n",
      "petal width (cm): 1.3\n",
      "\n",
      "\n",
      "class setosa predicted as setosa\n",
      "sepal length (cm): 5.4\n",
      "sepal width (cm): 3.9\n",
      "petal length (cm): 1.7\n",
      "petal width (cm): 0.4\n",
      "\n",
      "\n",
      "class virginica predicted as virginica\n",
      "sepal length (cm): 7.1\n",
      "sepal width (cm): 3.0\n",
      "petal length (cm): 5.9\n",
      "petal width (cm): 2.1\n",
      "\n",
      "\n",
      "class versicolor predicted as versicolor\n",
      "sepal length (cm): 6.4\n",
      "sepal width (cm): 3.2\n",
      "petal length (cm): 4.5\n",
      "petal width (cm): 1.5\n",
      "\n",
      "\n",
      "class versicolor predicted as versicolor\n",
      "sepal length (cm): 6.0\n",
      "sepal width (cm): 2.9\n",
      "petal length (cm): 4.5\n",
      "petal width (cm): 1.5\n",
      "\n",
      "\n",
      "class setosa predicted as setosa\n",
      "sepal length (cm): 4.4\n",
      "sepal width (cm): 3.2\n",
      "petal length (cm): 1.3\n",
      "petal width (cm): 0.2\n",
      "\n",
      "\n",
      "class versicolor predicted as versicolor\n",
      "sepal length (cm): 5.8\n",
      "sepal width (cm): 2.6\n",
      "petal length (cm): 4.0\n",
      "petal width (cm): 1.2\n",
      "\n",
      "\n",
      "class versicolor predicted as versicolor\n",
      "sepal length (cm): 5.6\n",
      "sepal width (cm): 3.0\n",
      "petal length (cm): 4.5\n",
      "petal width (cm): 1.5\n",
      "\n",
      "\n",
      "class setosa predicted as setosa\n",
      "sepal length (cm): 5.4\n",
      "sepal width (cm): 3.4\n",
      "petal length (cm): 1.5\n",
      "petal width (cm): 0.4\n",
      "\n",
      "\n",
      "class setosa predicted as setosa\n",
      "sepal length (cm): 5.0\n",
      "sepal width (cm): 3.2\n",
      "petal length (cm): 1.2\n",
      "petal width (cm): 0.2\n",
      "\n",
      "\n",
      "class versicolor predicted as versicolor\n",
      "sepal length (cm): 5.5\n",
      "sepal width (cm): 2.6\n",
      "petal length (cm): 4.4\n",
      "petal width (cm): 1.2\n",
      "\n",
      "\n",
      "class versicolor predicted as versicolor\n",
      "sepal length (cm): 5.4\n",
      "sepal width (cm): 3.0\n",
      "petal length (cm): 4.5\n",
      "petal width (cm): 1.5\n",
      "\n",
      "\n",
      "class versicolor predicted as virginica\n",
      "sepal length (cm): 6.7\n",
      "sepal width (cm): 3.0\n",
      "petal length (cm): 5.0\n",
      "petal width (cm): 1.7\n",
      "\n",
      "\n",
      "class setosa predicted as setosa\n",
      "sepal length (cm): 5.0\n",
      "sepal width (cm): 3.5\n",
      "petal length (cm): 1.3\n",
      "petal width (cm): 0.3\n",
      "\n",
      "\n",
      "class virginica predicted as virginica\n",
      "sepal length (cm): 7.2\n",
      "sepal width (cm): 3.2\n",
      "petal length (cm): 6.0\n",
      "petal width (cm): 1.8\n",
      "\n",
      "\n",
      "class versicolor predicted as versicolor\n",
      "sepal length (cm): 5.7\n",
      "sepal width (cm): 2.8\n",
      "petal length (cm): 4.1\n",
      "petal width (cm): 1.3\n",
      "\n",
      "\n",
      "class setosa predicted as setosa\n",
      "sepal length (cm): 5.5\n",
      "sepal width (cm): 4.2\n",
      "petal length (cm): 1.4\n",
      "petal width (cm): 0.2\n",
      "\n",
      "\n",
      "class setosa predicted as setosa\n",
      "sepal length (cm): 5.1\n",
      "sepal width (cm): 3.8\n",
      "petal length (cm): 1.5\n",
      "petal width (cm): 0.3\n",
      "\n",
      "\n",
      "class versicolor predicted as versicolor\n",
      "sepal length (cm): 6.1\n",
      "sepal width (cm): 2.8\n",
      "petal length (cm): 4.7\n",
      "petal width (cm): 1.2\n",
      "\n",
      "\n",
      "class virginica predicted as virginica\n",
      "sepal length (cm): 6.3\n",
      "sepal width (cm): 2.5\n",
      "petal length (cm): 5.0\n",
      "petal width (cm): 1.9\n",
      "\n",
      "\n",
      "class versicolor predicted as versicolor\n",
      "sepal length (cm): 6.1\n",
      "sepal width (cm): 3.0\n",
      "petal length (cm): 4.6\n",
      "petal width (cm): 1.4\n",
      "\n",
      "\n",
      "class virginica predicted as virginica\n",
      "sepal length (cm): 7.7\n",
      "sepal width (cm): 3.0\n",
      "petal length (cm): 6.1\n",
      "petal width (cm): 2.3\n",
      "\n",
      "\n",
      "class versicolor predicted as versicolor\n",
      "sepal length (cm): 5.6\n",
      "sepal width (cm): 2.5\n",
      "petal length (cm): 3.9\n",
      "petal width (cm): 1.1\n",
      "\n",
      "\n",
      "class virginica predicted as virginica\n",
      "sepal length (cm): 6.4\n",
      "sepal width (cm): 2.8\n",
      "petal length (cm): 5.6\n",
      "petal width (cm): 2.1\n",
      "\n",
      "\n",
      "class virginica predicted as virginica\n",
      "sepal length (cm): 5.8\n",
      "sepal width (cm): 2.8\n",
      "petal length (cm): 5.1\n",
      "petal width (cm): 2.4\n",
      "\n",
      "\n",
      "class setosa predicted as setosa\n",
      "sepal length (cm): 5.3\n",
      "sepal width (cm): 3.7\n",
      "petal length (cm): 1.5\n",
      "petal width (cm): 0.2\n",
      "\n",
      "\n",
      "class versicolor predicted as versicolor\n",
      "sepal length (cm): 5.5\n",
      "sepal width (cm): 2.3\n",
      "petal length (cm): 4.0\n",
      "petal width (cm): 1.3\n",
      "\n",
      "\n",
      "class setosa predicted as setosa\n",
      "sepal length (cm): 5.2\n",
      "sepal width (cm): 3.4\n",
      "petal length (cm): 1.4\n",
      "petal width (cm): 0.2\n",
      "\n",
      "\n",
      "class versicolor predicted as versicolor\n",
      "sepal length (cm): 6.5\n",
      "sepal width (cm): 2.8\n",
      "petal length (cm): 4.6\n",
      "petal width (cm): 1.5\n",
      "\n",
      "\n",
      "class virginica predicted as virginica\n",
      "sepal length (cm): 6.7\n",
      "sepal width (cm): 2.5\n",
      "petal length (cm): 5.8\n",
      "petal width (cm): 1.8\n",
      "\n",
      "\n",
      "class virginica predicted as virginica\n",
      "sepal length (cm): 6.8\n",
      "sepal width (cm): 3.0\n",
      "petal length (cm): 5.5\n",
      "petal width (cm): 2.1\n",
      "\n",
      "\n",
      "class setosa predicted as setosa\n",
      "sepal length (cm): 5.1\n",
      "sepal width (cm): 3.5\n",
      "petal length (cm): 1.4\n",
      "petal width (cm): 0.3\n",
      "\n",
      "\n",
      "class virginica predicted as versicolor\n",
      "sepal length (cm): 6.0\n",
      "sepal width (cm): 2.2\n",
      "petal length (cm): 5.0\n",
      "petal width (cm): 1.5\n",
      "\n",
      "\n",
      "class virginica predicted as virginica\n",
      "sepal length (cm): 6.3\n",
      "sepal width (cm): 2.9\n",
      "petal length (cm): 5.6\n",
      "petal width (cm): 1.8\n",
      "\n",
      "\n",
      "class versicolor predicted as versicolor\n",
      "sepal length (cm): 6.6\n",
      "sepal width (cm): 2.9\n",
      "petal length (cm): 4.6\n",
      "petal width (cm): 1.3\n",
      "\n",
      "\n"
     ]
    }
   ],
   "source": [
    "for i in range(len(y_test)):\n",
    "    print(f\"class {iris.target_names[y_test[i]]} predicted as {iris.target_names[predicted_y_test[i]]}\")\n",
    "    for j in range(len(iris.feature_names)):\n",
    "        print(f\"{iris.feature_names[j]}: {X_test[i][j]}\")\n",
    "    print(\"\\n\")"
   ]
  },
  {
   "cell_type": "markdown",
   "metadata": {},
   "source": [
    "##### Accuracy and F1 of the model \n",
    "- F1 = 2 * (precision * recall) / (precision + recall)"
   ]
  },
  {
   "cell_type": "code",
   "execution_count": 9,
   "metadata": {},
   "outputs": [
    {
     "name": "stdout",
     "output_type": "stream",
     "text": [
      "accuracy: 0.9555555555555556\n",
      "f1 score: 0.9558404558404558\n"
     ]
    }
   ],
   "source": [
    "print(f\"accuracy: {accuracy_score(y_test, predicted_y_test)}\")\n",
    "f1 = f1_score(y_test, predicted_y_test, average='macro') # macro means that the score is calculated for each class and then averaged\n",
    "print(f\"f1 score: {f1}\")"
   ]
  },
  {
   "cell_type": "markdown",
   "metadata": {},
   "source": [
    "##### Cross Validation"
   ]
  },
  {
   "cell_type": "code",
   "execution_count": 10,
   "metadata": {},
   "outputs": [
    {
     "name": "stdout",
     "output_type": "stream",
     "text": [
      "cross validation scores: [0.96666667 1.         0.86666667 0.86666667 1.        ]\n",
      "cross validation f1 scores: [0.96658312 1.         0.86111111 0.86666667 1.        ]\n"
     ]
    }
   ],
   "source": [
    "#cross validation\n",
    "accuracy_scores = cross_val_score(clf, iris.data, iris.target, cv=5) # default score is the accuracy, 5-fold cross validation\n",
    "print(f\"cross validation scores: {accuracy_scores}\")\n",
    "f1_scores = cross_val_score(clf, iris.data, iris.target, cv=5, scoring='f1_macro') \n",
    "print(f\"cross validation f1 scores: {f1_scores}\")"
   ]
  },
  {
   "cell_type": "markdown",
   "metadata": {},
   "source": [
    "##### Visualize the Tree with Graphviz"
   ]
  },
  {
   "cell_type": "code",
   "execution_count": 11,
   "metadata": {},
   "outputs": [
    {
     "data": {
      "image/svg+xml": "<?xml version=\"1.0\" encoding=\"UTF-8\" standalone=\"no\"?>\n<!DOCTYPE svg PUBLIC \"-//W3C//DTD SVG 1.1//EN\"\n \"http://www.w3.org/Graphics/SVG/1.1/DTD/svg11.dtd\">\n<!-- Generated by graphviz version 6.0.1 (20220911.1526)\n -->\n<!-- Title: Tree Pages: 1 -->\n<svg width=\"660pt\" height=\"552pt\"\n viewBox=\"0.00 0.00 660.00 552.00\" xmlns=\"http://www.w3.org/2000/svg\" xmlns:xlink=\"http://www.w3.org/1999/xlink\">\n<g id=\"graph0\" class=\"graph\" transform=\"scale(1 1) rotate(0) translate(4 548)\">\n<title>Tree</title>\n<polygon fill=\"white\" stroke=\"none\" points=\"-4,4 -4,-548 656,-548 656,4 -4,4\"/>\n<!-- 0 -->\n<g id=\"node1\" class=\"node\">\n<title>0</title>\n<path fill=\"#ffffff\" stroke=\"black\" d=\"M366,-544C366,-544 225,-544 225,-544 219,-544 213,-538 213,-532 213,-532 213,-473 213,-473 213,-467 219,-461 225,-461 225,-461 366,-461 366,-461 372,-461 378,-467 378,-473 378,-473 378,-532 378,-532 378,-538 372,-544 366,-544\"/>\n<text text-anchor=\"start\" x=\"221\" y=\"-528.8\" font-family=\"Helvetica,sans-Serif\" font-size=\"14.00\">petal length (cm) ≤ 2.45</text>\n<text text-anchor=\"start\" x=\"245.5\" y=\"-513.8\" font-family=\"Helvetica,sans-Serif\" font-size=\"14.00\">entropy = 1.585</text>\n<text text-anchor=\"start\" x=\"248\" y=\"-498.8\" font-family=\"Helvetica,sans-Serif\" font-size=\"14.00\">samples = 150</text>\n<text text-anchor=\"start\" x=\"235\" y=\"-483.8\" font-family=\"Helvetica,sans-Serif\" font-size=\"14.00\">value = [50, 50, 50]</text>\n<text text-anchor=\"start\" x=\"249.5\" y=\"-468.8\" font-family=\"Helvetica,sans-Serif\" font-size=\"14.00\">class = setosa</text>\n</g>\n<!-- 1 -->\n<g id=\"node2\" class=\"node\">\n<title>1</title>\n<path fill=\"#e58139\" stroke=\"black\" d=\"M265,-417.5C265,-417.5 168,-417.5 168,-417.5 162,-417.5 156,-411.5 156,-405.5 156,-405.5 156,-361.5 156,-361.5 156,-355.5 162,-349.5 168,-349.5 168,-349.5 265,-349.5 265,-349.5 271,-349.5 277,-355.5 277,-361.5 277,-361.5 277,-405.5 277,-405.5 277,-411.5 271,-417.5 265,-417.5\"/>\n<text text-anchor=\"start\" x=\"174.5\" y=\"-402.3\" font-family=\"Helvetica,sans-Serif\" font-size=\"14.00\">entropy = 0.0</text>\n<text text-anchor=\"start\" x=\"173\" y=\"-387.3\" font-family=\"Helvetica,sans-Serif\" font-size=\"14.00\">samples = 50</text>\n<text text-anchor=\"start\" x=\"164\" y=\"-372.3\" font-family=\"Helvetica,sans-Serif\" font-size=\"14.00\">value = [50, 0, 0]</text>\n<text text-anchor=\"start\" x=\"170.5\" y=\"-357.3\" font-family=\"Helvetica,sans-Serif\" font-size=\"14.00\">class = setosa</text>\n</g>\n<!-- 0&#45;&gt;1 -->\n<g id=\"edge1\" class=\"edge\">\n<title>0&#45;&gt;1</title>\n<path fill=\"none\" stroke=\"black\" d=\"M268.09,-460.91C260.49,-449.65 252.23,-437.42 244.59,-426.11\"/>\n<polygon fill=\"black\" stroke=\"black\" points=\"247.39,-424 238.89,-417.67 241.59,-427.91 247.39,-424\"/>\n<text text-anchor=\"middle\" x=\"234.14\" y=\"-438.51\" font-family=\"Helvetica,sans-Serif\" font-size=\"14.00\">True</text>\n</g>\n<!-- 2 -->\n<g id=\"node3\" class=\"node\">\n<title>2</title>\n<path fill=\"#ffffff\" stroke=\"black\" d=\"M442,-425C442,-425 307,-425 307,-425 301,-425 295,-419 295,-413 295,-413 295,-354 295,-354 295,-348 301,-342 307,-342 307,-342 442,-342 442,-342 448,-342 454,-348 454,-354 454,-354 454,-413 454,-413 454,-419 448,-425 442,-425\"/>\n<text text-anchor=\"start\" x=\"303\" y=\"-409.8\" font-family=\"Helvetica,sans-Serif\" font-size=\"14.00\">petal width (cm) ≤ 1.75</text>\n<text text-anchor=\"start\" x=\"332.5\" y=\"-394.8\" font-family=\"Helvetica,sans-Serif\" font-size=\"14.00\">entropy = 1.0</text>\n<text text-anchor=\"start\" x=\"327\" y=\"-379.8\" font-family=\"Helvetica,sans-Serif\" font-size=\"14.00\">samples = 100</text>\n<text text-anchor=\"start\" x=\"318\" y=\"-364.8\" font-family=\"Helvetica,sans-Serif\" font-size=\"14.00\">value = [0, 50, 50]</text>\n<text text-anchor=\"start\" x=\"319\" y=\"-349.8\" font-family=\"Helvetica,sans-Serif\" font-size=\"14.00\">class = versicolor</text>\n</g>\n<!-- 0&#45;&gt;2 -->\n<g id=\"edge2\" class=\"edge\">\n<title>0&#45;&gt;2</title>\n<path fill=\"none\" stroke=\"black\" d=\"M322.91,-460.91C328.91,-452.01 335.33,-442.51 341.53,-433.33\"/>\n<polygon fill=\"black\" stroke=\"black\" points=\"344.44,-435.27 347.14,-425.02 338.64,-431.35 344.44,-435.27\"/>\n<text text-anchor=\"middle\" x=\"351.9\" y=\"-445.86\" font-family=\"Helvetica,sans-Serif\" font-size=\"14.00\">False</text>\n</g>\n<!-- 3 -->\n<g id=\"node4\" class=\"node\">\n<title>3</title>\n<path fill=\"#4de88e\" stroke=\"black\" d=\"M354,-306C354,-306 213,-306 213,-306 207,-306 201,-300 201,-294 201,-294 201,-235 201,-235 201,-229 207,-223 213,-223 213,-223 354,-223 354,-223 360,-223 366,-229 366,-235 366,-235 366,-294 366,-294 366,-300 360,-306 354,-306\"/>\n<text text-anchor=\"start\" x=\"209\" y=\"-290.8\" font-family=\"Helvetica,sans-Serif\" font-size=\"14.00\">petal length (cm) ≤ 4.95</text>\n<text text-anchor=\"start\" x=\"233.5\" y=\"-275.8\" font-family=\"Helvetica,sans-Serif\" font-size=\"14.00\">entropy = 0.445</text>\n<text text-anchor=\"start\" x=\"240\" y=\"-260.8\" font-family=\"Helvetica,sans-Serif\" font-size=\"14.00\">samples = 54</text>\n<text text-anchor=\"start\" x=\"231\" y=\"-245.8\" font-family=\"Helvetica,sans-Serif\" font-size=\"14.00\">value = [0, 49, 5]</text>\n<text text-anchor=\"start\" x=\"228\" y=\"-230.8\" font-family=\"Helvetica,sans-Serif\" font-size=\"14.00\">class = versicolor</text>\n</g>\n<!-- 2&#45;&gt;3 -->\n<g id=\"edge3\" class=\"edge\">\n<title>2&#45;&gt;3</title>\n<path fill=\"none\" stroke=\"black\" d=\"M342.93,-341.91C335.94,-332.92 328.47,-323.32 321.26,-314.05\"/>\n<polygon fill=\"black\" stroke=\"black\" points=\"323.92,-311.77 315.02,-306.02 318.39,-316.06 323.92,-311.77\"/>\n</g>\n<!-- 8 -->\n<g id=\"node9\" class=\"node\">\n<title>8</title>\n<path fill=\"#843de6\" stroke=\"black\" d=\"M537,-306C537,-306 396,-306 396,-306 390,-306 384,-300 384,-294 384,-294 384,-235 384,-235 384,-229 390,-223 396,-223 396,-223 537,-223 537,-223 543,-223 549,-229 549,-235 549,-235 549,-294 549,-294 549,-300 543,-306 537,-306\"/>\n<text text-anchor=\"start\" x=\"392\" y=\"-290.8\" font-family=\"Helvetica,sans-Serif\" font-size=\"14.00\">petal length (cm) ≤ 4.95</text>\n<text text-anchor=\"start\" x=\"416.5\" y=\"-275.8\" font-family=\"Helvetica,sans-Serif\" font-size=\"14.00\">entropy = 0.151</text>\n<text text-anchor=\"start\" x=\"423\" y=\"-260.8\" font-family=\"Helvetica,sans-Serif\" font-size=\"14.00\">samples = 46</text>\n<text text-anchor=\"start\" x=\"414\" y=\"-245.8\" font-family=\"Helvetica,sans-Serif\" font-size=\"14.00\">value = [0, 1, 45]</text>\n<text text-anchor=\"start\" x=\"416.5\" y=\"-230.8\" font-family=\"Helvetica,sans-Serif\" font-size=\"14.00\">class = virginica</text>\n</g>\n<!-- 2&#45;&gt;8 -->\n<g id=\"edge8\" class=\"edge\">\n<title>2&#45;&gt;8</title>\n<path fill=\"none\" stroke=\"black\" d=\"M406.42,-341.91C413.48,-332.92 421.04,-323.32 428.32,-314.05\"/>\n<polygon fill=\"black\" stroke=\"black\" points=\"431.21,-316.05 434.64,-306.02 425.7,-311.72 431.21,-316.05\"/>\n</g>\n<!-- 4 -->\n<g id=\"node5\" class=\"node\">\n<title>4</title>\n<path fill=\"#3de684\" stroke=\"black\" d=\"M208,-187C208,-187 63,-187 63,-187 57,-187 51,-181 51,-175 51,-175 51,-116 51,-116 51,-110 57,-104 63,-104 63,-104 208,-104 208,-104 214,-104 220,-110 220,-116 220,-116 220,-175 220,-175 220,-181 214,-187 208,-187\"/>\n<text text-anchor=\"start\" x=\"59\" y=\"-171.8\" font-family=\"Helvetica,sans-Serif\" font-size=\"14.00\">sepal length (cm) ≤ 5.15</text>\n<text text-anchor=\"start\" x=\"85.5\" y=\"-156.8\" font-family=\"Helvetica,sans-Serif\" font-size=\"14.00\">entropy = 0.146</text>\n<text text-anchor=\"start\" x=\"92\" y=\"-141.8\" font-family=\"Helvetica,sans-Serif\" font-size=\"14.00\">samples = 48</text>\n<text text-anchor=\"start\" x=\"83\" y=\"-126.8\" font-family=\"Helvetica,sans-Serif\" font-size=\"14.00\">value = [0, 47, 1]</text>\n<text text-anchor=\"start\" x=\"80\" y=\"-111.8\" font-family=\"Helvetica,sans-Serif\" font-size=\"14.00\">class = versicolor</text>\n</g>\n<!-- 3&#45;&gt;4 -->\n<g id=\"edge4\" class=\"edge\">\n<title>3&#45;&gt;4</title>\n<path fill=\"none\" stroke=\"black\" d=\"M232.15,-222.91C220.1,-213.38 207.16,-203.15 194.79,-193.37\"/>\n<polygon fill=\"black\" stroke=\"black\" points=\"196.77,-190.48 186.76,-187.02 192.43,-195.97 196.77,-190.48\"/>\n</g>\n<!-- 7 -->\n<g id=\"node8\" class=\"node\">\n<title>7</title>\n<path fill=\"#c09cf2\" stroke=\"black\" d=\"M342.5,-179.5C342.5,-179.5 250.5,-179.5 250.5,-179.5 244.5,-179.5 238.5,-173.5 238.5,-167.5 238.5,-167.5 238.5,-123.5 238.5,-123.5 238.5,-117.5 244.5,-111.5 250.5,-111.5 250.5,-111.5 342.5,-111.5 342.5,-111.5 348.5,-111.5 354.5,-117.5 354.5,-123.5 354.5,-123.5 354.5,-167.5 354.5,-167.5 354.5,-173.5 348.5,-179.5 342.5,-179.5\"/>\n<text text-anchor=\"start\" x=\"246.5\" y=\"-164.3\" font-family=\"Helvetica,sans-Serif\" font-size=\"14.00\">entropy = 0.918</text>\n<text text-anchor=\"start\" x=\"257\" y=\"-149.3\" font-family=\"Helvetica,sans-Serif\" font-size=\"14.00\">samples = 6</text>\n<text text-anchor=\"start\" x=\"248\" y=\"-134.3\" font-family=\"Helvetica,sans-Serif\" font-size=\"14.00\">value = [0, 2, 4]</text>\n<text text-anchor=\"start\" x=\"246.5\" y=\"-119.3\" font-family=\"Helvetica,sans-Serif\" font-size=\"14.00\">class = virginica</text>\n</g>\n<!-- 3&#45;&gt;7 -->\n<g id=\"edge7\" class=\"edge\">\n<title>3&#45;&gt;7</title>\n<path fill=\"none\" stroke=\"black\" d=\"M288.01,-222.91C289.2,-212.2 290.49,-200.62 291.69,-189.78\"/>\n<polygon fill=\"black\" stroke=\"black\" points=\"295.19,-189.99 292.81,-179.67 288.23,-189.22 295.19,-189.99\"/>\n</g>\n<!-- 5 -->\n<g id=\"node6\" class=\"node\">\n<title>5</title>\n<path fill=\"#6aeca0\" stroke=\"black\" d=\"M115,-68C115,-68 12,-68 12,-68 6,-68 0,-62 0,-56 0,-56 0,-12 0,-12 0,-6 6,0 12,0 12,0 115,0 115,0 121,0 127,-6 127,-12 127,-12 127,-56 127,-56 127,-62 121,-68 115,-68\"/>\n<text text-anchor=\"start\" x=\"13.5\" y=\"-52.8\" font-family=\"Helvetica,sans-Serif\" font-size=\"14.00\">entropy = 0.722</text>\n<text text-anchor=\"start\" x=\"24\" y=\"-37.8\" font-family=\"Helvetica,sans-Serif\" font-size=\"14.00\">samples = 5</text>\n<text text-anchor=\"start\" x=\"15\" y=\"-22.8\" font-family=\"Helvetica,sans-Serif\" font-size=\"14.00\">value = [0, 4, 1]</text>\n<text text-anchor=\"start\" x=\"8\" y=\"-7.8\" font-family=\"Helvetica,sans-Serif\" font-size=\"14.00\">class = versicolor</text>\n</g>\n<!-- 4&#45;&gt;5 -->\n<g id=\"edge5\" class=\"edge\">\n<title>4&#45;&gt;5</title>\n<path fill=\"none\" stroke=\"black\" d=\"M108.69,-103.73C102.93,-94.97 96.84,-85.7 91.05,-76.91\"/>\n<polygon fill=\"black\" stroke=\"black\" points=\"93.81,-74.73 85.4,-68.3 87.97,-78.58 93.81,-74.73\"/>\n</g>\n<!-- 6 -->\n<g id=\"node7\" class=\"node\">\n<title>6</title>\n<path fill=\"#39e581\" stroke=\"black\" d=\"M260,-68C260,-68 157,-68 157,-68 151,-68 145,-62 145,-56 145,-56 145,-12 145,-12 145,-6 151,0 157,0 157,0 260,0 260,0 266,0 272,-6 272,-12 272,-12 272,-56 272,-56 272,-62 266,-68 260,-68\"/>\n<text text-anchor=\"start\" x=\"166.5\" y=\"-52.8\" font-family=\"Helvetica,sans-Serif\" font-size=\"14.00\">entropy = 0.0</text>\n<text text-anchor=\"start\" x=\"165\" y=\"-37.8\" font-family=\"Helvetica,sans-Serif\" font-size=\"14.00\">samples = 43</text>\n<text text-anchor=\"start\" x=\"156\" y=\"-22.8\" font-family=\"Helvetica,sans-Serif\" font-size=\"14.00\">value = [0, 43, 0]</text>\n<text text-anchor=\"start\" x=\"153\" y=\"-7.8\" font-family=\"Helvetica,sans-Serif\" font-size=\"14.00\">class = versicolor</text>\n</g>\n<!-- 4&#45;&gt;6 -->\n<g id=\"edge6\" class=\"edge\">\n<title>4&#45;&gt;6</title>\n<path fill=\"none\" stroke=\"black\" d=\"M162.68,-103.73C168.58,-94.88 174.83,-85.51 180.75,-76.63\"/>\n<polygon fill=\"black\" stroke=\"black\" points=\"183.67,-78.56 186.3,-68.3 177.84,-74.68 183.67,-78.56\"/>\n</g>\n<!-- 9 -->\n<g id=\"node10\" class=\"node\">\n<title>9</title>\n<path fill=\"#9a61ea\" stroke=\"black\" d=\"M500.5,-179.5C500.5,-179.5 408.5,-179.5 408.5,-179.5 402.5,-179.5 396.5,-173.5 396.5,-167.5 396.5,-167.5 396.5,-123.5 396.5,-123.5 396.5,-117.5 402.5,-111.5 408.5,-111.5 408.5,-111.5 500.5,-111.5 500.5,-111.5 506.5,-111.5 512.5,-117.5 512.5,-123.5 512.5,-123.5 512.5,-167.5 512.5,-167.5 512.5,-173.5 506.5,-179.5 500.5,-179.5\"/>\n<text text-anchor=\"start\" x=\"408.5\" y=\"-164.3\" font-family=\"Helvetica,sans-Serif\" font-size=\"14.00\">entropy = 0.65</text>\n<text text-anchor=\"start\" x=\"415\" y=\"-149.3\" font-family=\"Helvetica,sans-Serif\" font-size=\"14.00\">samples = 6</text>\n<text text-anchor=\"start\" x=\"406\" y=\"-134.3\" font-family=\"Helvetica,sans-Serif\" font-size=\"14.00\">value = [0, 1, 5]</text>\n<text text-anchor=\"start\" x=\"404.5\" y=\"-119.3\" font-family=\"Helvetica,sans-Serif\" font-size=\"14.00\">class = virginica</text>\n</g>\n<!-- 8&#45;&gt;9 -->\n<g id=\"edge9\" class=\"edge\">\n<title>8&#45;&gt;9</title>\n<path fill=\"none\" stroke=\"black\" d=\"M462.34,-222.91C461.24,-212.2 460.05,-200.62 458.94,-189.78\"/>\n<polygon fill=\"black\" stroke=\"black\" points=\"462.4,-189.26 457.9,-179.67 455.44,-189.97 462.4,-189.26\"/>\n</g>\n<!-- 10 -->\n<g id=\"node11\" class=\"node\">\n<title>10</title>\n<path fill=\"#8139e5\" stroke=\"black\" d=\"M640,-179.5C640,-179.5 543,-179.5 543,-179.5 537,-179.5 531,-173.5 531,-167.5 531,-167.5 531,-123.5 531,-123.5 531,-117.5 537,-111.5 543,-111.5 543,-111.5 640,-111.5 640,-111.5 646,-111.5 652,-117.5 652,-123.5 652,-123.5 652,-167.5 652,-167.5 652,-173.5 646,-179.5 640,-179.5\"/>\n<text text-anchor=\"start\" x=\"549.5\" y=\"-164.3\" font-family=\"Helvetica,sans-Serif\" font-size=\"14.00\">entropy = 0.0</text>\n<text text-anchor=\"start\" x=\"548\" y=\"-149.3\" font-family=\"Helvetica,sans-Serif\" font-size=\"14.00\">samples = 40</text>\n<text text-anchor=\"start\" x=\"539\" y=\"-134.3\" font-family=\"Helvetica,sans-Serif\" font-size=\"14.00\">value = [0, 0, 40]</text>\n<text text-anchor=\"start\" x=\"541.5\" y=\"-119.3\" font-family=\"Helvetica,sans-Serif\" font-size=\"14.00\">class = virginica</text>\n</g>\n<!-- 8&#45;&gt;10 -->\n<g id=\"edge10\" class=\"edge\">\n<title>8&#45;&gt;10</title>\n<path fill=\"none\" stroke=\"black\" d=\"M509.87,-222.91C522.36,-211.21 535.99,-198.46 548.47,-186.78\"/>\n<polygon fill=\"black\" stroke=\"black\" points=\"551.16,-189.06 556.07,-179.67 546.37,-183.95 551.16,-189.06\"/>\n</g>\n</g>\n</svg>\n",
      "text/plain": [
       "<graphviz.sources.Source at 0x22354d504f0>"
      ]
     },
     "execution_count": 11,
     "metadata": {},
     "output_type": "execute_result"
    }
   ],
   "source": [
    "# initialize another classifier to visualize the graph on the total examples\n",
    "clf_graph = tree.DecisionTreeClassifier(criterion=\"entropy\",random_state=300,min_samples_leaf=5,class_weight={0:1,1:1,2:1})\n",
    "clf_graph = clf_graph.fit(iris.data, iris.target)\n",
    "\n",
    "dot_data = tree.export_graphviz(clf_graph, out_file=None, \n",
    "                                feature_names=iris.feature_names,\n",
    "                                class_names=iris.target_names,\n",
    "                                filled=True, rounded=True,\n",
    "                                special_characters=True)\n",
    "graph = graphviz.Source(dot_data)\n",
    "graph"
   ]
  },
  {
   "cell_type": "markdown",
   "metadata": {},
   "source": [
    "- The maximum entropy is log2(3) = 1.585\n",
    "- The minimum entropy is 0\n",
    "- The class is chosen by the majority of the samples"
   ]
  },
  {
   "cell_type": "markdown",
   "metadata": {},
   "source": [
    "### 1 Oversampling (Artificial Inflation)"
   ]
  },
  {
   "cell_type": "markdown",
   "metadata": {},
   "source": [
    "Applicate un sovracampionamento (artificial inflation) ad una classe nel training set con un determinato fattore: 10 (si pesi di più una delle classi tra virginica o versicolor che sono più difficili da discriminare). Si apprenda l'albero di decisione in queste condizioni."
   ]
  },
  {
   "cell_type": "code",
   "execution_count": 6,
   "metadata": {},
   "outputs": [],
   "source": [
    "def oversampling(X_train, y_train, oversampling_factor):\n",
    "\tX_train_augmented = []\n",
    "\ty_train_augmented = []\n",
    "\tfor (x,y) in zip(X_train, y_train):\n",
    "\t\tif y == 2:\n",
    "\t\t\tX_train_augmented.extend(repeat(x, oversampling_factor))\n",
    "\t\t\ty_train_augmented.extend(repeat(y, oversampling_factor))\n",
    "\t\telse:\n",
    "\t\t\tX_train_augmented.append(x)\n",
    "\t\t\ty_train_augmented.append(y)\n",
    "\treturn X_train_augmented, y_train_augmented\n",
    "\n",
    "def oversampling_list(X_train, y_train, oversampling_factor):\n",
    "\tX_train_augmented = []\n",
    "\ty_train_augmented = []\n",
    "\tfor (x,y) in zip(X_train, y_train):\n",
    "\t\tif 2 in y:\n",
    "\t\t\tX_train_augmented.extend(repeat(x, oversampling_factor))\n",
    "\t\t\ty_train_augmented.extend(repeat(y, oversampling_factor))\n",
    "\t\telse:\n",
    "\t\t\tX_train_augmented.append(x)\n",
    "\t\t\ty_train_augmented.append(y)\n",
    "\treturn X_train_augmented, y_train_augmented\n",
    "\n",
    "def compute_fp_tp_fn_tn(real_value, predicted_value, positive_class):\n",
    "\t# returns tuple (fp, tp, fn, tn)\n",
    "\tfp, tp, fn, tn = 0, 0, 0, 0\n",
    "\tfor i in range(len(real_value)):\n",
    "\t\tif real_value[i] == positive_class and predicted_value[i] == positive_class:\n",
    "\t\t\ttp += 1\n",
    "\t\telif real_value[i] != positive_class and predicted_value[i] == positive_class:\n",
    "\t\t\tfp += 1\n",
    "\t\telif real_value[i] == positive_class and predicted_value[i] != positive_class:\n",
    "\t\t\tfn += 1\n",
    "\t\telif real_value[i] != positive_class and predicted_value[i] != positive_class:\n",
    "\t\t\ttn += 1\n",
    "\treturn fp, tp, fn, tn"
   ]
  },
  {
   "cell_type": "markdown",
   "metadata": {},
   "source": [
    "#### Starting Tree"
   ]
  },
  {
   "cell_type": "code",
   "execution_count": 65,
   "metadata": {},
   "outputs": [
    {
     "name": "stdout",
     "output_type": "stream",
     "text": [
      "accuracy_homemade for class 0: 1.0\n",
      "precision for class 0: 1.0\n",
      "recall for class 0 : 1.0\n",
      "\n",
      "\n",
      "accuracy_homemade for class 1: 0.9555555555555556\n",
      "precision for class 1: 0.9444444444444444\n",
      "recall for class 1 : 0.9444444444444444\n",
      "\n",
      "\n",
      "accuracy_homemade for class 2: 0.9555555555555556\n",
      "precision for class 2: 0.9230769230769231\n",
      "recall for class 2 : 0.9230769230769231\n",
      "\n",
      "\n",
      "accuracy: 0.9555555555555556\n",
      "f1 score: 0.9558404558404558\n"
     ]
    },
    {
     "data": {
      "text/plain": [
       "array([[14,  0,  0],\n",
       "       [ 0, 17,  1],\n",
       "       [ 0,  1, 12]], dtype=int64)"
      ]
     },
     "execution_count": 65,
     "metadata": {},
     "output_type": "execute_result"
    }
   ],
   "source": [
    "clf =  tree.DecisionTreeClassifier(criterion=\"entropy\",random_state=300,min_samples_leaf=30,class_weight={0:1,1:1,2:1},max_depth=2)\n",
    "iris = load_iris()\n",
    "X_train, X_test, y_train, y_test = train_test_split(iris.data, iris.target, test_size=0.3, random_state=1)\n",
    "\n",
    "clf = clf.fit(X_train, y_train)\n",
    "predicted_y_test = clf.predict(X_test)\n",
    "\n",
    "fp, tp, fn, tn = 0, 0, 0, 0\n",
    "for i in range(0,3):\n",
    "\tfp, tp, fn, tn = compute_fp_tp_fn_tn(y_test, predicted_y_test, i)\n",
    "\tprint(f\"accuracy_homemade for class {i}: {(tp+tn) / (tp+tn+fp+fn)}\")\n",
    "\tprint(f\"precision for class {i}: {tp / (tp+fp)}\")\n",
    "\tprint(f\"recall for class {i} : {tp / (tp+fn)}\")\n",
    "\tprint('\\n')\n",
    "\n",
    "print(f\"accuracy: {accuracy_score(y_test, predicted_y_test)}\")\n",
    "\n",
    "f1 = f1_score(y_test, predicted_y_test, average='macro') # macro means that the score is calculated for each class and then averaged\n",
    "print(f\"f1 score: {f1}\")\n",
    "\n",
    "confusion_matrix(y_test, predicted_y_test)"
   ]
  },
  {
   "cell_type": "markdown",
   "metadata": {},
   "source": [
    "Schema one-vs-rest"
   ]
  },
  {
   "cell_type": "code",
   "execution_count": 12,
   "metadata": {},
   "outputs": [
    {
     "data": {
      "image/png": "[encoded data removed]",
      "text/plain": [
       "<Figure size 432x288 with 1 Axes>"
      ]
     },
     "metadata": {
      "needs_background": "light"
     },
     "output_type": "display_data"
    }
   ],
   "source": [
    "X = iris.data\n",
    "y = iris.target\n",
    "\n",
    "# Binarize the output\n",
    "y = label_binarize(y, classes=[0, 1, 2])\n",
    "n_classes = y.shape[1]\n",
    "\n",
    "# shuffle and split training and test sets\n",
    "X_train, X_test, y_train, y_test = train_test_split(X, y, test_size=0.3, random_state=1)\n",
    "\n",
    "# Learn to predict each class against the other\n",
    "classifier = OneVsRestClassifier(tree.DecisionTreeClassifier(criterion=\"entropy\",random_state=300,min_samples_leaf=5,class_weight={0:1,1:1,2:1}))\n",
    "\n",
    "y_score = classifier.fit(X_train, y_train).predict_proba(X_test)\n",
    "\n",
    "# Compute ROC curve and ROC area for each class\n",
    "fpr = dict()\n",
    "tpr = dict()\n",
    "roc_auc = dict()\n",
    "for i in range(n_classes):\n",
    "\tfpr, tpr, thresholds = metrics.roc_curve(y_test[:, i], y_score[:, i])\n",
    "\troc_auc = metrics.auc(fpr, tpr)\n",
    "\tplt.plot(fpr,tpr,label=f\"example {i} estimator, AUC={str(roc_auc)}\")\n",
    "\tplt.legend()"
   ]
  },
  {
   "cell_type": "code",
   "execution_count": 27,
   "metadata": {},
   "outputs": [
    {
     "data": {
      "image/svg+xml": "<?xml version=\"1.0\" encoding=\"UTF-8\" standalone=\"no\"?>\n<!DOCTYPE svg PUBLIC \"-//W3C//DTD SVG 1.1//EN\"\n \"http://www.w3.org/Graphics/SVG/1.1/DTD/svg11.dtd\">\n<!-- Generated by graphviz version 6.0.1 (20220911.1526)\n -->\n<!-- Title: Tree Pages: 1 -->\n<svg width=\"358pt\" height=\"314pt\"\n viewBox=\"0.00 0.00 358.00 314.00\" xmlns=\"http://www.w3.org/2000/svg\" xmlns:xlink=\"http://www.w3.org/1999/xlink\">\n<g id=\"graph0\" class=\"graph\" transform=\"scale(1 1) rotate(0) translate(4 310)\">\n<title>Tree</title>\n<polygon fill=\"white\" stroke=\"none\" points=\"-4,4 -4,-310 354,-310 354,4 -4,4\"/>\n<!-- 0 -->\n<g id=\"node1\" class=\"node\">\n<title>0</title>\n<path fill=\"#ffffff\" stroke=\"black\" d=\"M210,-306C210,-306 69,-306 69,-306 63,-306 57,-300 57,-294 57,-294 57,-235 57,-235 57,-229 63,-223 69,-223 69,-223 210,-223 210,-223 216,-223 222,-229 222,-235 222,-235 222,-294 222,-294 222,-300 216,-306 210,-306\"/>\n<text text-anchor=\"start\" x=\"65\" y=\"-290.8\" font-family=\"Helvetica,sans-Serif\" font-size=\"14.00\">petal length (cm) ≤ 2.45</text>\n<text text-anchor=\"start\" x=\"89.5\" y=\"-275.8\" font-family=\"Helvetica,sans-Serif\" font-size=\"14.00\">entropy = 1.585</text>\n<text text-anchor=\"start\" x=\"92\" y=\"-260.8\" font-family=\"Helvetica,sans-Serif\" font-size=\"14.00\">samples = 150</text>\n<text text-anchor=\"start\" x=\"79\" y=\"-245.8\" font-family=\"Helvetica,sans-Serif\" font-size=\"14.00\">value = [50, 50, 50]</text>\n<text text-anchor=\"start\" x=\"93.5\" y=\"-230.8\" font-family=\"Helvetica,sans-Serif\" font-size=\"14.00\">class = setosa</text>\n</g>\n<!-- 1 -->\n<g id=\"node2\" class=\"node\">\n<title>1</title>\n<path fill=\"#e58139\" stroke=\"black\" d=\"M109,-179.5C109,-179.5 12,-179.5 12,-179.5 6,-179.5 0,-173.5 0,-167.5 0,-167.5 0,-123.5 0,-123.5 0,-117.5 6,-111.5 12,-111.5 12,-111.5 109,-111.5 109,-111.5 115,-111.5 121,-117.5 121,-123.5 121,-123.5 121,-167.5 121,-167.5 121,-173.5 115,-179.5 109,-179.5\"/>\n<text text-anchor=\"start\" x=\"18.5\" y=\"-164.3\" font-family=\"Helvetica,sans-Serif\" font-size=\"14.00\">entropy = 0.0</text>\n<text text-anchor=\"start\" x=\"17\" y=\"-149.3\" font-family=\"Helvetica,sans-Serif\" font-size=\"14.00\">samples = 50</text>\n<text text-anchor=\"start\" x=\"8\" y=\"-134.3\" font-family=\"Helvetica,sans-Serif\" font-size=\"14.00\">value = [50, 0, 0]</text>\n<text text-anchor=\"start\" x=\"14.5\" y=\"-119.3\" font-family=\"Helvetica,sans-Serif\" font-size=\"14.00\">class = setosa</text>\n</g>\n<!-- 0&#45;&gt;1 -->\n<g id=\"edge1\" class=\"edge\">\n<title>0&#45;&gt;1</title>\n<path fill=\"none\" stroke=\"black\" d=\"M112.09,-222.91C104.49,-211.65 96.23,-199.42 88.59,-188.11\"/>\n<polygon fill=\"black\" stroke=\"black\" points=\"91.39,-186 82.89,-179.67 85.59,-189.91 91.39,-186\"/>\n<text text-anchor=\"middle\" x=\"78.14\" y=\"-200.51\" font-family=\"Helvetica,sans-Serif\" font-size=\"14.00\">True</text>\n</g>\n<!-- 2 -->\n<g id=\"node3\" class=\"node\">\n<title>2</title>\n<path fill=\"#ffffff\" stroke=\"black\" d=\"M286,-187C286,-187 151,-187 151,-187 145,-187 139,-181 139,-175 139,-175 139,-116 139,-116 139,-110 145,-104 151,-104 151,-104 286,-104 286,-104 292,-104 298,-110 298,-116 298,-116 298,-175 298,-175 298,-181 292,-187 286,-187\"/>\n<text text-anchor=\"start\" x=\"147\" y=\"-171.8\" font-family=\"Helvetica,sans-Serif\" font-size=\"14.00\">petal width (cm) ≤ 1.75</text>\n<text text-anchor=\"start\" x=\"176.5\" y=\"-156.8\" font-family=\"Helvetica,sans-Serif\" font-size=\"14.00\">entropy = 1.0</text>\n<text text-anchor=\"start\" x=\"171\" y=\"-141.8\" font-family=\"Helvetica,sans-Serif\" font-size=\"14.00\">samples = 100</text>\n<text text-anchor=\"start\" x=\"162\" y=\"-126.8\" font-family=\"Helvetica,sans-Serif\" font-size=\"14.00\">value = [0, 50, 50]</text>\n<text text-anchor=\"start\" x=\"163\" y=\"-111.8\" font-family=\"Helvetica,sans-Serif\" font-size=\"14.00\">class = versicolor</text>\n</g>\n<!-- 0&#45;&gt;2 -->\n<g id=\"edge2\" class=\"edge\">\n<title>0&#45;&gt;2</title>\n<path fill=\"none\" stroke=\"black\" d=\"M166.91,-222.91C172.91,-214.01 179.33,-204.51 185.53,-195.33\"/>\n<polygon fill=\"black\" stroke=\"black\" points=\"188.44,-197.27 191.14,-187.02 182.64,-193.35 188.44,-197.27\"/>\n<text text-anchor=\"middle\" x=\"195.9\" y=\"-207.86\" font-family=\"Helvetica,sans-Serif\" font-size=\"14.00\">False</text>\n</g>\n<!-- 3 -->\n<g id=\"node4\" class=\"node\">\n<title>3</title>\n<path fill=\"#4de88e\" stroke=\"black\" d=\"M199,-68C199,-68 96,-68 96,-68 90,-68 84,-62 84,-56 84,-56 84,-12 84,-12 84,-6 90,0 96,0 96,0 199,0 199,0 205,0 211,-6 211,-12 211,-12 211,-56 211,-56 211,-62 205,-68 199,-68\"/>\n<text text-anchor=\"start\" x=\"97.5\" y=\"-52.8\" font-family=\"Helvetica,sans-Serif\" font-size=\"14.00\">entropy = 0.445</text>\n<text text-anchor=\"start\" x=\"104\" y=\"-37.8\" font-family=\"Helvetica,sans-Serif\" font-size=\"14.00\">samples = 54</text>\n<text text-anchor=\"start\" x=\"95\" y=\"-22.8\" font-family=\"Helvetica,sans-Serif\" font-size=\"14.00\">value = [0, 49, 5]</text>\n<text text-anchor=\"start\" x=\"92\" y=\"-7.8\" font-family=\"Helvetica,sans-Serif\" font-size=\"14.00\">class = versicolor</text>\n</g>\n<!-- 2&#45;&gt;3 -->\n<g id=\"edge3\" class=\"edge\">\n<title>2&#45;&gt;3</title>\n<path fill=\"none\" stroke=\"black\" d=\"M192.06,-103.73C186.38,-94.97 180.38,-85.7 174.67,-76.91\"/>\n<polygon fill=\"black\" stroke=\"black\" points=\"177.47,-74.79 169.09,-68.3 171.6,-78.59 177.47,-74.79\"/>\n</g>\n<!-- 4 -->\n<g id=\"node5\" class=\"node\">\n<title>4</title>\n<path fill=\"#843de6\" stroke=\"black\" d=\"M338,-68C338,-68 241,-68 241,-68 235,-68 229,-62 229,-56 229,-56 229,-12 229,-12 229,-6 235,0 241,0 241,0 338,0 338,0 344,0 350,-6 350,-12 350,-12 350,-56 350,-56 350,-62 344,-68 338,-68\"/>\n<text text-anchor=\"start\" x=\"239.5\" y=\"-52.8\" font-family=\"Helvetica,sans-Serif\" font-size=\"14.00\">entropy = 0.151</text>\n<text text-anchor=\"start\" x=\"246\" y=\"-37.8\" font-family=\"Helvetica,sans-Serif\" font-size=\"14.00\">samples = 46</text>\n<text text-anchor=\"start\" x=\"237\" y=\"-22.8\" font-family=\"Helvetica,sans-Serif\" font-size=\"14.00\">value = [0, 1, 45]</text>\n<text text-anchor=\"start\" x=\"239.5\" y=\"-7.8\" font-family=\"Helvetica,sans-Serif\" font-size=\"14.00\">class = virginica</text>\n</g>\n<!-- 2&#45;&gt;4 -->\n<g id=\"edge4\" class=\"edge\">\n<title>2&#45;&gt;4</title>\n<path fill=\"none\" stroke=\"black\" d=\"M244.94,-103.73C250.62,-94.97 256.62,-85.7 262.33,-76.91\"/>\n<polygon fill=\"black\" stroke=\"black\" points=\"265.4,-78.59 267.91,-68.3 259.53,-74.79 265.4,-78.59\"/>\n</g>\n</g>\n</svg>\n",
      "text/plain": [
       "<graphviz.sources.Source at 0x223552e9f60>"
      ]
     },
     "execution_count": 27,
     "metadata": {},
     "output_type": "execute_result"
    }
   ],
   "source": [
    "clf_graph = tree.DecisionTreeClassifier(criterion=\"entropy\",random_state=300,min_samples_leaf=30,class_weight={0:1,1:1,2:1})\n",
    "clf_graph = clf_graph.fit(iris.data, iris.target)\n",
    "\n",
    "dot_data = tree.export_graphviz(clf_graph, out_file=None, \n",
    "                                feature_names=iris.feature_names,\n",
    "                                class_names=iris.target_names,\n",
    "                                filled=True, rounded=True,\n",
    "                                special_characters=True)\n",
    "graph = graphviz.Source(dot_data)\n",
    "graph"
   ]
  },
  {
   "cell_type": "markdown",
   "metadata": {},
   "source": [
    "#### Oversampling Tree"
   ]
  },
  {
   "cell_type": "code",
   "execution_count": 10,
   "metadata": {},
   "outputs": [
    {
     "name": "stdout",
     "output_type": "stream",
     "text": [
      "accuracy_homemade for class 0: 1.0\n",
      "precision for class 0: 1.0\n",
      "recall for class 0 : 1.0\n",
      "\n",
      "\n",
      "accuracy_homemade for class 1: 0.9555555555555556\n",
      "precision for class 1: 0.9444444444444444\n",
      "recall for class 1 : 0.9444444444444444\n",
      "\n",
      "\n",
      "accuracy_homemade for class 2: 0.9555555555555556\n",
      "precision for class 2: 0.9230769230769231\n",
      "recall for class 2 : 0.9230769230769231\n",
      "\n",
      "\n",
      "accuracy: 0.9555555555555556\n",
      "f1 score: 0.9558404558404558\n"
     ]
    },
    {
     "data": {
      "text/plain": [
       "array([[14,  0,  0],\n",
       "       [ 0, 17,  1],\n",
       "       [ 0,  1, 12]], dtype=int64)"
      ]
     },
     "execution_count": 10,
     "metadata": {},
     "output_type": "execute_result"
    }
   ],
   "source": [
    "OVERSAMPLING_FACTOR = 10\n",
    "\n",
    "clf_oversampling = tree.DecisionTreeClassifier(criterion=\"entropy\",random_state=300,min_samples_leaf=5,class_weight={0:1,1:1,2:1})\n",
    "\n",
    "iris = load_iris()\n",
    "X_train, X_test, y_train, y_test = train_test_split(iris.data, iris.target, test_size=0.3, random_state=1)\n",
    "\n",
    "X_train_oversample, y_train_oversample = oversampling(X_train, y_train, OVERSAMPLING_FACTOR)\n",
    "\n",
    "clf_oversampling = clf_oversampling.fit(X_train_oversample, y_train_oversample)\n",
    "\n",
    "predicted_y_test = clf_oversampling.predict(X_test)\n",
    "\n",
    "fp, tp, fn, tn = 0, 0, 0, 0\n",
    "for i in range(0,3):\n",
    "\tfp, tp, fn, tn = compute_fp_tp_fn_tn(y_test, predicted_y_test, i)\n",
    "\tprint(f\"accuracy_homemade for class {i}: {(tp+tn) / (tp+tn+fp+fn)}\")\n",
    "\tprint(f\"precision for class {i}: {tp / (tp+fp)}\")\n",
    "\tprint(f\"recall for class {i} : {tp / (tp+fn)}\")\n",
    "\tprint('\\n')\n",
    "\t\n",
    "\n",
    "print(f\"accuracy: {accuracy_score(y_test, predicted_y_test)}\")\n",
    "\n",
    "f1 = f1_score(y_test, predicted_y_test, average='macro') # macro means that the score is calculated for each class and then averaged\n",
    "print(f\"f1 score: {f1}\")\n",
    "\n",
    "confusion_matrix(y_test, predicted_y_test)"
   ]
  },
  {
   "cell_type": "code",
   "execution_count": 11,
   "metadata": {},
   "outputs": [
    {
     "data": {
      "image/png": "[encoded data removed]",
      "text/plain": [
       "<Figure size 432x288 with 1 Axes>"
      ]
     },
     "metadata": {
      "needs_background": "light"
     },
     "output_type": "display_data"
    }
   ],
   "source": [
    "X = iris.data\n",
    "y = iris.target\n",
    "\n",
    "# Binarize the output\n",
    "y = label_binarize(y, classes=[0, 1, 2])\n",
    "n_classes = y.shape[1]\n",
    "\n",
    "# shuffle and split training and test sets\n",
    "X_train, X_test, y_train, y_test = train_test_split(X, y, test_size=0.3, random_state=1)\n",
    "X_train_oversample, y_train_oversample = oversampling_list(X_train, y_train, OVERSAMPLING_FACTOR)\n",
    "\n",
    "# Learn to predict each class against the other\n",
    "classifier = OneVsRestClassifier(tree.DecisionTreeClassifier(criterion=\"entropy\",random_state=300,min_samples_leaf=5,class_weight={0:1,1:1,2:1}))\n",
    "\n",
    "y_score = classifier.fit(X_train_oversample, y_train_oversample).predict_proba(X_test)\n",
    "\n",
    "# Compute ROC curve and ROC area for each class\n",
    "fpr = dict()\n",
    "tpr = dict()\n",
    "roc_auc = dict()\n",
    "for i in range(n_classes):\n",
    "\tfpr, tpr, thresholds = metrics.roc_curve(y_test[:, i], y_score[:, i])\n",
    "\troc_auc = metrics.auc(fpr, tpr)\n",
    "\tplt.plot(fpr,tpr,label=f\"example {i} estimator, AUC={str(roc_auc)}\")\n",
    "\tplt.legend()"
   ]
  },
  {
   "cell_type": "code",
   "execution_count": 15,
   "metadata": {},
   "outputs": [
    {
     "data": {
      "image/svg+xml": "<?xml version=\"1.0\" encoding=\"UTF-8\" standalone=\"no\"?>\n<!DOCTYPE svg PUBLIC \"-//W3C//DTD SVG 1.1//EN\"\n \"http://www.w3.org/Graphics/SVG/1.1/DTD/svg11.dtd\">\n<!-- Generated by graphviz version 6.0.1 (20220911.1526)\n -->\n<!-- Title: Tree Pages: 1 -->\n<svg width=\"781pt\" height=\"552pt\"\n viewBox=\"0.00 0.00 781.00 552.00\" xmlns=\"http://www.w3.org/2000/svg\" xmlns:xlink=\"http://www.w3.org/1999/xlink\">\n<g id=\"graph0\" class=\"graph\" transform=\"scale(1 1) rotate(0) translate(4 548)\">\n<title>Tree</title>\n<polygon fill=\"white\" stroke=\"none\" points=\"-4,4 -4,-548 777,-548 777,4 -4,4\"/>\n<!-- 0 -->\n<g id=\"node1\" class=\"node\">\n<title>0</title>\n<path fill=\"#965ae9\" stroke=\"black\" d=\"M357,-544C357,-544 216,-544 216,-544 210,-544 204,-538 204,-532 204,-532 204,-473 204,-473 204,-467 210,-461 216,-461 216,-461 357,-461 357,-461 363,-461 369,-467 369,-473 369,-473 369,-532 369,-532 369,-538 363,-544 357,-544\"/>\n<text text-anchor=\"start\" x=\"212\" y=\"-528.8\" font-family=\"Helvetica,sans-Serif\" font-size=\"14.00\">petal length (cm) ≤ 4.45</text>\n<text text-anchor=\"start\" x=\"236.5\" y=\"-513.8\" font-family=\"Helvetica,sans-Serif\" font-size=\"14.00\">entropy = 0.778</text>\n<text text-anchor=\"start\" x=\"239\" y=\"-498.8\" font-family=\"Helvetica,sans-Serif\" font-size=\"14.00\">samples = 438</text>\n<text text-anchor=\"start\" x=\"221.5\" y=\"-483.8\" font-family=\"Helvetica,sans-Serif\" font-size=\"14.00\">value = [36, 32, 370]</text>\n<text text-anchor=\"start\" x=\"236.5\" y=\"-468.8\" font-family=\"Helvetica,sans-Serif\" font-size=\"14.00\">class = virginica</text>\n</g>\n<!-- 1 -->\n<g id=\"node2\" class=\"node\">\n<title>1</title>\n<path fill=\"#f4caac\" stroke=\"black\" d=\"M265,-425C265,-425 132,-425 132,-425 126,-425 120,-419 120,-413 120,-413 120,-354 120,-354 120,-348 126,-342 132,-342 132,-342 265,-342 265,-342 271,-342 277,-348 277,-354 277,-354 277,-413 277,-413 277,-419 271,-425 265,-425\"/>\n<text text-anchor=\"start\" x=\"128\" y=\"-409.8\" font-family=\"Helvetica,sans-Serif\" font-size=\"14.00\">petal length (cm) ≤ 2.6</text>\n<text text-anchor=\"start\" x=\"148.5\" y=\"-394.8\" font-family=\"Helvetica,sans-Serif\" font-size=\"14.00\">entropy = 0.949</text>\n<text text-anchor=\"start\" x=\"155\" y=\"-379.8\" font-family=\"Helvetica,sans-Serif\" font-size=\"14.00\">samples = 57</text>\n<text text-anchor=\"start\" x=\"142\" y=\"-364.8\" font-family=\"Helvetica,sans-Serif\" font-size=\"14.00\">value = [36, 21, 0]</text>\n<text text-anchor=\"start\" x=\"152.5\" y=\"-349.8\" font-family=\"Helvetica,sans-Serif\" font-size=\"14.00\">class = setosa</text>\n</g>\n<!-- 0&#45;&gt;1 -->\n<g id=\"edge1\" class=\"edge\">\n<title>0&#45;&gt;1</title>\n<path fill=\"none\" stroke=\"black\" d=\"M255.97,-460.91C249.21,-451.92 241.98,-442.32 235.02,-433.05\"/>\n<polygon fill=\"black\" stroke=\"black\" points=\"237.79,-430.91 228.98,-425.02 232.19,-435.12 237.79,-430.91\"/>\n<text text-anchor=\"middle\" x=\"225.48\" y=\"-446.07\" font-family=\"Helvetica,sans-Serif\" font-size=\"14.00\">True</text>\n</g>\n<!-- 4 -->\n<g id=\"node5\" class=\"node\">\n<title>4</title>\n<path fill=\"#853fe6\" stroke=\"black\" d=\"M442,-425C442,-425 307,-425 307,-425 301,-425 295,-419 295,-413 295,-413 295,-354 295,-354 295,-348 301,-342 307,-342 307,-342 442,-342 442,-342 448,-342 454,-348 454,-354 454,-354 454,-413 454,-413 454,-419 448,-425 442,-425\"/>\n<text text-anchor=\"start\" x=\"303\" y=\"-409.8\" font-family=\"Helvetica,sans-Serif\" font-size=\"14.00\">petal width (cm) ≤ 1.65</text>\n<text text-anchor=\"start\" x=\"324.5\" y=\"-394.8\" font-family=\"Helvetica,sans-Serif\" font-size=\"14.00\">entropy = 0.189</text>\n<text text-anchor=\"start\" x=\"327\" y=\"-379.8\" font-family=\"Helvetica,sans-Serif\" font-size=\"14.00\">samples = 381</text>\n<text text-anchor=\"start\" x=\"314\" y=\"-364.8\" font-family=\"Helvetica,sans-Serif\" font-size=\"14.00\">value = [0, 11, 370]</text>\n<text text-anchor=\"start\" x=\"324.5\" y=\"-349.8\" font-family=\"Helvetica,sans-Serif\" font-size=\"14.00\">class = virginica</text>\n</g>\n<!-- 0&#45;&gt;4 -->\n<g id=\"edge4\" class=\"edge\">\n<title>0&#45;&gt;4</title>\n<path fill=\"none\" stroke=\"black\" d=\"M317.03,-460.91C323.79,-451.92 331.02,-442.32 337.98,-433.05\"/>\n<polygon fill=\"black\" stroke=\"black\" points=\"340.81,-435.12 344.02,-425.02 335.21,-430.91 340.81,-435.12\"/>\n<text text-anchor=\"middle\" x=\"347.52\" y=\"-446.07\" font-family=\"Helvetica,sans-Serif\" font-size=\"14.00\">False</text>\n</g>\n<!-- 2 -->\n<g id=\"node3\" class=\"node\">\n<title>2</title>\n<path fill=\"#e58139\" stroke=\"black\" d=\"M109,-298.5C109,-298.5 12,-298.5 12,-298.5 6,-298.5 0,-292.5 0,-286.5 0,-286.5 0,-242.5 0,-242.5 0,-236.5 6,-230.5 12,-230.5 12,-230.5 109,-230.5 109,-230.5 115,-230.5 121,-236.5 121,-242.5 121,-242.5 121,-286.5 121,-286.5 121,-292.5 115,-298.5 109,-298.5\"/>\n<text text-anchor=\"start\" x=\"18.5\" y=\"-283.3\" font-family=\"Helvetica,sans-Serif\" font-size=\"14.00\">entropy = 0.0</text>\n<text text-anchor=\"start\" x=\"17\" y=\"-268.3\" font-family=\"Helvetica,sans-Serif\" font-size=\"14.00\">samples = 36</text>\n<text text-anchor=\"start\" x=\"8\" y=\"-253.3\" font-family=\"Helvetica,sans-Serif\" font-size=\"14.00\">value = [36, 0, 0]</text>\n<text text-anchor=\"start\" x=\"14.5\" y=\"-238.3\" font-family=\"Helvetica,sans-Serif\" font-size=\"14.00\">class = setosa</text>\n</g>\n<!-- 1&#45;&gt;2 -->\n<g id=\"edge2\" class=\"edge\">\n<title>1&#45;&gt;2</title>\n<path fill=\"none\" stroke=\"black\" d=\"M150.62,-341.91C136.7,-330.1 121.5,-317.22 107.62,-305.45\"/>\n<polygon fill=\"black\" stroke=\"black\" points=\"109.51,-302.46 99.62,-298.67 104.98,-307.8 109.51,-302.46\"/>\n</g>\n<!-- 3 -->\n<g id=\"node4\" class=\"node\">\n<title>3</title>\n<path fill=\"#39e581\" stroke=\"black\" d=\"M254,-298.5C254,-298.5 151,-298.5 151,-298.5 145,-298.5 139,-292.5 139,-286.5 139,-286.5 139,-242.5 139,-242.5 139,-236.5 145,-230.5 151,-230.5 151,-230.5 254,-230.5 254,-230.5 260,-230.5 266,-236.5 266,-242.5 266,-242.5 266,-286.5 266,-286.5 266,-292.5 260,-298.5 254,-298.5\"/>\n<text text-anchor=\"start\" x=\"160.5\" y=\"-283.3\" font-family=\"Helvetica,sans-Serif\" font-size=\"14.00\">entropy = 0.0</text>\n<text text-anchor=\"start\" x=\"159\" y=\"-268.3\" font-family=\"Helvetica,sans-Serif\" font-size=\"14.00\">samples = 21</text>\n<text text-anchor=\"start\" x=\"150\" y=\"-253.3\" font-family=\"Helvetica,sans-Serif\" font-size=\"14.00\">value = [0, 21, 0]</text>\n<text text-anchor=\"start\" x=\"147\" y=\"-238.3\" font-family=\"Helvetica,sans-Serif\" font-size=\"14.00\">class = versicolor</text>\n</g>\n<!-- 1&#45;&gt;3 -->\n<g id=\"edge3\" class=\"edge\">\n<title>1&#45;&gt;3</title>\n<path fill=\"none\" stroke=\"black\" d=\"M199.89,-341.91C200.25,-331.2 200.65,-319.62 201.02,-308.78\"/>\n<polygon fill=\"black\" stroke=\"black\" points=\"204.52,-308.78 201.37,-298.67 197.53,-308.54 204.52,-308.78\"/>\n</g>\n<!-- 5 -->\n<g id=\"node6\" class=\"node\">\n<title>5</title>\n<path fill=\"#ab7bee\" stroke=\"black\" d=\"M437,-306C437,-306 304,-306 304,-306 298,-306 292,-300 292,-294 292,-294 292,-235 292,-235 292,-229 298,-223 304,-223 304,-223 437,-223 437,-223 443,-223 449,-229 449,-235 449,-235 449,-294 449,-294 449,-300 443,-306 437,-306\"/>\n<text text-anchor=\"start\" x=\"300\" y=\"-290.8\" font-family=\"Helvetica,sans-Serif\" font-size=\"14.00\">petal length (cm) ≤ 5.0</text>\n<text text-anchor=\"start\" x=\"320.5\" y=\"-275.8\" font-family=\"Helvetica,sans-Serif\" font-size=\"14.00\">entropy = 0.811</text>\n<text text-anchor=\"start\" x=\"327\" y=\"-260.8\" font-family=\"Helvetica,sans-Serif\" font-size=\"14.00\">samples = 40</text>\n<text text-anchor=\"start\" x=\"314\" y=\"-245.8\" font-family=\"Helvetica,sans-Serif\" font-size=\"14.00\">value = [0, 10, 30]</text>\n<text text-anchor=\"start\" x=\"320.5\" y=\"-230.8\" font-family=\"Helvetica,sans-Serif\" font-size=\"14.00\">class = virginica</text>\n</g>\n<!-- 4&#45;&gt;5 -->\n<g id=\"edge5\" class=\"edge\">\n<title>4&#45;&gt;5</title>\n<path fill=\"none\" stroke=\"black\" d=\"M373.11,-341.91C372.83,-333.56 372.52,-324.67 372.23,-316.02\"/>\n<polygon fill=\"black\" stroke=\"black\" points=\"375.73,-315.9 371.89,-306.02 368.73,-316.13 375.73,-315.9\"/>\n</g>\n<!-- 10 -->\n<g id=\"node11\" class=\"node\">\n<title>10</title>\n<path fill=\"#813ae5\" stroke=\"black\" d=\"M620,-306C620,-306 479,-306 479,-306 473,-306 467,-300 467,-294 467,-294 467,-235 467,-235 467,-229 473,-223 479,-223 479,-223 620,-223 620,-223 626,-223 632,-229 632,-235 632,-235 632,-294 632,-294 632,-300 626,-306 620,-306\"/>\n<text text-anchor=\"start\" x=\"475\" y=\"-290.8\" font-family=\"Helvetica,sans-Serif\" font-size=\"14.00\">petal length (cm) ≤ 4.85</text>\n<text text-anchor=\"start\" x=\"499.5\" y=\"-275.8\" font-family=\"Helvetica,sans-Serif\" font-size=\"14.00\">entropy = 0.029</text>\n<text text-anchor=\"start\" x=\"502\" y=\"-260.8\" font-family=\"Helvetica,sans-Serif\" font-size=\"14.00\">samples = 341</text>\n<text text-anchor=\"start\" x=\"493\" y=\"-245.8\" font-family=\"Helvetica,sans-Serif\" font-size=\"14.00\">value = [0, 1, 340]</text>\n<text text-anchor=\"start\" x=\"499.5\" y=\"-230.8\" font-family=\"Helvetica,sans-Serif\" font-size=\"14.00\">class = virginica</text>\n</g>\n<!-- 4&#45;&gt;10 -->\n<g id=\"edge10\" class=\"edge\">\n<title>4&#45;&gt;10</title>\n<path fill=\"none\" stroke=\"black\" d=\"M435.22,-341.91C449.74,-332.2 465.35,-321.76 480.23,-311.81\"/>\n<polygon fill=\"black\" stroke=\"black\" points=\"482.52,-314.49 488.89,-306.02 478.63,-308.67 482.52,-314.49\"/>\n</g>\n<!-- 6 -->\n<g id=\"node7\" class=\"node\">\n<title>6</title>\n<path fill=\"#39e581\" stroke=\"black\" d=\"M261,-179.5C261,-179.5 158,-179.5 158,-179.5 152,-179.5 146,-173.5 146,-167.5 146,-167.5 146,-123.5 146,-123.5 146,-117.5 152,-111.5 158,-111.5 158,-111.5 261,-111.5 261,-111.5 267,-111.5 273,-117.5 273,-123.5 273,-123.5 273,-167.5 273,-167.5 273,-173.5 267,-179.5 261,-179.5\"/>\n<text text-anchor=\"start\" x=\"167.5\" y=\"-164.3\" font-family=\"Helvetica,sans-Serif\" font-size=\"14.00\">entropy = 0.0</text>\n<text text-anchor=\"start\" x=\"170\" y=\"-149.3\" font-family=\"Helvetica,sans-Serif\" font-size=\"14.00\">samples = 9</text>\n<text text-anchor=\"start\" x=\"161\" y=\"-134.3\" font-family=\"Helvetica,sans-Serif\" font-size=\"14.00\">value = [0, 9, 0]</text>\n<text text-anchor=\"start\" x=\"154\" y=\"-119.3\" font-family=\"Helvetica,sans-Serif\" font-size=\"14.00\">class = versicolor</text>\n</g>\n<!-- 5&#45;&gt;6 -->\n<g id=\"edge6\" class=\"edge\">\n<title>5&#45;&gt;6</title>\n<path fill=\"none\" stroke=\"black\" d=\"M314.64,-222.91C298.09,-210.88 280,-197.73 263.57,-185.79\"/>\n<polygon fill=\"black\" stroke=\"black\" points=\"265.29,-182.71 255.14,-179.67 261.17,-188.38 265.29,-182.71\"/>\n</g>\n<!-- 7 -->\n<g id=\"node8\" class=\"node\">\n<title>7</title>\n<path fill=\"#8540e6\" stroke=\"black\" d=\"M440,-187C440,-187 303,-187 303,-187 297,-187 291,-181 291,-175 291,-175 291,-116 291,-116 291,-110 297,-104 303,-104 303,-104 440,-104 440,-104 446,-104 452,-110 452,-116 452,-116 452,-175 452,-175 452,-181 446,-187 440,-187\"/>\n<text text-anchor=\"start\" x=\"299\" y=\"-171.8\" font-family=\"Helvetica,sans-Serif\" font-size=\"14.00\">sepal length (cm) ≤ 6.2</text>\n<text text-anchor=\"start\" x=\"321.5\" y=\"-156.8\" font-family=\"Helvetica,sans-Serif\" font-size=\"14.00\">entropy = 0.206</text>\n<text text-anchor=\"start\" x=\"328\" y=\"-141.8\" font-family=\"Helvetica,sans-Serif\" font-size=\"14.00\">samples = 31</text>\n<text text-anchor=\"start\" x=\"319\" y=\"-126.8\" font-family=\"Helvetica,sans-Serif\" font-size=\"14.00\">value = [0, 1, 30]</text>\n<text text-anchor=\"start\" x=\"321.5\" y=\"-111.8\" font-family=\"Helvetica,sans-Serif\" font-size=\"14.00\">class = virginica</text>\n</g>\n<!-- 5&#45;&gt;7 -->\n<g id=\"edge7\" class=\"edge\">\n<title>5&#45;&gt;7</title>\n<path fill=\"none\" stroke=\"black\" d=\"M370.85,-222.91C370.92,-214.65 370.99,-205.86 371.07,-197.3\"/>\n<polygon fill=\"black\" stroke=\"black\" points=\"374.57,-197.05 371.15,-187.02 367.57,-196.99 374.57,-197.05\"/>\n</g>\n<!-- 8 -->\n<g id=\"node9\" class=\"node\">\n<title>8</title>\n<path fill=\"#8e4de8\" stroke=\"black\" d=\"M290,-68C290,-68 193,-68 193,-68 187,-68 181,-62 181,-56 181,-56 181,-12 181,-12 181,-6 187,0 193,0 193,0 290,0 290,0 296,0 302,-6 302,-12 302,-12 302,-56 302,-56 302,-62 296,-68 290,-68\"/>\n<text text-anchor=\"start\" x=\"191.5\" y=\"-52.8\" font-family=\"Helvetica,sans-Serif\" font-size=\"14.00\">entropy = 0.439</text>\n<text text-anchor=\"start\" x=\"198\" y=\"-37.8\" font-family=\"Helvetica,sans-Serif\" font-size=\"14.00\">samples = 11</text>\n<text text-anchor=\"start\" x=\"189\" y=\"-22.8\" font-family=\"Helvetica,sans-Serif\" font-size=\"14.00\">value = [0, 1, 10]</text>\n<text text-anchor=\"start\" x=\"191.5\" y=\"-7.8\" font-family=\"Helvetica,sans-Serif\" font-size=\"14.00\">class = virginica</text>\n</g>\n<!-- 7&#45;&gt;8 -->\n<g id=\"edge8\" class=\"edge\">\n<title>7&#45;&gt;8</title>\n<path fill=\"none\" stroke=\"black\" d=\"M323.09,-103.73C311.94,-94.33 300.09,-84.35 288.97,-74.99\"/>\n<polygon fill=\"black\" stroke=\"black\" points=\"290.94,-72.06 281.03,-68.3 286.43,-77.42 290.94,-72.06\"/>\n</g>\n<!-- 9 -->\n<g id=\"node10\" class=\"node\">\n<title>9</title>\n<path fill=\"#8139e5\" stroke=\"black\" d=\"M429,-68C429,-68 332,-68 332,-68 326,-68 320,-62 320,-56 320,-56 320,-12 320,-12 320,-6 326,0 332,0 332,0 429,0 429,0 435,0 441,-6 441,-12 441,-12 441,-56 441,-56 441,-62 435,-68 429,-68\"/>\n<text text-anchor=\"start\" x=\"338.5\" y=\"-52.8\" font-family=\"Helvetica,sans-Serif\" font-size=\"14.00\">entropy = 0.0</text>\n<text text-anchor=\"start\" x=\"337\" y=\"-37.8\" font-family=\"Helvetica,sans-Serif\" font-size=\"14.00\">samples = 20</text>\n<text text-anchor=\"start\" x=\"328\" y=\"-22.8\" font-family=\"Helvetica,sans-Serif\" font-size=\"14.00\">value = [0, 0, 20]</text>\n<text text-anchor=\"start\" x=\"330.5\" y=\"-7.8\" font-family=\"Helvetica,sans-Serif\" font-size=\"14.00\">class = virginica</text>\n</g>\n<!-- 7&#45;&gt;9 -->\n<g id=\"edge9\" class=\"edge\">\n<title>7&#45;&gt;9</title>\n<path fill=\"none\" stroke=\"black\" d=\"M374.85,-103.73C375.53,-95.43 376.25,-86.67 376.94,-78.28\"/>\n<polygon fill=\"black\" stroke=\"black\" points=\"380.43,-78.55 377.76,-68.3 373.46,-77.98 380.43,-78.55\"/>\n</g>\n<!-- 11 -->\n<g id=\"node12\" class=\"node\">\n<title>11</title>\n<path fill=\"#8540e6\" stroke=\"black\" d=\"M614,-187C614,-187 483,-187 483,-187 477,-187 471,-181 471,-175 471,-175 471,-116 471,-116 471,-110 477,-104 483,-104 483,-104 614,-104 614,-104 620,-104 626,-110 626,-116 626,-116 626,-175 626,-175 626,-181 620,-187 614,-187\"/>\n<text text-anchor=\"start\" x=\"479\" y=\"-171.8\" font-family=\"Helvetica,sans-Serif\" font-size=\"14.00\">sepal width (cm) ≤ 2.9</text>\n<text text-anchor=\"start\" x=\"498.5\" y=\"-156.8\" font-family=\"Helvetica,sans-Serif\" font-size=\"14.00\">entropy = 0.206</text>\n<text text-anchor=\"start\" x=\"505\" y=\"-141.8\" font-family=\"Helvetica,sans-Serif\" font-size=\"14.00\">samples = 31</text>\n<text text-anchor=\"start\" x=\"496\" y=\"-126.8\" font-family=\"Helvetica,sans-Serif\" font-size=\"14.00\">value = [0, 1, 30]</text>\n<text text-anchor=\"start\" x=\"498.5\" y=\"-111.8\" font-family=\"Helvetica,sans-Serif\" font-size=\"14.00\">class = virginica</text>\n</g>\n<!-- 10&#45;&gt;11 -->\n<g id=\"edge11\" class=\"edge\">\n<title>10&#45;&gt;11</title>\n<path fill=\"none\" stroke=\"black\" d=\"M549.15,-222.91C549.08,-214.65 549.01,-205.86 548.93,-197.3\"/>\n<polygon fill=\"black\" stroke=\"black\" points=\"552.43,-196.99 548.85,-187.02 545.43,-197.05 552.43,-196.99\"/>\n</g>\n<!-- 14 -->\n<g id=\"node15\" class=\"node\">\n<title>14</title>\n<path fill=\"#8139e5\" stroke=\"black\" d=\"M761,-179.5C761,-179.5 656,-179.5 656,-179.5 650,-179.5 644,-173.5 644,-167.5 644,-167.5 644,-123.5 644,-123.5 644,-117.5 650,-111.5 656,-111.5 656,-111.5 761,-111.5 761,-111.5 767,-111.5 773,-117.5 773,-123.5 773,-123.5 773,-167.5 773,-167.5 773,-173.5 767,-179.5 761,-179.5\"/>\n<text text-anchor=\"start\" x=\"666.5\" y=\"-164.3\" font-family=\"Helvetica,sans-Serif\" font-size=\"14.00\">entropy = 0.0</text>\n<text text-anchor=\"start\" x=\"661\" y=\"-149.3\" font-family=\"Helvetica,sans-Serif\" font-size=\"14.00\">samples = 310</text>\n<text text-anchor=\"start\" x=\"652\" y=\"-134.3\" font-family=\"Helvetica,sans-Serif\" font-size=\"14.00\">value = [0, 0, 310]</text>\n<text text-anchor=\"start\" x=\"658.5\" y=\"-119.3\" font-family=\"Helvetica,sans-Serif\" font-size=\"14.00\">class = virginica</text>\n</g>\n<!-- 10&#45;&gt;14 -->\n<g id=\"edge14\" class=\"edge\">\n<title>10&#45;&gt;14</title>\n<path fill=\"none\" stroke=\"black\" d=\"M604.66,-222.91C621.01,-210.88 638.87,-197.73 655.1,-185.79\"/>\n<polygon fill=\"black\" stroke=\"black\" points=\"657.45,-188.41 663.43,-179.67 653.3,-182.77 657.45,-188.41\"/>\n</g>\n<!-- 12 -->\n<g id=\"node13\" class=\"node\">\n<title>12</title>\n<path fill=\"#8139e5\" stroke=\"black\" d=\"M587,-68C587,-68 490,-68 490,-68 484,-68 478,-62 478,-56 478,-56 478,-12 478,-12 478,-6 484,0 490,0 490,0 587,0 587,0 593,0 599,-6 599,-12 599,-12 599,-56 599,-56 599,-62 593,-68 587,-68\"/>\n<text text-anchor=\"start\" x=\"496.5\" y=\"-52.8\" font-family=\"Helvetica,sans-Serif\" font-size=\"14.00\">entropy = 0.0</text>\n<text text-anchor=\"start\" x=\"495\" y=\"-37.8\" font-family=\"Helvetica,sans-Serif\" font-size=\"14.00\">samples = 20</text>\n<text text-anchor=\"start\" x=\"486\" y=\"-22.8\" font-family=\"Helvetica,sans-Serif\" font-size=\"14.00\">value = [0, 0, 20]</text>\n<text text-anchor=\"start\" x=\"488.5\" y=\"-7.8\" font-family=\"Helvetica,sans-Serif\" font-size=\"14.00\">class = virginica</text>\n</g>\n<!-- 11&#45;&gt;12 -->\n<g id=\"edge12\" class=\"edge\">\n<title>11&#45;&gt;12</title>\n<path fill=\"none\" stroke=\"black\" d=\"M544.78,-103.73C544.02,-95.43 543.22,-86.67 542.45,-78.28\"/>\n<polygon fill=\"black\" stroke=\"black\" points=\"545.94,-77.94 541.54,-68.3 538.97,-78.58 545.94,-77.94\"/>\n</g>\n<!-- 13 -->\n<g id=\"node14\" class=\"node\">\n<title>13</title>\n<path fill=\"#8e4de8\" stroke=\"black\" d=\"M726,-68C726,-68 629,-68 629,-68 623,-68 617,-62 617,-56 617,-56 617,-12 617,-12 617,-6 623,0 629,0 629,0 726,0 726,0 732,0 738,-6 738,-12 738,-12 738,-56 738,-56 738,-62 732,-68 726,-68\"/>\n<text text-anchor=\"start\" x=\"627.5\" y=\"-52.8\" font-family=\"Helvetica,sans-Serif\" font-size=\"14.00\">entropy = 0.439</text>\n<text text-anchor=\"start\" x=\"634\" y=\"-37.8\" font-family=\"Helvetica,sans-Serif\" font-size=\"14.00\">samples = 11</text>\n<text text-anchor=\"start\" x=\"625\" y=\"-22.8\" font-family=\"Helvetica,sans-Serif\" font-size=\"14.00\">value = [0, 1, 10]</text>\n<text text-anchor=\"start\" x=\"627.5\" y=\"-7.8\" font-family=\"Helvetica,sans-Serif\" font-size=\"14.00\">class = virginica</text>\n</g>\n<!-- 11&#45;&gt;13 -->\n<g id=\"edge13\" class=\"edge\">\n<title>11&#45;&gt;13</title>\n<path fill=\"none\" stroke=\"black\" d=\"M596.53,-103.73C607.6,-94.33 619.36,-84.35 630.39,-74.99\"/>\n<polygon fill=\"black\" stroke=\"black\" points=\"632.91,-77.44 638.27,-68.3 628.38,-72.1 632.91,-77.44\"/>\n</g>\n</g>\n</svg>\n",
      "text/plain": [
       "<graphviz.sources.Source at 0x223362ba950>"
      ]
     },
     "execution_count": 15,
     "metadata": {},
     "output_type": "execute_result"
    }
   ],
   "source": [
    "# initialize another classifier to visualize the graph on the total examples\n",
    "clf_graph = clf_oversampling\n",
    "clf_graph = clf_graph.fit(X_train_oversample, y_train_oversample)\n",
    "\n",
    "dot_data = tree.export_graphviz(clf_graph, out_file=None, \n",
    "                                feature_names=iris.feature_names,\n",
    "                                class_names=iris.target_names,\n",
    "                                filled=True, rounded=True,\n",
    "                                special_characters=True)\n",
    "graph = graphviz.Source(dot_data)\n",
    "graph"
   ]
  },
  {
   "cell_type": "markdown",
   "metadata": {},
   "source": [
    "#### Weights Tree"
   ]
  },
  {
   "cell_type": "code",
   "execution_count": 7,
   "metadata": {},
   "outputs": [
    {
     "name": "stdout",
     "output_type": "stream",
     "text": [
      "accuracy_homemade for class 0: 1.0\n",
      "precision for class 0: 1.0\n",
      "recall for class 0 : 1.0\n",
      "\n",
      "\n",
      "accuracy_homemade for class 1: 0.9777777777777777\n",
      "precision for class 1: 1.0\n",
      "recall for class 1 : 0.9444444444444444\n",
      "\n",
      "\n",
      "accuracy_homemade for class 2: 0.9777777777777777\n",
      "precision for class 2: 0.9285714285714286\n",
      "recall for class 2 : 1.0\n",
      "\n",
      "\n",
      "accuracy: 0.9777777777777777\n",
      "f1 score: 0.9781305114638448\n"
     ]
    },
    {
     "data": {
      "text/plain": [
       "array([[14,  0,  0],\n",
       "       [ 0, 17,  1],\n",
       "       [ 0,  0, 13]], dtype=int64)"
      ]
     },
     "execution_count": 7,
     "metadata": {},
     "output_type": "execute_result"
    }
   ],
   "source": [
    "clf_weights = tree.DecisionTreeClassifier(criterion=\"entropy\",random_state=300,min_samples_leaf=5,class_weight={0:1,1:1,2:10})\n",
    "iris = load_iris()\n",
    "X_train, X_test, y_train, y_test = train_test_split(iris.data, iris.target, test_size=0.3, random_state=1)\n",
    "\n",
    "clf_weights = clf_weights.fit(X_train, y_train)\n",
    "\n",
    "predicted_y_test = clf_weights.predict(X_test)\n",
    "\n",
    "fp, tp, fn, tn = 0, 0, 0, 0\n",
    "for i in range(0,3):\n",
    "\tfp, tp, fn, tn = compute_fp_tp_fn_tn(y_test, predicted_y_test, i)\n",
    "\tprint(f\"accuracy_homemade for class {i}: {(tp+tn) / (tp+tn+fp+fn)}\")\n",
    "\tprint(f\"precision for class {i}: {tp / (tp+fp)}\")\n",
    "\tprint(f\"recall for class {i} : {tp / (tp+fn)}\")\n",
    "\tprint('\\n')\n",
    "\n",
    "print(f\"accuracy: {accuracy_score(y_test, predicted_y_test)}\")\n",
    "f1 = f1_score(y_test, predicted_y_test, average='macro') # macro means that the score is calculated for each class and then averaged\n",
    "print(f\"f1 score: {f1}\")\n",
    "\n",
    "confusion_matrix(y_test, predicted_y_test)"
   ]
  },
  {
   "cell_type": "code",
   "execution_count": 13,
   "metadata": {},
   "outputs": [
    {
     "data": {
      "image/png": "[encoded data removed]",
      "text/plain": [
       "<Figure size 432x288 with 1 Axes>"
      ]
     },
     "metadata": {
      "needs_background": "light"
     },
     "output_type": "display_data"
    }
   ],
   "source": [
    "X = iris.data\n",
    "y = iris.target\n",
    "\n",
    "# Binarize the output\n",
    "y = label_binarize(y, classes=[0, 1, 2])\n",
    "n_classes = y.shape[1]\n",
    "\n",
    "# shuffle and split training and test sets\n",
    "X_train, X_test, y_train, y_test = train_test_split(X, y, test_size=0.3, random_state=1)\n",
    "\n",
    "# Learn to predict each class against the other\n",
    "classifier = OneVsRestClassifier(tree.DecisionTreeClassifier(criterion=\"entropy\",random_state=300,min_samples_leaf=5,class_weight={0:1,1:1,2:10}))\n",
    "\n",
    "y_score = classifier.fit(X_train, y_train).predict(X_test)\n",
    "\n",
    "# Compute ROC curve and ROC area for each class\n",
    "fpr = dict()\n",
    "tpr = dict()\n",
    "roc_auc = dict()\n",
    "for i in range(n_classes):\n",
    "\tfpr, tpr, thresholds = metrics.roc_curve(y_test[:, i], y_score[:, i])\n",
    "\troc_auc = metrics.auc(fpr, tpr)\n",
    "\tplt.plot(fpr,tpr,label=f\"example {i} estimator, AUC={str(roc_auc)}\")\n",
    "\tplt.legend()\n",
    "\t"
   ]
  },
  {
   "cell_type": "code",
   "execution_count": 17,
   "metadata": {},
   "outputs": [
    {
     "data": {
      "image/svg+xml": "<?xml version=\"1.0\" encoding=\"UTF-8\" standalone=\"no\"?>\n<!DOCTYPE svg PUBLIC \"-//W3C//DTD SVG 1.1//EN\"\n \"http://www.w3.org/Graphics/SVG/1.1/DTD/svg11.dtd\">\n<!-- Generated by graphviz version 6.0.1 (20220911.1526)\n -->\n<!-- Title: Tree Pages: 1 -->\n<svg width=\"761pt\" height=\"433pt\"\n viewBox=\"0.00 0.00 761.00 433.00\" xmlns=\"http://www.w3.org/2000/svg\" xmlns:xlink=\"http://www.w3.org/1999/xlink\">\n<g id=\"graph0\" class=\"graph\" transform=\"scale(1 1) rotate(0) translate(4 429)\">\n<title>Tree</title>\n<polygon fill=\"white\" stroke=\"none\" points=\"-4,4 -4,-429 757,-429 757,4 -4,4\"/>\n<!-- 0 -->\n<g id=\"node1\" class=\"node\">\n<title>0</title>\n<path fill=\"#965ae9\" stroke=\"black\" d=\"M358,-425C358,-425 217,-425 217,-425 211,-425 205,-419 205,-413 205,-413 205,-354 205,-354 205,-348 211,-342 217,-342 217,-342 358,-342 358,-342 364,-342 370,-348 370,-354 370,-354 370,-413 370,-413 370,-419 364,-425 358,-425\"/>\n<text text-anchor=\"start\" x=\"213\" y=\"-409.8\" font-family=\"Helvetica,sans-Serif\" font-size=\"14.00\">petal length (cm) ≤ 4.45</text>\n<text text-anchor=\"start\" x=\"237.5\" y=\"-394.8\" font-family=\"Helvetica,sans-Serif\" font-size=\"14.00\">entropy = 0.778</text>\n<text text-anchor=\"start\" x=\"240\" y=\"-379.8\" font-family=\"Helvetica,sans-Serif\" font-size=\"14.00\">samples = 105</text>\n<text text-anchor=\"start\" x=\"222.5\" y=\"-364.8\" font-family=\"Helvetica,sans-Serif\" font-size=\"14.00\">value = [36, 32, 370]</text>\n<text text-anchor=\"start\" x=\"237.5\" y=\"-349.8\" font-family=\"Helvetica,sans-Serif\" font-size=\"14.00\">class = virginica</text>\n</g>\n<!-- 1 -->\n<g id=\"node2\" class=\"node\">\n<title>1</title>\n<path fill=\"#f4caac\" stroke=\"black\" d=\"M266,-306C266,-306 133,-306 133,-306 127,-306 121,-300 121,-294 121,-294 121,-235 121,-235 121,-229 127,-223 133,-223 133,-223 266,-223 266,-223 272,-223 278,-229 278,-235 278,-235 278,-294 278,-294 278,-300 272,-306 266,-306\"/>\n<text text-anchor=\"start\" x=\"129\" y=\"-290.8\" font-family=\"Helvetica,sans-Serif\" font-size=\"14.00\">petal length (cm) ≤ 2.6</text>\n<text text-anchor=\"start\" x=\"149.5\" y=\"-275.8\" font-family=\"Helvetica,sans-Serif\" font-size=\"14.00\">entropy = 0.949</text>\n<text text-anchor=\"start\" x=\"156\" y=\"-260.8\" font-family=\"Helvetica,sans-Serif\" font-size=\"14.00\">samples = 57</text>\n<text text-anchor=\"start\" x=\"143\" y=\"-245.8\" font-family=\"Helvetica,sans-Serif\" font-size=\"14.00\">value = [36, 21, 0]</text>\n<text text-anchor=\"start\" x=\"153.5\" y=\"-230.8\" font-family=\"Helvetica,sans-Serif\" font-size=\"14.00\">class = setosa</text>\n</g>\n<!-- 0&#45;&gt;1 -->\n<g id=\"edge1\" class=\"edge\">\n<title>0&#45;&gt;1</title>\n<path fill=\"none\" stroke=\"black\" d=\"M256.97,-341.91C250.21,-332.92 242.98,-323.32 236.02,-314.05\"/>\n<polygon fill=\"black\" stroke=\"black\" points=\"238.79,-311.91 229.98,-306.02 233.19,-316.12 238.79,-311.91\"/>\n<text text-anchor=\"middle\" x=\"226.48\" y=\"-327.07\" font-family=\"Helvetica,sans-Serif\" font-size=\"14.00\">True</text>\n</g>\n<!-- 4 -->\n<g id=\"node5\" class=\"node\">\n<title>4</title>\n<path fill=\"#853fe6\" stroke=\"black\" d=\"M443,-306C443,-306 308,-306 308,-306 302,-306 296,-300 296,-294 296,-294 296,-235 296,-235 296,-229 302,-223 308,-223 308,-223 443,-223 443,-223 449,-223 455,-229 455,-235 455,-235 455,-294 455,-294 455,-300 449,-306 443,-306\"/>\n<text text-anchor=\"start\" x=\"304\" y=\"-290.8\" font-family=\"Helvetica,sans-Serif\" font-size=\"14.00\">petal width (cm) ≤ 1.65</text>\n<text text-anchor=\"start\" x=\"325.5\" y=\"-275.8\" font-family=\"Helvetica,sans-Serif\" font-size=\"14.00\">entropy = 0.189</text>\n<text text-anchor=\"start\" x=\"332\" y=\"-260.8\" font-family=\"Helvetica,sans-Serif\" font-size=\"14.00\">samples = 48</text>\n<text text-anchor=\"start\" x=\"315\" y=\"-245.8\" font-family=\"Helvetica,sans-Serif\" font-size=\"14.00\">value = [0, 11, 370]</text>\n<text text-anchor=\"start\" x=\"325.5\" y=\"-230.8\" font-family=\"Helvetica,sans-Serif\" font-size=\"14.00\">class = virginica</text>\n</g>\n<!-- 0&#45;&gt;4 -->\n<g id=\"edge4\" class=\"edge\">\n<title>0&#45;&gt;4</title>\n<path fill=\"none\" stroke=\"black\" d=\"M318.03,-341.91C324.79,-332.92 332.02,-323.32 338.98,-314.05\"/>\n<polygon fill=\"black\" stroke=\"black\" points=\"341.81,-316.12 345.02,-306.02 336.21,-311.91 341.81,-316.12\"/>\n<text text-anchor=\"middle\" x=\"348.52\" y=\"-327.07\" font-family=\"Helvetica,sans-Serif\" font-size=\"14.00\">False</text>\n</g>\n<!-- 2 -->\n<g id=\"node3\" class=\"node\">\n<title>2</title>\n<path fill=\"#e58139\" stroke=\"black\" d=\"M109,-179.5C109,-179.5 12,-179.5 12,-179.5 6,-179.5 0,-173.5 0,-167.5 0,-167.5 0,-123.5 0,-123.5 0,-117.5 6,-111.5 12,-111.5 12,-111.5 109,-111.5 109,-111.5 115,-111.5 121,-117.5 121,-123.5 121,-123.5 121,-167.5 121,-167.5 121,-173.5 115,-179.5 109,-179.5\"/>\n<text text-anchor=\"start\" x=\"18.5\" y=\"-164.3\" font-family=\"Helvetica,sans-Serif\" font-size=\"14.00\">entropy = 0.0</text>\n<text text-anchor=\"start\" x=\"17\" y=\"-149.3\" font-family=\"Helvetica,sans-Serif\" font-size=\"14.00\">samples = 36</text>\n<text text-anchor=\"start\" x=\"8\" y=\"-134.3\" font-family=\"Helvetica,sans-Serif\" font-size=\"14.00\">value = [36, 0, 0]</text>\n<text text-anchor=\"start\" x=\"14.5\" y=\"-119.3\" font-family=\"Helvetica,sans-Serif\" font-size=\"14.00\">class = setosa</text>\n</g>\n<!-- 1&#45;&gt;2 -->\n<g id=\"edge2\" class=\"edge\">\n<title>1&#45;&gt;2</title>\n<path fill=\"none\" stroke=\"black\" d=\"M151.27,-222.91C137.12,-210.99 121.65,-197.98 107.57,-186.12\"/>\n<polygon fill=\"black\" stroke=\"black\" points=\"109.81,-183.43 99.9,-179.67 105.3,-188.78 109.81,-183.43\"/>\n</g>\n<!-- 3 -->\n<g id=\"node4\" class=\"node\">\n<title>3</title>\n<path fill=\"#39e581\" stroke=\"black\" d=\"M254,-179.5C254,-179.5 151,-179.5 151,-179.5 145,-179.5 139,-173.5 139,-167.5 139,-167.5 139,-123.5 139,-123.5 139,-117.5 145,-111.5 151,-111.5 151,-111.5 254,-111.5 254,-111.5 260,-111.5 266,-117.5 266,-123.5 266,-123.5 266,-167.5 266,-167.5 266,-173.5 260,-179.5 254,-179.5\"/>\n<text text-anchor=\"start\" x=\"160.5\" y=\"-164.3\" font-family=\"Helvetica,sans-Serif\" font-size=\"14.00\">entropy = 0.0</text>\n<text text-anchor=\"start\" x=\"159\" y=\"-149.3\" font-family=\"Helvetica,sans-Serif\" font-size=\"14.00\">samples = 21</text>\n<text text-anchor=\"start\" x=\"150\" y=\"-134.3\" font-family=\"Helvetica,sans-Serif\" font-size=\"14.00\">value = [0, 21, 0]</text>\n<text text-anchor=\"start\" x=\"147\" y=\"-119.3\" font-family=\"Helvetica,sans-Serif\" font-size=\"14.00\">class = versicolor</text>\n</g>\n<!-- 1&#45;&gt;3 -->\n<g id=\"edge3\" class=\"edge\">\n<title>1&#45;&gt;3</title>\n<path fill=\"none\" stroke=\"black\" d=\"M200.54,-222.91C200.82,-212.2 201.11,-200.62 201.39,-189.78\"/>\n<polygon fill=\"black\" stroke=\"black\" points=\"204.89,-189.75 201.65,-179.67 197.89,-189.57 204.89,-189.75\"/>\n</g>\n<!-- 5 -->\n<g id=\"node6\" class=\"node\">\n<title>5</title>\n<path fill=\"#ab7bee\" stroke=\"black\" d=\"M443,-187C443,-187 302,-187 302,-187 296,-187 290,-181 290,-175 290,-175 290,-116 290,-116 290,-110 296,-104 302,-104 302,-104 443,-104 443,-104 449,-104 455,-110 455,-116 455,-116 455,-175 455,-175 455,-181 449,-187 443,-187\"/>\n<text text-anchor=\"start\" x=\"298\" y=\"-171.8\" font-family=\"Helvetica,sans-Serif\" font-size=\"14.00\">petal length (cm) ≤ 4.85</text>\n<text text-anchor=\"start\" x=\"322.5\" y=\"-156.8\" font-family=\"Helvetica,sans-Serif\" font-size=\"14.00\">entropy = 0.811</text>\n<text text-anchor=\"start\" x=\"329\" y=\"-141.8\" font-family=\"Helvetica,sans-Serif\" font-size=\"14.00\">samples = 13</text>\n<text text-anchor=\"start\" x=\"316\" y=\"-126.8\" font-family=\"Helvetica,sans-Serif\" font-size=\"14.00\">value = [0, 10, 30]</text>\n<text text-anchor=\"start\" x=\"322.5\" y=\"-111.8\" font-family=\"Helvetica,sans-Serif\" font-size=\"14.00\">class = virginica</text>\n</g>\n<!-- 4&#45;&gt;5 -->\n<g id=\"edge5\" class=\"edge\">\n<title>4&#45;&gt;5</title>\n<path fill=\"none\" stroke=\"black\" d=\"M374.46,-222.91C374.25,-214.56 374.02,-205.67 373.8,-197.02\"/>\n<polygon fill=\"black\" stroke=\"black\" points=\"377.29,-196.93 373.54,-187.02 370.3,-197.11 377.29,-196.93\"/>\n</g>\n<!-- 8 -->\n<g id=\"node9\" class=\"node\">\n<title>8</title>\n<path fill=\"#813ae5\" stroke=\"black\" d=\"M630,-187C630,-187 485,-187 485,-187 479,-187 473,-181 473,-175 473,-175 473,-116 473,-116 473,-110 479,-104 485,-104 485,-104 630,-104 630,-104 636,-104 642,-110 642,-116 642,-116 642,-175 642,-175 642,-181 636,-187 630,-187\"/>\n<text text-anchor=\"start\" x=\"481\" y=\"-171.8\" font-family=\"Helvetica,sans-Serif\" font-size=\"14.00\">sepal length (cm) ≤ 5.95</text>\n<text text-anchor=\"start\" x=\"507.5\" y=\"-156.8\" font-family=\"Helvetica,sans-Serif\" font-size=\"14.00\">entropy = 0.029</text>\n<text text-anchor=\"start\" x=\"514\" y=\"-141.8\" font-family=\"Helvetica,sans-Serif\" font-size=\"14.00\">samples = 35</text>\n<text text-anchor=\"start\" x=\"501\" y=\"-126.8\" font-family=\"Helvetica,sans-Serif\" font-size=\"14.00\">value = [0, 1, 340]</text>\n<text text-anchor=\"start\" x=\"507.5\" y=\"-111.8\" font-family=\"Helvetica,sans-Serif\" font-size=\"14.00\">class = virginica</text>\n</g>\n<!-- 4&#45;&gt;8 -->\n<g id=\"edge8\" class=\"edge\">\n<title>4&#45;&gt;8</title>\n<path fill=\"none\" stroke=\"black\" d=\"M438.64,-222.91C453.89,-213.11 470.29,-202.56 485.89,-192.53\"/>\n<polygon fill=\"black\" stroke=\"black\" points=\"487.95,-195.37 494.47,-187.02 484.16,-189.48 487.95,-195.37\"/>\n</g>\n<!-- 6 -->\n<g id=\"node7\" class=\"node\">\n<title>6</title>\n<path fill=\"#39e581\" stroke=\"black\" d=\"M293,-68C293,-68 190,-68 190,-68 184,-68 178,-62 178,-56 178,-56 178,-12 178,-12 178,-6 184,0 190,0 190,0 293,0 293,0 299,0 305,-6 305,-12 305,-12 305,-56 305,-56 305,-62 299,-68 293,-68\"/>\n<text text-anchor=\"start\" x=\"199.5\" y=\"-52.8\" font-family=\"Helvetica,sans-Serif\" font-size=\"14.00\">entropy = 0.0</text>\n<text text-anchor=\"start\" x=\"202\" y=\"-37.8\" font-family=\"Helvetica,sans-Serif\" font-size=\"14.00\">samples = 7</text>\n<text text-anchor=\"start\" x=\"193\" y=\"-22.8\" font-family=\"Helvetica,sans-Serif\" font-size=\"14.00\">value = [0, 7, 0]</text>\n<text text-anchor=\"start\" x=\"186\" y=\"-7.8\" font-family=\"Helvetica,sans-Serif\" font-size=\"14.00\">class = versicolor</text>\n</g>\n<!-- 5&#45;&gt;6 -->\n<g id=\"edge6\" class=\"edge\">\n<title>5&#45;&gt;6</title>\n<path fill=\"none\" stroke=\"black\" d=\"M323.72,-103.73C312.37,-94.24 300.31,-84.16 289.01,-74.72\"/>\n<polygon fill=\"black\" stroke=\"black\" points=\"291.26,-72.03 281.34,-68.3 286.77,-77.4 291.26,-72.03\"/>\n</g>\n<!-- 7 -->\n<g id=\"node8\" class=\"node\">\n<title>7</title>\n<path fill=\"#8e4de8\" stroke=\"black\" d=\"M432,-68C432,-68 335,-68 335,-68 329,-68 323,-62 323,-56 323,-56 323,-12 323,-12 323,-6 329,0 335,0 335,0 432,0 432,0 438,0 444,-6 444,-12 444,-12 444,-56 444,-56 444,-62 438,-68 432,-68\"/>\n<text text-anchor=\"start\" x=\"333.5\" y=\"-52.8\" font-family=\"Helvetica,sans-Serif\" font-size=\"14.00\">entropy = 0.439</text>\n<text text-anchor=\"start\" x=\"344\" y=\"-37.8\" font-family=\"Helvetica,sans-Serif\" font-size=\"14.00\">samples = 6</text>\n<text text-anchor=\"start\" x=\"331\" y=\"-22.8\" font-family=\"Helvetica,sans-Serif\" font-size=\"14.00\">value = [0, 3, 30]</text>\n<text text-anchor=\"start\" x=\"333.5\" y=\"-7.8\" font-family=\"Helvetica,sans-Serif\" font-size=\"14.00\">class = virginica</text>\n</g>\n<!-- 5&#45;&gt;7 -->\n<g id=\"edge7\" class=\"edge\">\n<title>5&#45;&gt;7</title>\n<path fill=\"none\" stroke=\"black\" d=\"M376.6,-103.73C377.43,-95.43 378.31,-86.67 379.15,-78.28\"/>\n<polygon fill=\"black\" stroke=\"black\" points=\"382.64,-78.6 380.15,-68.3 375.67,-77.9 382.64,-78.6\"/>\n</g>\n<!-- 9 -->\n<g id=\"node10\" class=\"node\">\n<title>9</title>\n<path fill=\"#833ce5\" stroke=\"black\" d=\"M594,-68C594,-68 497,-68 497,-68 491,-68 485,-62 485,-56 485,-56 485,-12 485,-12 485,-6 491,0 497,0 497,0 594,0 594,0 600,0 606,-6 606,-12 606,-12 606,-56 606,-56 606,-62 600,-68 594,-68\"/>\n<text text-anchor=\"start\" x=\"495.5\" y=\"-52.8\" font-family=\"Helvetica,sans-Serif\" font-size=\"14.00\">entropy = 0.121</text>\n<text text-anchor=\"start\" x=\"506\" y=\"-37.8\" font-family=\"Helvetica,sans-Serif\" font-size=\"14.00\">samples = 7</text>\n<text text-anchor=\"start\" x=\"493\" y=\"-22.8\" font-family=\"Helvetica,sans-Serif\" font-size=\"14.00\">value = [0, 1, 60]</text>\n<text text-anchor=\"start\" x=\"495.5\" y=\"-7.8\" font-family=\"Helvetica,sans-Serif\" font-size=\"14.00\">class = virginica</text>\n</g>\n<!-- 8&#45;&gt;9 -->\n<g id=\"edge9\" class=\"edge\">\n<title>8&#45;&gt;9</title>\n<path fill=\"none\" stroke=\"black\" d=\"M553.03,-103.73C552.12,-95.43 551.16,-86.67 550.24,-78.28\"/>\n<polygon fill=\"black\" stroke=\"black\" points=\"553.72,-77.86 549.15,-68.3 546.76,-78.62 553.72,-77.86\"/>\n</g>\n<!-- 10 -->\n<g id=\"node11\" class=\"node\">\n<title>10</title>\n<path fill=\"#8139e5\" stroke=\"black\" d=\"M741,-68C741,-68 636,-68 636,-68 630,-68 624,-62 624,-56 624,-56 624,-12 624,-12 624,-6 630,0 636,0 636,0 741,0 741,0 747,0 753,-6 753,-12 753,-12 753,-56 753,-56 753,-62 747,-68 741,-68\"/>\n<text text-anchor=\"start\" x=\"646.5\" y=\"-52.8\" font-family=\"Helvetica,sans-Serif\" font-size=\"14.00\">entropy = 0.0</text>\n<text text-anchor=\"start\" x=\"645\" y=\"-37.8\" font-family=\"Helvetica,sans-Serif\" font-size=\"14.00\">samples = 28</text>\n<text text-anchor=\"start\" x=\"632\" y=\"-22.8\" font-family=\"Helvetica,sans-Serif\" font-size=\"14.00\">value = [0, 0, 280]</text>\n<text text-anchor=\"start\" x=\"638.5\" y=\"-7.8\" font-family=\"Helvetica,sans-Serif\" font-size=\"14.00\">class = virginica</text>\n</g>\n<!-- 8&#45;&gt;10 -->\n<g id=\"edge10\" class=\"edge\">\n<title>8&#45;&gt;10</title>\n<path fill=\"none\" stroke=\"black\" d=\"M606.28,-103.73C617.63,-94.24 629.69,-84.16 640.99,-74.72\"/>\n<polygon fill=\"black\" stroke=\"black\" points=\"643.23,-77.4 648.66,-68.3 638.74,-72.03 643.23,-77.4\"/>\n</g>\n</g>\n</svg>\n",
      "text/plain": [
       "<graphviz.sources.Source at 0x22354fcd9c0>"
      ]
     },
     "execution_count": 17,
     "metadata": {},
     "output_type": "execute_result"
    }
   ],
   "source": [
    "clf_graph = clf_weights\n",
    "clf_graph = clf_graph.fit(X_train, y_train)\n",
    "\n",
    "dot_data = tree.export_graphviz(clf_graph, out_file=None, \n",
    "                                feature_names=iris.feature_names,\n",
    "                                class_names=iris.target_names,\n",
    "                                filled=True, rounded=True,\n",
    "                                special_characters=True)\n",
    "graph = graphviz.Source(dot_data)\n",
    "graph"
   ]
  }
 ],
 "metadata": {
  "kernelspec": {
   "display_name": "env AAUT",
   "language": "python",
   "name": "python3"
  },
  "language_info": {
   "codemirror_mode": {
    "name": "ipython",
    "version": 3
   },
   "file_extension": ".py",
   "mimetype": "text/x-python",
   "name": "python",
   "nbconvert_exporter": "python",
   "pygments_lexer": "ipython3",
   "version": "3.10.4 (tags/v3.10.4:9d38120, Mar 23 2022, 23:13:41) [MSC v.1929 64 bit (AMD64)]"
  },
  "orig_nbformat": 4,
  "vscode": {
   "interpreter": {
    "hash": "08df9d67eeb19508b6e989f65b8131cfcf83a113e5c870321e1f1972c1b40b32"
   }
  }
 },
 "nbformat": 4,
 "nbformat_minor": 2
}
