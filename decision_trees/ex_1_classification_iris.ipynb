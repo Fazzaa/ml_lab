{
 "cells": [
  {
   "cell_type": "markdown",
   "metadata": {},
   "source": [
    "# Esercizio 1: Classification Iris"
   ]
  },
  {
   "cell_type": "markdown",
   "metadata": {},
   "source": [
    "dataset: https://archive.ics.uci.edu/ml/datasets/iris"
   ]
  },
  {
   "cell_type": "code",
   "execution_count": 1,
   "metadata": {},
   "outputs": [],
   "source": [
    "from sklearn import tree \n",
    "from sklearn.datasets import load_iris\n",
    "from sklearn.model_selection import train_test_split\n",
    "from sklearn.metrics import accuracy_score, confusion_matrix\n",
    "from sklearn.metrics import f1_score\n",
    "from sklearn.model_selection import cross_val_score \n",
    "import graphviz\n",
    "from itertools import repeat\n",
    "from sklearn.multiclass import OneVsRestClassifier\n",
    "from sklearn.metrics import roc_curve, auc\n",
    "from sklearn.preprocessing import label_binarize\n",
    "from sklearn import metrics\n",
    "import matplotlib.pyplot as plt"
   ]
  },
  {
   "cell_type": "markdown",
   "metadata": {},
   "source": [
    "##### load the dataset and split it in train and test set"
   ]
  },
  {
   "cell_type": "code",
   "execution_count": 17,
   "metadata": {},
   "outputs": [],
   "source": [
    "iris = load_iris()\n",
    "X_train, X_test, y_train, y_test = train_test_split(iris.data, iris.target, test_size=0.3, random_state=0)"
   ]
  },
  {
   "cell_type": "markdown",
   "metadata": {},
   "source": [
    "##### Initialize the model and fit with the training data"
   ]
  },
  {
   "cell_type": "code",
   "execution_count": 18,
   "metadata": {},
   "outputs": [],
   "source": [
    "# the weights are the same for all the classes\n",
    "clf = tree.DecisionTreeClassifier(criterion=\"entropy\",random_state=300,min_samples_leaf=5,class_weight={0:1,1:1,2:1}) \n",
    "clf = clf.fit(X_train, y_train)"
   ]
  },
  {
   "cell_type": "markdown",
   "metadata": {},
   "source": [
    "##### Predict the classes of the test set"
   ]
  },
  {
   "cell_type": "code",
   "execution_count": 19,
   "metadata": {},
   "outputs": [],
   "source": [
    "predicted_y_test = clf.predict(X_test)"
   ]
  },
  {
   "cell_type": "markdown",
   "metadata": {},
   "source": [
    "##### Printing information about the model"
   ]
  },
  {
   "cell_type": "code",
   "execution_count": 20,
   "metadata": {},
   "outputs": [
    {
     "name": "stdout",
     "output_type": "stream",
     "text": [
      "predicted classes:\n",
      "[2 1 0 2 0 2 0 1 1 1 2 1 1 1 1 0 1 1 0 0 1 1 0 0 1 0 0 1 1 0 2 1 0 1 2 1 0\n",
      " 2 1 1 2 0 2 0 0]\n",
      "\n",
      "real classes:\n",
      "[2 1 0 2 0 2 0 1 1 1 2 1 1 1 1 0 1 1 0 0 2 1 0 0 2 0 0 1 1 0 2 1 0 2 2 1 0\n",
      " 1 1 1 2 0 2 0 0]\n",
      "\n",
      "correctly classified examples: 41\n",
      "number of errors: 4\n"
     ]
    }
   ],
   "source": [
    "print(f\"predicted classes:\\n{predicted_y_test}\\n\")\n",
    "print(f\"real classes:\\n{y_test}\")\n",
    "print(f\"\\ncorrectly classified examples: {sum(predicted_y_test == y_test)}\")\n",
    "print(f\"number of errors: {sum(predicted_y_test != y_test)}\")"
   ]
  },
  {
   "cell_type": "code",
   "execution_count": 21,
   "metadata": {},
   "outputs": [
    {
     "name": "stdout",
     "output_type": "stream",
     "text": [
      "class virginica predicted as virginica\n",
      "sepal length (cm): 5.8\n",
      "sepal width (cm): 2.8\n",
      "petal length (cm): 5.1\n",
      "petal width (cm): 2.4\n",
      "\n",
      "\n",
      "class versicolor predicted as versicolor\n",
      "sepal length (cm): 6.0\n",
      "sepal width (cm): 2.2\n",
      "petal length (cm): 4.0\n",
      "petal width (cm): 1.0\n",
      "\n",
      "\n",
      "class setosa predicted as setosa\n",
      "sepal length (cm): 5.5\n",
      "sepal width (cm): 4.2\n",
      "petal length (cm): 1.4\n",
      "petal width (cm): 0.2\n",
      "\n",
      "\n",
      "class virginica predicted as virginica\n",
      "sepal length (cm): 7.3\n",
      "sepal width (cm): 2.9\n",
      "petal length (cm): 6.3\n",
      "petal width (cm): 1.8\n",
      "\n",
      "\n",
      "class setosa predicted as setosa\n",
      "sepal length (cm): 5.0\n",
      "sepal width (cm): 3.4\n",
      "petal length (cm): 1.5\n",
      "petal width (cm): 0.2\n",
      "\n",
      "\n",
      "class virginica predicted as virginica\n",
      "sepal length (cm): 6.3\n",
      "sepal width (cm): 3.3\n",
      "petal length (cm): 6.0\n",
      "petal width (cm): 2.5\n",
      "\n",
      "\n",
      "class setosa predicted as setosa\n",
      "sepal length (cm): 5.0\n",
      "sepal width (cm): 3.5\n",
      "petal length (cm): 1.3\n",
      "petal width (cm): 0.3\n",
      "\n",
      "\n",
      "class versicolor predicted as versicolor\n",
      "sepal length (cm): 6.7\n",
      "sepal width (cm): 3.1\n",
      "petal length (cm): 4.7\n",
      "petal width (cm): 1.5\n",
      "\n",
      "\n",
      "class versicolor predicted as versicolor\n",
      "sepal length (cm): 6.8\n",
      "sepal width (cm): 2.8\n",
      "petal length (cm): 4.8\n",
      "petal width (cm): 1.4\n",
      "\n",
      "\n",
      "class versicolor predicted as versicolor\n",
      "sepal length (cm): 6.1\n",
      "sepal width (cm): 2.8\n",
      "petal length (cm): 4.0\n",
      "petal width (cm): 1.3\n",
      "\n",
      "\n",
      "class virginica predicted as virginica\n",
      "sepal length (cm): 6.1\n",
      "sepal width (cm): 2.6\n",
      "petal length (cm): 5.6\n",
      "petal width (cm): 1.4\n",
      "\n",
      "\n",
      "class versicolor predicted as versicolor\n",
      "sepal length (cm): 6.4\n",
      "sepal width (cm): 3.2\n",
      "petal length (cm): 4.5\n",
      "petal width (cm): 1.5\n",
      "\n",
      "\n",
      "class versicolor predicted as versicolor\n",
      "sepal length (cm): 6.1\n",
      "sepal width (cm): 2.8\n",
      "petal length (cm): 4.7\n",
      "petal width (cm): 1.2\n",
      "\n",
      "\n",
      "class versicolor predicted as versicolor\n",
      "sepal length (cm): 6.5\n",
      "sepal width (cm): 2.8\n",
      "petal length (cm): 4.6\n",
      "petal width (cm): 1.5\n",
      "\n",
      "\n",
      "class versicolor predicted as versicolor\n",
      "sepal length (cm): 6.1\n",
      "sepal width (cm): 2.9\n",
      "petal length (cm): 4.7\n",
      "petal width (cm): 1.4\n",
      "\n",
      "\n",
      "class setosa predicted as setosa\n",
      "sepal length (cm): 4.9\n",
      "sepal width (cm): 3.6\n",
      "petal length (cm): 1.4\n",
      "petal width (cm): 0.1\n",
      "\n",
      "\n",
      "class versicolor predicted as versicolor\n",
      "sepal length (cm): 6.0\n",
      "sepal width (cm): 2.9\n",
      "petal length (cm): 4.5\n",
      "petal width (cm): 1.5\n",
      "\n",
      "\n",
      "class versicolor predicted as versicolor\n",
      "sepal length (cm): 5.5\n",
      "sepal width (cm): 2.6\n",
      "petal length (cm): 4.4\n",
      "petal width (cm): 1.2\n",
      "\n",
      "\n",
      "class setosa predicted as setosa\n",
      "sepal length (cm): 4.8\n",
      "sepal width (cm): 3.0\n",
      "petal length (cm): 1.4\n",
      "petal width (cm): 0.3\n",
      "\n",
      "\n",
      "class setosa predicted as setosa\n",
      "sepal length (cm): 5.4\n",
      "sepal width (cm): 3.9\n",
      "petal length (cm): 1.3\n",
      "petal width (cm): 0.4\n",
      "\n",
      "\n",
      "class virginica predicted as versicolor\n",
      "sepal length (cm): 5.6\n",
      "sepal width (cm): 2.8\n",
      "petal length (cm): 4.9\n",
      "petal width (cm): 2.0\n",
      "\n",
      "\n",
      "class versicolor predicted as versicolor\n",
      "sepal length (cm): 5.6\n",
      "sepal width (cm): 3.0\n",
      "petal length (cm): 4.5\n",
      "petal width (cm): 1.5\n",
      "\n",
      "\n",
      "class setosa predicted as setosa\n",
      "sepal length (cm): 4.8\n",
      "sepal width (cm): 3.4\n",
      "petal length (cm): 1.9\n",
      "petal width (cm): 0.2\n",
      "\n",
      "\n",
      "class setosa predicted as setosa\n",
      "sepal length (cm): 4.4\n",
      "sepal width (cm): 2.9\n",
      "petal length (cm): 1.4\n",
      "petal width (cm): 0.2\n",
      "\n",
      "\n",
      "class virginica predicted as versicolor\n",
      "sepal length (cm): 6.2\n",
      "sepal width (cm): 2.8\n",
      "petal length (cm): 4.8\n",
      "petal width (cm): 1.8\n",
      "\n",
      "\n",
      "class setosa predicted as setosa\n",
      "sepal length (cm): 4.6\n",
      "sepal width (cm): 3.6\n",
      "petal length (cm): 1.0\n",
      "petal width (cm): 0.2\n",
      "\n",
      "\n",
      "class setosa predicted as setosa\n",
      "sepal length (cm): 5.1\n",
      "sepal width (cm): 3.8\n",
      "petal length (cm): 1.9\n",
      "petal width (cm): 0.4\n",
      "\n",
      "\n",
      "class versicolor predicted as versicolor\n",
      "sepal length (cm): 6.2\n",
      "sepal width (cm): 2.9\n",
      "petal length (cm): 4.3\n",
      "petal width (cm): 1.3\n",
      "\n",
      "\n",
      "class versicolor predicted as versicolor\n",
      "sepal length (cm): 5.0\n",
      "sepal width (cm): 2.3\n",
      "petal length (cm): 3.3\n",
      "petal width (cm): 1.0\n",
      "\n",
      "\n",
      "class setosa predicted as setosa\n",
      "sepal length (cm): 5.0\n",
      "sepal width (cm): 3.4\n",
      "petal length (cm): 1.6\n",
      "petal width (cm): 0.4\n",
      "\n",
      "\n",
      "class virginica predicted as virginica\n",
      "sepal length (cm): 6.4\n",
      "sepal width (cm): 3.1\n",
      "petal length (cm): 5.5\n",
      "petal width (cm): 1.8\n",
      "\n",
      "\n",
      "class versicolor predicted as versicolor\n",
      "sepal length (cm): 5.4\n",
      "sepal width (cm): 3.0\n",
      "petal length (cm): 4.5\n",
      "petal width (cm): 1.5\n",
      "\n",
      "\n",
      "class setosa predicted as setosa\n",
      "sepal length (cm): 5.2\n",
      "sepal width (cm): 3.5\n",
      "petal length (cm): 1.5\n",
      "petal width (cm): 0.2\n",
      "\n",
      "\n",
      "class virginica predicted as versicolor\n",
      "sepal length (cm): 6.1\n",
      "sepal width (cm): 3.0\n",
      "petal length (cm): 4.9\n",
      "petal width (cm): 1.8\n",
      "\n",
      "\n",
      "class virginica predicted as virginica\n",
      "sepal length (cm): 6.4\n",
      "sepal width (cm): 2.8\n",
      "petal length (cm): 5.6\n",
      "petal width (cm): 2.2\n",
      "\n",
      "\n",
      "class versicolor predicted as versicolor\n",
      "sepal length (cm): 5.2\n",
      "sepal width (cm): 2.7\n",
      "petal length (cm): 3.9\n",
      "petal width (cm): 1.4\n",
      "\n",
      "\n",
      "class setosa predicted as setosa\n",
      "sepal length (cm): 5.7\n",
      "sepal width (cm): 3.8\n",
      "petal length (cm): 1.7\n",
      "petal width (cm): 0.3\n",
      "\n",
      "\n",
      "class versicolor predicted as virginica\n",
      "sepal length (cm): 6.0\n",
      "sepal width (cm): 2.7\n",
      "petal length (cm): 5.1\n",
      "petal width (cm): 1.6\n",
      "\n",
      "\n",
      "class versicolor predicted as versicolor\n",
      "sepal length (cm): 5.9\n",
      "sepal width (cm): 3.0\n",
      "petal length (cm): 4.2\n",
      "petal width (cm): 1.5\n",
      "\n",
      "\n",
      "class versicolor predicted as versicolor\n",
      "sepal length (cm): 5.8\n",
      "sepal width (cm): 2.6\n",
      "petal length (cm): 4.0\n",
      "petal width (cm): 1.2\n",
      "\n",
      "\n",
      "class virginica predicted as virginica\n",
      "sepal length (cm): 6.8\n",
      "sepal width (cm): 3.0\n",
      "petal length (cm): 5.5\n",
      "petal width (cm): 2.1\n",
      "\n",
      "\n",
      "class setosa predicted as setosa\n",
      "sepal length (cm): 4.7\n",
      "sepal width (cm): 3.2\n",
      "petal length (cm): 1.3\n",
      "petal width (cm): 0.2\n",
      "\n",
      "\n",
      "class virginica predicted as virginica\n",
      "sepal length (cm): 6.9\n",
      "sepal width (cm): 3.1\n",
      "petal length (cm): 5.1\n",
      "petal width (cm): 2.3\n",
      "\n",
      "\n",
      "class setosa predicted as setosa\n",
      "sepal length (cm): 5.0\n",
      "sepal width (cm): 3.5\n",
      "petal length (cm): 1.6\n",
      "petal width (cm): 0.6\n",
      "\n",
      "\n",
      "class setosa predicted as setosa\n",
      "sepal length (cm): 5.4\n",
      "sepal width (cm): 3.7\n",
      "petal length (cm): 1.5\n",
      "petal width (cm): 0.2\n",
      "\n",
      "\n"
     ]
    }
   ],
   "source": [
    "for i in range(len(y_test)):\n",
    "    print(f\"class {iris.target_names[y_test[i]]} predicted as {iris.target_names[predicted_y_test[i]]}\")\n",
    "    for j in range(len(iris.feature_names)):\n",
    "        print(f\"{iris.feature_names[j]}: {X_test[i][j]}\")\n",
    "    print(\"\\n\")"
   ]
  },
  {
   "attachments": {},
   "cell_type": "markdown",
   "metadata": {},
   "source": [
    "##### Accuracy and F1 of the model \n",
    "- F1 = 2 * (precision * recall) / (precision + recall)\n",
    "- Accuracy = TP + TN / POS+NEG"
   ]
  },
  {
   "cell_type": "code",
   "execution_count": 7,
   "metadata": {},
   "outputs": [
    {
     "name": "stdout",
     "output_type": "stream",
     "text": [
      "accuracy: 0.9555555555555556\n",
      "f1 score: 0.9558404558404558\n"
     ]
    }
   ],
   "source": [
    "print(f\"accuracy: {accuracy_score(y_test, predicted_y_test)}\")\n",
    "f1 = f1_score(y_test, predicted_y_test, average='macro') # macro means that the score is calculated for each class and then averaged\n",
    "print(f\"f1 score: {f1}\")"
   ]
  },
  {
   "cell_type": "markdown",
   "metadata": {},
   "source": [
    "##### Cross Validation"
   ]
  },
  {
   "cell_type": "code",
   "execution_count": 8,
   "metadata": {},
   "outputs": [
    {
     "name": "stdout",
     "output_type": "stream",
     "text": [
      "cross validation scores: [0.96666667 1.         0.86666667 0.86666667 1.        ]\n",
      "cross validation f1 scores: [0.96658312 1.         0.86111111 0.86666667 1.        ]\n"
     ]
    }
   ],
   "source": [
    "#cross validation\n",
    "accuracy_scores = cross_val_score(clf, iris.data, iris.target, cv=5) # default score is the accuracy, 5-fold cross validation\n",
    "print(f\"cross validation scores: {accuracy_scores}\")\n",
    "f1_scores = cross_val_score(clf, iris.data, iris.target, cv=5, scoring='f1_macro') \n",
    "print(f\"cross validation f1 scores: {f1_scores}\")"
   ]
  },
  {
   "cell_type": "markdown",
   "metadata": {},
   "source": [
    "##### Visualize the Tree with Graphviz"
   ]
  },
  {
   "cell_type": "code",
   "execution_count": 9,
   "metadata": {},
   "outputs": [
    {
     "data": {
      "image/svg+xml": "<?xml version=\"1.0\" encoding=\"UTF-8\" standalone=\"no\"?>\n<!DOCTYPE svg PUBLIC \"-//W3C//DTD SVG 1.1//EN\"\n \"http://www.w3.org/Graphics/SVG/1.1/DTD/svg11.dtd\">\n<!-- Generated by graphviz version 7.0.3 (20221126.0506)\n -->\n<!-- Title: Tree Pages: 1 -->\n<svg width=\"660pt\" height=\"552pt\"\n viewBox=\"0.00 0.00 660.00 552.00\" xmlns=\"http://www.w3.org/2000/svg\" xmlns:xlink=\"http://www.w3.org/1999/xlink\">\n<g id=\"graph0\" class=\"graph\" transform=\"scale(1 1) rotate(0) translate(4 548)\">\n<title>Tree</title>\n<polygon fill=\"white\" stroke=\"none\" points=\"-4,4 -4,-548 656,-548 656,4 -4,4\"/>\n<!-- 0 -->\n<g id=\"node1\" class=\"node\">\n<title>0</title>\n<path fill=\"#ffffff\" stroke=\"black\" d=\"M366,-544C366,-544 225,-544 225,-544 219,-544 213,-538 213,-532 213,-532 213,-473 213,-473 213,-467 219,-461 225,-461 225,-461 366,-461 366,-461 372,-461 378,-467 378,-473 378,-473 378,-532 378,-532 378,-538 372,-544 366,-544\"/>\n<text text-anchor=\"start\" x=\"221\" y=\"-528.8\" font-family=\"Helvetica,sans-Serif\" font-size=\"14.00\">petal length (cm) ≤ 2.45</text>\n<text text-anchor=\"start\" x=\"245.5\" y=\"-513.8\" font-family=\"Helvetica,sans-Serif\" font-size=\"14.00\">entropy = 1.585</text>\n<text text-anchor=\"start\" x=\"248\" y=\"-498.8\" font-family=\"Helvetica,sans-Serif\" font-size=\"14.00\">samples = 150</text>\n<text text-anchor=\"start\" x=\"235\" y=\"-483.8\" font-family=\"Helvetica,sans-Serif\" font-size=\"14.00\">value = [50, 50, 50]</text>\n<text text-anchor=\"start\" x=\"249.5\" y=\"-468.8\" font-family=\"Helvetica,sans-Serif\" font-size=\"14.00\">class = setosa</text>\n</g>\n<!-- 1 -->\n<g id=\"node2\" class=\"node\">\n<title>1</title>\n<path fill=\"#e58139\" stroke=\"black\" d=\"M265,-417.5C265,-417.5 168,-417.5 168,-417.5 162,-417.5 156,-411.5 156,-405.5 156,-405.5 156,-361.5 156,-361.5 156,-355.5 162,-349.5 168,-349.5 168,-349.5 265,-349.5 265,-349.5 271,-349.5 277,-355.5 277,-361.5 277,-361.5 277,-405.5 277,-405.5 277,-411.5 271,-417.5 265,-417.5\"/>\n<text text-anchor=\"start\" x=\"174.5\" y=\"-402.3\" font-family=\"Helvetica,sans-Serif\" font-size=\"14.00\">entropy = 0.0</text>\n<text text-anchor=\"start\" x=\"173\" y=\"-387.3\" font-family=\"Helvetica,sans-Serif\" font-size=\"14.00\">samples = 50</text>\n<text text-anchor=\"start\" x=\"164\" y=\"-372.3\" font-family=\"Helvetica,sans-Serif\" font-size=\"14.00\">value = [50, 0, 0]</text>\n<text text-anchor=\"start\" x=\"170.5\" y=\"-357.3\" font-family=\"Helvetica,sans-Serif\" font-size=\"14.00\">class = setosa</text>\n</g>\n<!-- 0&#45;&gt;1 -->\n<g id=\"edge1\" class=\"edge\">\n<title>0&#45;&gt;1</title>\n<path fill=\"none\" stroke=\"black\" d=\"M267.87,-460.58C260.57,-449.77 252.68,-438.09 245.33,-427.19\"/>\n<polygon fill=\"black\" stroke=\"black\" points=\"248.37,-425.44 239.87,-419.12 242.57,-429.36 248.37,-425.44\"/>\n<text text-anchor=\"middle\" x=\"234.27\" y=\"-438.7\" font-family=\"Helvetica,sans-Serif\" font-size=\"14.00\">True</text>\n</g>\n<!-- 2 -->\n<g id=\"node3\" class=\"node\">\n<title>2</title>\n<path fill=\"#ffffff\" stroke=\"black\" d=\"M442,-425C442,-425 307,-425 307,-425 301,-425 295,-419 295,-413 295,-413 295,-354 295,-354 295,-348 301,-342 307,-342 307,-342 442,-342 442,-342 448,-342 454,-348 454,-354 454,-354 454,-413 454,-413 454,-419 448,-425 442,-425\"/>\n<text text-anchor=\"start\" x=\"303\" y=\"-409.8\" font-family=\"Helvetica,sans-Serif\" font-size=\"14.00\">petal width (cm) ≤ 1.75</text>\n<text text-anchor=\"start\" x=\"332.5\" y=\"-394.8\" font-family=\"Helvetica,sans-Serif\" font-size=\"14.00\">entropy = 1.0</text>\n<text text-anchor=\"start\" x=\"327\" y=\"-379.8\" font-family=\"Helvetica,sans-Serif\" font-size=\"14.00\">samples = 100</text>\n<text text-anchor=\"start\" x=\"318\" y=\"-364.8\" font-family=\"Helvetica,sans-Serif\" font-size=\"14.00\">value = [0, 50, 50]</text>\n<text text-anchor=\"start\" x=\"319\" y=\"-349.8\" font-family=\"Helvetica,sans-Serif\" font-size=\"14.00\">class = versicolor</text>\n</g>\n<!-- 0&#45;&gt;2 -->\n<g id=\"edge2\" class=\"edge\">\n<title>0&#45;&gt;2</title>\n<path fill=\"none\" stroke=\"black\" d=\"M323.13,-460.58C328.82,-452.16 334.86,-443.2 340.74,-434.5\"/>\n<polygon fill=\"black\" stroke=\"black\" points=\"343.48,-436.7 346.17,-426.45 337.67,-432.78 343.48,-436.7\"/>\n<text text-anchor=\"middle\" x=\"351.78\" y=\"-446.04\" font-family=\"Helvetica,sans-Serif\" font-size=\"14.00\">False</text>\n</g>\n<!-- 3 -->\n<g id=\"node4\" class=\"node\">\n<title>3</title>\n<path fill=\"#4de88e\" stroke=\"black\" d=\"M354,-306C354,-306 213,-306 213,-306 207,-306 201,-300 201,-294 201,-294 201,-235 201,-235 201,-229 207,-223 213,-223 213,-223 354,-223 354,-223 360,-223 366,-229 366,-235 366,-235 366,-294 366,-294 366,-300 360,-306 354,-306\"/>\n<text text-anchor=\"start\" x=\"209\" y=\"-290.8\" font-family=\"Helvetica,sans-Serif\" font-size=\"14.00\">petal length (cm) ≤ 4.95</text>\n<text text-anchor=\"start\" x=\"233.5\" y=\"-275.8\" font-family=\"Helvetica,sans-Serif\" font-size=\"14.00\">entropy = 0.445</text>\n<text text-anchor=\"start\" x=\"240\" y=\"-260.8\" font-family=\"Helvetica,sans-Serif\" font-size=\"14.00\">samples = 54</text>\n<text text-anchor=\"start\" x=\"231\" y=\"-245.8\" font-family=\"Helvetica,sans-Serif\" font-size=\"14.00\">value = [0, 49, 5]</text>\n<text text-anchor=\"start\" x=\"228\" y=\"-230.8\" font-family=\"Helvetica,sans-Serif\" font-size=\"14.00\">class = versicolor</text>\n</g>\n<!-- 2&#45;&gt;3 -->\n<g id=\"edge3\" class=\"edge\">\n<title>2&#45;&gt;3</title>\n<path fill=\"none\" stroke=\"black\" d=\"M342.67,-341.58C336.05,-333.07 329.01,-324.01 322.18,-315.23\"/>\n<polygon fill=\"black\" stroke=\"black\" points=\"324.99,-313.14 316.08,-307.39 319.46,-317.44 324.99,-313.14\"/>\n</g>\n<!-- 8 -->\n<g id=\"node9\" class=\"node\">\n<title>8</title>\n<path fill=\"#843de6\" stroke=\"black\" d=\"M537,-306C537,-306 396,-306 396,-306 390,-306 384,-300 384,-294 384,-294 384,-235 384,-235 384,-229 390,-223 396,-223 396,-223 537,-223 537,-223 543,-223 549,-229 549,-235 549,-235 549,-294 549,-294 549,-300 543,-306 537,-306\"/>\n<text text-anchor=\"start\" x=\"392\" y=\"-290.8\" font-family=\"Helvetica,sans-Serif\" font-size=\"14.00\">petal length (cm) ≤ 4.95</text>\n<text text-anchor=\"start\" x=\"416.5\" y=\"-275.8\" font-family=\"Helvetica,sans-Serif\" font-size=\"14.00\">entropy = 0.151</text>\n<text text-anchor=\"start\" x=\"423\" y=\"-260.8\" font-family=\"Helvetica,sans-Serif\" font-size=\"14.00\">samples = 46</text>\n<text text-anchor=\"start\" x=\"414\" y=\"-245.8\" font-family=\"Helvetica,sans-Serif\" font-size=\"14.00\">value = [0, 1, 45]</text>\n<text text-anchor=\"start\" x=\"416.5\" y=\"-230.8\" font-family=\"Helvetica,sans-Serif\" font-size=\"14.00\">class = virginica</text>\n</g>\n<!-- 2&#45;&gt;8 -->\n<g id=\"edge8\" class=\"edge\">\n<title>2&#45;&gt;8</title>\n<path fill=\"none\" stroke=\"black\" d=\"M406.68,-341.58C413.37,-333.07 420.49,-324.01 427.4,-315.23\"/>\n<polygon fill=\"black\" stroke=\"black\" points=\"430.13,-317.41 433.56,-307.39 424.63,-313.09 430.13,-317.41\"/>\n</g>\n<!-- 4 -->\n<g id=\"node5\" class=\"node\">\n<title>4</title>\n<path fill=\"#3de684\" stroke=\"black\" d=\"M208,-187C208,-187 63,-187 63,-187 57,-187 51,-181 51,-175 51,-175 51,-116 51,-116 51,-110 57,-104 63,-104 63,-104 208,-104 208,-104 214,-104 220,-110 220,-116 220,-116 220,-175 220,-175 220,-181 214,-187 208,-187\"/>\n<text text-anchor=\"start\" x=\"59\" y=\"-171.8\" font-family=\"Helvetica,sans-Serif\" font-size=\"14.00\">sepal length (cm) ≤ 5.15</text>\n<text text-anchor=\"start\" x=\"85.5\" y=\"-156.8\" font-family=\"Helvetica,sans-Serif\" font-size=\"14.00\">entropy = 0.146</text>\n<text text-anchor=\"start\" x=\"92\" y=\"-141.8\" font-family=\"Helvetica,sans-Serif\" font-size=\"14.00\">samples = 48</text>\n<text text-anchor=\"start\" x=\"83\" y=\"-126.8\" font-family=\"Helvetica,sans-Serif\" font-size=\"14.00\">value = [0, 47, 1]</text>\n<text text-anchor=\"start\" x=\"80\" y=\"-111.8\" font-family=\"Helvetica,sans-Serif\" font-size=\"14.00\">class = versicolor</text>\n</g>\n<!-- 3&#45;&gt;4 -->\n<g id=\"edge4\" class=\"edge\">\n<title>3&#45;&gt;4</title>\n<path fill=\"none\" stroke=\"black\" d=\"M231.74,-222.58C220.25,-213.49 207.96,-203.79 196.15,-194.45\"/>\n<polygon fill=\"black\" stroke=\"black\" points=\"198.44,-191.79 188.42,-188.34 194.1,-197.28 198.44,-191.79\"/>\n</g>\n<!-- 7 -->\n<g id=\"node8\" class=\"node\">\n<title>7</title>\n<path fill=\"#c09cf2\" stroke=\"black\" d=\"M342.5,-179.5C342.5,-179.5 250.5,-179.5 250.5,-179.5 244.5,-179.5 238.5,-173.5 238.5,-167.5 238.5,-167.5 238.5,-123.5 238.5,-123.5 238.5,-117.5 244.5,-111.5 250.5,-111.5 250.5,-111.5 342.5,-111.5 342.5,-111.5 348.5,-111.5 354.5,-117.5 354.5,-123.5 354.5,-123.5 354.5,-167.5 354.5,-167.5 354.5,-173.5 348.5,-179.5 342.5,-179.5\"/>\n<text text-anchor=\"start\" x=\"246.5\" y=\"-164.3\" font-family=\"Helvetica,sans-Serif\" font-size=\"14.00\">entropy = 0.918</text>\n<text text-anchor=\"start\" x=\"257\" y=\"-149.3\" font-family=\"Helvetica,sans-Serif\" font-size=\"14.00\">samples = 6</text>\n<text text-anchor=\"start\" x=\"248\" y=\"-134.3\" font-family=\"Helvetica,sans-Serif\" font-size=\"14.00\">value = [0, 2, 4]</text>\n<text text-anchor=\"start\" x=\"246.5\" y=\"-119.3\" font-family=\"Helvetica,sans-Serif\" font-size=\"14.00\">class = virginica</text>\n</g>\n<!-- 3&#45;&gt;7 -->\n<g id=\"edge7\" class=\"edge\">\n<title>3&#45;&gt;7</title>\n<path fill=\"none\" stroke=\"black\" d=\"M288.05,-222.58C289.17,-212.43 290.39,-201.5 291.54,-191.18\"/>\n<polygon fill=\"black\" stroke=\"black\" points=\"295,-191.69 292.63,-181.37 288.04,-190.92 295,-191.69\"/>\n</g>\n<!-- 5 -->\n<g id=\"node6\" class=\"node\">\n<title>5</title>\n<path fill=\"#6aeca0\" stroke=\"black\" d=\"M115,-68C115,-68 12,-68 12,-68 6,-68 0,-62 0,-56 0,-56 0,-12 0,-12 0,-6 6,0 12,0 12,0 115,0 115,0 121,0 127,-6 127,-12 127,-12 127,-56 127,-56 127,-62 121,-68 115,-68\"/>\n<text text-anchor=\"start\" x=\"13.5\" y=\"-52.8\" font-family=\"Helvetica,sans-Serif\" font-size=\"14.00\">entropy = 0.722</text>\n<text text-anchor=\"start\" x=\"24\" y=\"-37.8\" font-family=\"Helvetica,sans-Serif\" font-size=\"14.00\">samples = 5</text>\n<text text-anchor=\"start\" x=\"15\" y=\"-22.8\" font-family=\"Helvetica,sans-Serif\" font-size=\"14.00\">value = [0, 4, 1]</text>\n<text text-anchor=\"start\" x=\"8\" y=\"-7.8\" font-family=\"Helvetica,sans-Serif\" font-size=\"14.00\">class = versicolor</text>\n</g>\n<!-- 4&#45;&gt;5 -->\n<g id=\"edge5\" class=\"edge\">\n<title>4&#45;&gt;5</title>\n<path fill=\"none\" stroke=\"black\" d=\"M108.69,-103.73C103.11,-95.24 97.22,-86.28 91.6,-77.73\"/>\n<polygon fill=\"black\" stroke=\"black\" points=\"94.65,-76 86.23,-69.56 88.8,-79.84 94.65,-76\"/>\n</g>\n<!-- 6 -->\n<g id=\"node7\" class=\"node\">\n<title>6</title>\n<path fill=\"#39e581\" stroke=\"black\" d=\"M260,-68C260,-68 157,-68 157,-68 151,-68 145,-62 145,-56 145,-56 145,-12 145,-12 145,-6 151,0 157,0 157,0 260,0 260,0 266,0 272,-6 272,-12 272,-12 272,-56 272,-56 272,-62 266,-68 260,-68\"/>\n<text text-anchor=\"start\" x=\"166.5\" y=\"-52.8\" font-family=\"Helvetica,sans-Serif\" font-size=\"14.00\">entropy = 0.0</text>\n<text text-anchor=\"start\" x=\"165\" y=\"-37.8\" font-family=\"Helvetica,sans-Serif\" font-size=\"14.00\">samples = 43</text>\n<text text-anchor=\"start\" x=\"156\" y=\"-22.8\" font-family=\"Helvetica,sans-Serif\" font-size=\"14.00\">value = [0, 43, 0]</text>\n<text text-anchor=\"start\" x=\"153\" y=\"-7.8\" font-family=\"Helvetica,sans-Serif\" font-size=\"14.00\">class = versicolor</text>\n</g>\n<!-- 4&#45;&gt;6 -->\n<g id=\"edge6\" class=\"edge\">\n<title>4&#45;&gt;6</title>\n<path fill=\"none\" stroke=\"black\" d=\"M162.68,-103.73C168.34,-95.24 174.31,-86.28 180.01,-77.73\"/>\n<polygon fill=\"black\" stroke=\"black\" points=\"182.83,-79.82 185.46,-69.56 177,-75.94 182.83,-79.82\"/>\n</g>\n<!-- 9 -->\n<g id=\"node10\" class=\"node\">\n<title>9</title>\n<path fill=\"#9a61ea\" stroke=\"black\" d=\"M500.5,-179.5C500.5,-179.5 408.5,-179.5 408.5,-179.5 402.5,-179.5 396.5,-173.5 396.5,-167.5 396.5,-167.5 396.5,-123.5 396.5,-123.5 396.5,-117.5 402.5,-111.5 408.5,-111.5 408.5,-111.5 500.5,-111.5 500.5,-111.5 506.5,-111.5 512.5,-117.5 512.5,-123.5 512.5,-123.5 512.5,-167.5 512.5,-167.5 512.5,-173.5 506.5,-179.5 500.5,-179.5\"/>\n<text text-anchor=\"start\" x=\"408.5\" y=\"-164.3\" font-family=\"Helvetica,sans-Serif\" font-size=\"14.00\">entropy = 0.65</text>\n<text text-anchor=\"start\" x=\"415\" y=\"-149.3\" font-family=\"Helvetica,sans-Serif\" font-size=\"14.00\">samples = 6</text>\n<text text-anchor=\"start\" x=\"406\" y=\"-134.3\" font-family=\"Helvetica,sans-Serif\" font-size=\"14.00\">value = [0, 1, 5]</text>\n<text text-anchor=\"start\" x=\"404.5\" y=\"-119.3\" font-family=\"Helvetica,sans-Serif\" font-size=\"14.00\">class = virginica</text>\n</g>\n<!-- 8&#45;&gt;9 -->\n<g id=\"edge9\" class=\"edge\">\n<title>8&#45;&gt;9</title>\n<path fill=\"none\" stroke=\"black\" d=\"M462.3,-222.58C461.26,-212.43 460.14,-201.5 459.08,-191.18\"/>\n<polygon fill=\"black\" stroke=\"black\" points=\"462.58,-190.96 458.08,-181.37 455.61,-191.67 462.58,-190.96\"/>\n</g>\n<!-- 10 -->\n<g id=\"node11\" class=\"node\">\n<title>10</title>\n<path fill=\"#8139e5\" stroke=\"black\" d=\"M640,-179.5C640,-179.5 543,-179.5 543,-179.5 537,-179.5 531,-173.5 531,-167.5 531,-167.5 531,-123.5 531,-123.5 531,-117.5 537,-111.5 543,-111.5 543,-111.5 640,-111.5 640,-111.5 646,-111.5 652,-117.5 652,-123.5 652,-123.5 652,-167.5 652,-167.5 652,-173.5 646,-179.5 640,-179.5\"/>\n<text text-anchor=\"start\" x=\"549.5\" y=\"-164.3\" font-family=\"Helvetica,sans-Serif\" font-size=\"14.00\">entropy = 0.0</text>\n<text text-anchor=\"start\" x=\"548\" y=\"-149.3\" font-family=\"Helvetica,sans-Serif\" font-size=\"14.00\">samples = 40</text>\n<text text-anchor=\"start\" x=\"539\" y=\"-134.3\" font-family=\"Helvetica,sans-Serif\" font-size=\"14.00\">value = [0, 0, 40]</text>\n<text text-anchor=\"start\" x=\"541.5\" y=\"-119.3\" font-family=\"Helvetica,sans-Serif\" font-size=\"14.00\">class = virginica</text>\n</g>\n<!-- 8&#45;&gt;10 -->\n<g id=\"edge10\" class=\"edge\">\n<title>8&#45;&gt;10</title>\n<path fill=\"none\" stroke=\"black\" d=\"M510.22,-222.58C522.35,-211.23 535.51,-198.9 547.65,-187.55\"/>\n<polygon fill=\"black\" stroke=\"black\" points=\"549.84,-190.28 554.75,-180.9 545.06,-185.17 549.84,-190.28\"/>\n</g>\n</g>\n</svg>\n",
      "text/plain": [
       "<graphviz.sources.Source at 0x1d368ad1cd0>"
      ]
     },
     "execution_count": 9,
     "metadata": {},
     "output_type": "execute_result"
    }
   ],
   "source": [
    "# initialize another classifier to visualize the graph on the total examples\n",
    "clf_graph = tree.DecisionTreeClassifier(criterion=\"entropy\",random_state=300,min_samples_leaf=5,class_weight={0:1,1:1,2:1})\n",
    "clf_graph = clf_graph.fit(iris.data, iris.target)\n",
    "\n",
    "dot_data = tree.export_graphviz(clf_graph, out_file=None, \n",
    "                                feature_names=iris.feature_names,\n",
    "                                class_names=iris.target_names,\n",
    "                                filled=True, rounded=True,\n",
    "                                special_characters=True)\n",
    "graph = graphviz.Source(dot_data)\n",
    "graph"
   ]
  },
  {
   "cell_type": "markdown",
   "metadata": {},
   "source": [
    "- The maximum entropy is log2(3) = 1.585\n",
    "- The minimum entropy is 0\n",
    "- The class is chosen by the majority of the samples"
   ]
  },
  {
   "cell_type": "markdown",
   "metadata": {},
   "source": [
    "### 1 Oversampling (Artificial Inflation)"
   ]
  },
  {
   "cell_type": "markdown",
   "metadata": {},
   "source": [
    "Applicate un sovracampionamento (artificial inflation) ad una classe nel training set con un determinato fattore: 10 (si pesi di più una delle classi tra virginica o versicolor che sono più difficili da discriminare). Si apprenda l'albero di decisione in queste condizioni."
   ]
  },
  {
   "cell_type": "code",
   "execution_count": 87,
   "metadata": {},
   "outputs": [],
   "source": [
    "# Utilizzata per classificatori multiclasse\n",
    "def oversampling(X_train, y_train, oversampling_factor):\n",
    "\tX_train_augmented = []\n",
    "\ty_train_augmented = []\n",
    "\tfor (x,y) in zip(X_train, y_train):\n",
    "\t\tif y == 2:\n",
    "\t\t\tX_train_augmented.extend(repeat(x, oversampling_factor))\n",
    "\t\t\ty_train_augmented.extend(repeat(y, oversampling_factor))\n",
    "\t\telse:\n",
    "\t\t\tX_train_augmented.append(x)\n",
    "\t\t\ty_train_augmented.append(y)\n",
    "\treturn X_train_augmented, y_train_augmented\n",
    "\n",
    "# Utilizzata per classificatore one vs rest, le etichette che passiamo sono una lista\n",
    "def oversampling_list(X_train, y_train, oversampling_factor):\n",
    "\tX_train_augmented = []\n",
    "\ty_train_augmented = []\n",
    "\tfor (x,y) in zip(X_train, y_train):\n",
    "\t\tif 2 in y:\n",
    "\t\t\tX_train_augmented.extend(repeat(x, oversampling_factor))\n",
    "\t\t\ty_train_augmented.extend(repeat(y, oversampling_factor))\n",
    "\t\telse:\n",
    "\t\t\tX_train_augmented.append(x)\n",
    "\t\t\ty_train_augmented.append(y)\n",
    "\treturn X_train_augmented, y_train_augmented"
   ]
  },
  {
   "attachments": {},
   "cell_type": "markdown",
   "metadata": {},
   "source": [
    "#### Starting Tree\n",
    "Con tentativo di abbassare overfitting"
   ]
  },
  {
   "cell_type": "code",
   "execution_count": 107,
   "metadata": {},
   "outputs": [
    {
     "name": "stdout",
     "output_type": "stream",
     "text": [
      "accuracy: 0.9111111111111111\n",
      "f1 score: 0.8982456140350877\n"
     ]
    },
    {
     "data": {
      "text/plain": [
       "array([[16,  0,  0],\n",
       "       [ 0, 17,  1],\n",
       "       [ 0,  3,  8]], dtype=int64)"
      ]
     },
     "execution_count": 107,
     "metadata": {},
     "output_type": "execute_result"
    }
   ],
   "source": [
    "clf =  tree.DecisionTreeClassifier(criterion=\"entropy\",random_state=300,min_samples_leaf=30,class_weight={0:1,1:1,2:1},max_depth=2)\n",
    "iris = load_iris()\n",
    "X_train, X_test, y_train, y_test = train_test_split(iris.data, iris.target, test_size=0.3, random_state=0)\n",
    "\n",
    "clf = clf.fit(X_train, y_train)\n",
    "predicted_y_test = clf.predict(X_test)\n",
    "\n",
    "print(f\"accuracy: {accuracy_score(y_test, predicted_y_test)}\")\n",
    "\n",
    "f1 = f1_score(y_test, predicted_y_test, average='macro') # macro means that the score is calculated for each class and then averaged\n",
    "print(f\"f1 score: {f1}\")\n",
    "\n",
    "confusion_matrix(y_test, predicted_y_test)"
   ]
  },
  {
   "attachments": {},
   "cell_type": "markdown",
   "metadata": {},
   "source": [
    "# Schema one-vs-rest\n",
    "Per plottare le ROC curve delle varie classi"
   ]
  },
  {
   "cell_type": "code",
   "execution_count": 88,
   "metadata": {},
   "outputs": [
    {
     "data": {
      "image/png": "[encoded data removed]",
      "text/plain": [
       "<Figure size 432x288 with 1 Axes>"
      ]
     },
     "metadata": {
      "needs_background": "light"
     },
     "output_type": "display_data"
    }
   ],
   "source": [
    "X = iris.data\n",
    "y = iris.target\n",
    "\n",
    "# Binarize the output\n",
    "y = label_binarize(y, classes=[0, 1, 2])\n",
    "n_classes = y.shape[1]\n",
    "\n",
    "# shuffle and split training and test sets\n",
    "X_train, X_test, y_train, y_test = train_test_split(X, y, test_size=0.3, random_state=0)\n",
    "\n",
    "# Learn to predict each class against the other\n",
    "classifier = OneVsRestClassifier(tree.DecisionTreeClassifier(criterion=\"entropy\",random_state=300,min_samples_leaf=5,class_weight={0:1,1:1,2:1}))\n",
    "\n",
    "y_score = classifier.fit(X_train, y_train).predict_proba(X_test)\n",
    "\n",
    "# Compute ROC curve and ROC area for each class\n",
    "for i in range(n_classes):\n",
    "\tfpr, tpr, thresholds = metrics.roc_curve(y_test[:, i], y_score[:, i])\n",
    "\troc_auc = metrics.auc(fpr, tpr)\n",
    "\tplt.plot(fpr,tpr,label=f\"{iris.target_names[i]} estimator, AUC={str(roc_auc)}\")\n",
    "\tplt.legend()"
   ]
  },
  {
   "cell_type": "code",
   "execution_count": 77,
   "metadata": {},
   "outputs": [
    {
     "data": {
      "image/svg+xml": "<?xml version=\"1.0\" encoding=\"UTF-8\" standalone=\"no\"?>\n<!DOCTYPE svg PUBLIC \"-//W3C//DTD SVG 1.1//EN\"\n \"http://www.w3.org/Graphics/SVG/1.1/DTD/svg11.dtd\">\n<!-- Generated by graphviz version 7.0.3 (20221126.0506)\n -->\n<!-- Title: Tree Pages: 1 -->\n<svg width=\"361pt\" height=\"314pt\"\n viewBox=\"0.00 0.00 361.00 314.00\" xmlns=\"http://www.w3.org/2000/svg\" xmlns:xlink=\"http://www.w3.org/1999/xlink\">\n<g id=\"graph0\" class=\"graph\" transform=\"scale(1 1) rotate(0) translate(4 310)\">\n<title>Tree</title>\n<polygon fill=\"white\" stroke=\"none\" points=\"-4,4 -4,-310 357,-310 357,4 -4,4\"/>\n<!-- 0 -->\n<g id=\"node1\" class=\"node\">\n<title>0</title>\n<path fill=\"#f6f1fd\" stroke=\"black\" d=\"M211,-306C211,-306 70,-306 70,-306 64,-306 58,-300 58,-294 58,-294 58,-235 58,-235 58,-229 64,-223 70,-223 70,-223 211,-223 211,-223 217,-223 223,-229 223,-235 223,-235 223,-294 223,-294 223,-300 217,-306 211,-306\"/>\n<text text-anchor=\"start\" x=\"66\" y=\"-290.8\" font-family=\"Helvetica,sans-Serif\" font-size=\"14.00\">petal length (cm) ≤ 2.35</text>\n<text text-anchor=\"start\" x=\"94.5\" y=\"-275.8\" font-family=\"Helvetica,sans-Serif\" font-size=\"14.00\">entropy = 1.58</text>\n<text text-anchor=\"start\" x=\"93\" y=\"-260.8\" font-family=\"Helvetica,sans-Serif\" font-size=\"14.00\">samples = 105</text>\n<text text-anchor=\"start\" x=\"80\" y=\"-245.8\" font-family=\"Helvetica,sans-Serif\" font-size=\"14.00\">value = [34, 32, 39]</text>\n<text text-anchor=\"start\" x=\"90.5\" y=\"-230.8\" font-family=\"Helvetica,sans-Serif\" font-size=\"14.00\">class = virginica</text>\n</g>\n<!-- 1 -->\n<g id=\"node2\" class=\"node\">\n<title>1</title>\n<path fill=\"#e58139\" stroke=\"black\" d=\"M109,-179.5C109,-179.5 12,-179.5 12,-179.5 6,-179.5 0,-173.5 0,-167.5 0,-167.5 0,-123.5 0,-123.5 0,-117.5 6,-111.5 12,-111.5 12,-111.5 109,-111.5 109,-111.5 115,-111.5 121,-117.5 121,-123.5 121,-123.5 121,-167.5 121,-167.5 121,-173.5 115,-179.5 109,-179.5\"/>\n<text text-anchor=\"start\" x=\"18.5\" y=\"-164.3\" font-family=\"Helvetica,sans-Serif\" font-size=\"14.00\">entropy = 0.0</text>\n<text text-anchor=\"start\" x=\"17\" y=\"-149.3\" font-family=\"Helvetica,sans-Serif\" font-size=\"14.00\">samples = 34</text>\n<text text-anchor=\"start\" x=\"8\" y=\"-134.3\" font-family=\"Helvetica,sans-Serif\" font-size=\"14.00\">value = [34, 0, 0]</text>\n<text text-anchor=\"start\" x=\"14.5\" y=\"-119.3\" font-family=\"Helvetica,sans-Serif\" font-size=\"14.00\">class = setosa</text>\n</g>\n<!-- 0&#45;&gt;1 -->\n<g id=\"edge1\" class=\"edge\">\n<title>0&#45;&gt;1</title>\n<path fill=\"none\" stroke=\"black\" d=\"M112.52,-222.58C105.13,-211.77 97.14,-200.09 89.69,-189.19\"/>\n<polygon fill=\"black\" stroke=\"black\" points=\"92.7,-187.39 84.17,-181.11 86.92,-191.34 92.7,-187.39\"/>\n<text text-anchor=\"middle\" x=\"78.7\" y=\"-200.73\" font-family=\"Helvetica,sans-Serif\" font-size=\"14.00\">True</text>\n</g>\n<!-- 2 -->\n<g id=\"node3\" class=\"node\">\n<title>2</title>\n<path fill=\"#e8dbfa\" stroke=\"black\" d=\"M292,-187C292,-187 151,-187 151,-187 145,-187 139,-181 139,-175 139,-175 139,-116 139,-116 139,-110 145,-104 151,-104 151,-104 292,-104 292,-104 298,-104 304,-110 304,-116 304,-116 304,-175 304,-175 304,-181 298,-187 292,-187\"/>\n<text text-anchor=\"start\" x=\"147\" y=\"-171.8\" font-family=\"Helvetica,sans-Serif\" font-size=\"14.00\">petal length (cm) ≤ 4.95</text>\n<text text-anchor=\"start\" x=\"171.5\" y=\"-156.8\" font-family=\"Helvetica,sans-Serif\" font-size=\"14.00\">entropy = 0.993</text>\n<text text-anchor=\"start\" x=\"178\" y=\"-141.8\" font-family=\"Helvetica,sans-Serif\" font-size=\"14.00\">samples = 71</text>\n<text text-anchor=\"start\" x=\"165\" y=\"-126.8\" font-family=\"Helvetica,sans-Serif\" font-size=\"14.00\">value = [0, 32, 39]</text>\n<text text-anchor=\"start\" x=\"171.5\" y=\"-111.8\" font-family=\"Helvetica,sans-Serif\" font-size=\"14.00\">class = virginica</text>\n</g>\n<!-- 0&#45;&gt;2 -->\n<g id=\"edge2\" class=\"edge\">\n<title>0&#45;&gt;2</title>\n<path fill=\"none\" stroke=\"black\" d=\"M168.83,-222.58C174.66,-214.16 180.86,-205.2 186.88,-196.5\"/>\n<polygon fill=\"black\" stroke=\"black\" points=\"189.65,-198.66 192.46,-188.44 183.89,-194.67 189.65,-198.66\"/>\n<text text-anchor=\"middle\" x=\"197.8\" y=\"-208.1\" font-family=\"Helvetica,sans-Serif\" font-size=\"14.00\">False</text>\n</g>\n<!-- 3 -->\n<g id=\"node4\" class=\"node\">\n<title>3</title>\n<path fill=\"#4ce88d\" stroke=\"black\" d=\"M202,-68C202,-68 99,-68 99,-68 93,-68 87,-62 87,-56 87,-56 87,-12 87,-12 87,-6 93,0 99,0 99,0 202,0 202,0 208,0 214,-6 214,-12 214,-12 214,-56 214,-56 214,-62 208,-68 202,-68\"/>\n<text text-anchor=\"start\" x=\"100.5\" y=\"-52.8\" font-family=\"Helvetica,sans-Serif\" font-size=\"14.00\">entropy = 0.431</text>\n<text text-anchor=\"start\" x=\"107\" y=\"-37.8\" font-family=\"Helvetica,sans-Serif\" font-size=\"14.00\">samples = 34</text>\n<text text-anchor=\"start\" x=\"98\" y=\"-22.8\" font-family=\"Helvetica,sans-Serif\" font-size=\"14.00\">value = [0, 31, 3]</text>\n<text text-anchor=\"start\" x=\"95\" y=\"-7.8\" font-family=\"Helvetica,sans-Serif\" font-size=\"14.00\">class = versicolor</text>\n</g>\n<!-- 2&#45;&gt;3 -->\n<g id=\"edge3\" class=\"edge\">\n<title>2&#45;&gt;3</title>\n<path fill=\"none\" stroke=\"black\" d=\"M195.06,-103.73C189.56,-95.24 183.75,-86.28 178.21,-77.73\"/>\n<polygon fill=\"black\" stroke=\"black\" points=\"181.29,-76.06 172.91,-69.57 175.42,-79.86 181.29,-76.06\"/>\n</g>\n<!-- 4 -->\n<g id=\"node5\" class=\"node\">\n<title>4</title>\n<path fill=\"#843ee6\" stroke=\"black\" d=\"M341,-68C341,-68 244,-68 244,-68 238,-68 232,-62 232,-56 232,-56 232,-12 232,-12 232,-6 238,0 244,0 244,0 341,0 341,0 347,0 353,-6 353,-12 353,-12 353,-56 353,-56 353,-62 347,-68 341,-68\"/>\n<text text-anchor=\"start\" x=\"242.5\" y=\"-52.8\" font-family=\"Helvetica,sans-Serif\" font-size=\"14.00\">entropy = 0.179</text>\n<text text-anchor=\"start\" x=\"249\" y=\"-37.8\" font-family=\"Helvetica,sans-Serif\" font-size=\"14.00\">samples = 37</text>\n<text text-anchor=\"start\" x=\"240\" y=\"-22.8\" font-family=\"Helvetica,sans-Serif\" font-size=\"14.00\">value = [0, 1, 36]</text>\n<text text-anchor=\"start\" x=\"242.5\" y=\"-7.8\" font-family=\"Helvetica,sans-Serif\" font-size=\"14.00\">class = virginica</text>\n</g>\n<!-- 2&#45;&gt;4 -->\n<g id=\"edge4\" class=\"edge\">\n<title>2&#45;&gt;4</title>\n<path fill=\"none\" stroke=\"black\" d=\"M247.94,-103.73C253.44,-95.24 259.25,-86.28 264.79,-77.73\"/>\n<polygon fill=\"black\" stroke=\"black\" points=\"267.58,-79.86 270.09,-69.57 261.71,-76.06 267.58,-79.86\"/>\n</g>\n</g>\n</svg>\n",
      "text/plain": [
       "<graphviz.sources.Source at 0x1d310b182e0>"
      ]
     },
     "execution_count": 77,
     "metadata": {},
     "output_type": "execute_result"
    }
   ],
   "source": [
    "clf_graph = tree.DecisionTreeClassifier(criterion=\"entropy\",random_state=300,min_samples_leaf=30,class_weight={0:1,1:1,2:1})\n",
    "clf_graph = clf_graph.fit(X_train, y_train)\n",
    "\n",
    "dot_data = tree.export_graphviz(clf_graph, out_file=None, \n",
    "                                feature_names=iris.feature_names,\n",
    "                                class_names=iris.target_names,\n",
    "                                filled=True, rounded=True,\n",
    "                                special_characters=True)\n",
    "graph = graphviz.Source(dot_data)\n",
    "graph"
   ]
  },
  {
   "cell_type": "markdown",
   "metadata": {},
   "source": [
    "#### Oversampling Tree"
   ]
  },
  {
   "cell_type": "code",
   "execution_count": 103,
   "metadata": {},
   "outputs": [
    {
     "name": "stdout",
     "output_type": "stream",
     "text": [
      "accuracy: 0.8\n",
      "f1 score: 0.7931034482758621\n"
     ]
    },
    {
     "data": {
      "text/plain": [
       "array([[16,  0,  0],\n",
       "       [ 0, 10,  8],\n",
       "       [ 0,  1, 10]], dtype=int64)"
      ]
     },
     "execution_count": 103,
     "metadata": {},
     "output_type": "execute_result"
    }
   ],
   "source": [
    "OVERSAMPLING_FACTOR = 10\n",
    "\n",
    "clf_oversampling = tree.DecisionTreeClassifier(criterion=\"entropy\",random_state=300,min_samples_leaf=5,class_weight={0:1,1:1,2:1})\n",
    "\n",
    "iris = load_iris()\n",
    "X_train, X_test, y_train, y_test = train_test_split(iris.data, iris.target, test_size=0.3, random_state=0)\n",
    "\n",
    "X_train_oversample, y_train_oversample = oversampling(X_train, y_train, OVERSAMPLING_FACTOR)\n",
    "\n",
    "clf_oversampling = clf_oversampling.fit(X_train_oversample, y_train_oversample)\n",
    "\n",
    "predicted_y_test = clf_oversampling.predict(X_test)\n",
    "\t\n",
    "print(f\"accuracy: {accuracy_score(y_test, predicted_y_test)}\")\n",
    "\n",
    "f1 = f1_score(y_test, predicted_y_test, average='macro') # macro means that the score is calculated for each class and then averaged\n",
    "print(f\"f1 score: {f1}\")\n",
    "\n",
    "confusion_matrix(y_test, predicted_y_test)"
   ]
  },
  {
   "cell_type": "code",
   "execution_count": 97,
   "metadata": {},
   "outputs": [
    {
     "data": {
      "image/png": "[encoded data removed]",
      "text/plain": [
       "<Figure size 432x288 with 1 Axes>"
      ]
     },
     "metadata": {
      "needs_background": "light"
     },
     "output_type": "display_data"
    }
   ],
   "source": [
    "X = iris.data\n",
    "y = iris.target\n",
    "\n",
    "# Binarize the output\n",
    "y = label_binarize(y, classes=[0, 1, 2])\n",
    "n_classes = y.shape[1]\n",
    "\n",
    "# shuffle and split training and test sets\n",
    "X_train, X_test, y_train, y_test = train_test_split(X, y, test_size=0.3, random_state=0)\n",
    "X_train_oversample, y_train_oversample = oversampling_list(X_train, y_train, OVERSAMPLING_FACTOR)\n",
    "\n",
    "# Learn to predict each class against the other\n",
    "classifier = OneVsRestClassifier(tree.DecisionTreeClassifier(criterion=\"entropy\",random_state=300,min_samples_leaf=5,class_weight={0:1,1:1,2:1}))\n",
    "\n",
    "y_score = classifier.fit(X_train_oversample, y_train_oversample).predict_proba(X_test)\n",
    "\n",
    "# Compute ROC curve and ROC area for each class\n",
    "for i in range(n_classes):\n",
    "\tfpr, tpr, thresholds = metrics.roc_curve(y_test[:, i], y_score[:, i])\n",
    "\troc_auc = metrics.auc(fpr, tpr)\n",
    "\tplt.plot(fpr,tpr,label=f\"{iris.target_names[i]} estimator, AUC={str(roc_auc)}\")\n",
    "\tplt.legend()"
   ]
  },
  {
   "cell_type": "code",
   "execution_count": 101,
   "metadata": {},
   "outputs": [
    {
     "data": {
      "image/svg+xml": "<?xml version=\"1.0\" encoding=\"UTF-8\" standalone=\"no\"?>\n<!DOCTYPE svg PUBLIC \"-//W3C//DTD SVG 1.1//EN\"\n \"http://www.w3.org/Graphics/SVG/1.1/DTD/svg11.dtd\">\n<!-- Generated by graphviz version 7.0.3 (20221126.0506)\n -->\n<!-- Title: Tree Pages: 1 -->\n<svg width=\"612pt\" height=\"552pt\"\n viewBox=\"0.00 0.00 612.00 552.00\" xmlns=\"http://www.w3.org/2000/svg\" xmlns:xlink=\"http://www.w3.org/1999/xlink\">\n<g id=\"graph0\" class=\"graph\" transform=\"scale(1 1) rotate(0) translate(4 548)\">\n<title>Tree</title>\n<polygon fill=\"white\" stroke=\"none\" points=\"-4,4 -4,-548 608,-548 608,4 -4,4\"/>\n<!-- 0 -->\n<g id=\"node1\" class=\"node\">\n<title>0</title>\n<path fill=\"#9558e9\" stroke=\"black\" d=\"M356,-544C356,-544 221,-544 221,-544 215,-544 209,-538 209,-532 209,-532 209,-473 209,-473 209,-467 215,-461 221,-461 221,-461 356,-461 356,-461 362,-461 368,-467 368,-473 368,-473 368,-532 368,-532 368,-538 362,-544 356,-544\"/>\n<text text-anchor=\"start\" x=\"217\" y=\"-528.8\" font-family=\"Helvetica,sans-Serif\" font-size=\"14.00\">petal width (cm) ≤ 1.45</text>\n<text text-anchor=\"start\" x=\"238.5\" y=\"-513.8\" font-family=\"Helvetica,sans-Serif\" font-size=\"14.00\">entropy = 0.741</text>\n<text text-anchor=\"start\" x=\"241\" y=\"-498.8\" font-family=\"Helvetica,sans-Serif\" font-size=\"14.00\">samples = 456</text>\n<text text-anchor=\"start\" x=\"223.5\" y=\"-483.8\" font-family=\"Helvetica,sans-Serif\" font-size=\"14.00\">value = [34, 32, 390]</text>\n<text text-anchor=\"start\" x=\"238.5\" y=\"-468.8\" font-family=\"Helvetica,sans-Serif\" font-size=\"14.00\">class = virginica</text>\n</g>\n<!-- 1 -->\n<g id=\"node2\" class=\"node\">\n<title>1</title>\n<path fill=\"#f8decb\" stroke=\"black\" d=\"M268,-425C268,-425 127,-425 127,-425 121,-425 115,-419 115,-413 115,-413 115,-354 115,-354 115,-348 121,-342 127,-342 127,-342 268,-342 268,-342 274,-342 280,-348 280,-354 280,-354 280,-413 280,-413 280,-419 274,-425 268,-425\"/>\n<text text-anchor=\"start\" x=\"123\" y=\"-409.8\" font-family=\"Helvetica,sans-Serif\" font-size=\"14.00\">petal length (cm) ≤ 2.35</text>\n<text text-anchor=\"start\" x=\"147.5\" y=\"-394.8\" font-family=\"Helvetica,sans-Serif\" font-size=\"14.00\">entropy = 0.983</text>\n<text text-anchor=\"start\" x=\"154\" y=\"-379.8\" font-family=\"Helvetica,sans-Serif\" font-size=\"14.00\">samples = 59</text>\n<text text-anchor=\"start\" x=\"141\" y=\"-364.8\" font-family=\"Helvetica,sans-Serif\" font-size=\"14.00\">value = [34, 25, 0]</text>\n<text text-anchor=\"start\" x=\"151.5\" y=\"-349.8\" font-family=\"Helvetica,sans-Serif\" font-size=\"14.00\">class = setosa</text>\n</g>\n<!-- 0&#45;&gt;1 -->\n<g id=\"edge1\" class=\"edge\">\n<title>0&#45;&gt;1</title>\n<path fill=\"none\" stroke=\"black\" d=\"M256.67,-460.58C250.05,-452.07 243.01,-443.01 236.18,-434.23\"/>\n<polygon fill=\"black\" stroke=\"black\" points=\"238.99,-432.14 230.08,-426.39 233.46,-436.44 238.99,-432.14\"/>\n<text text-anchor=\"middle\" x=\"226.05\" y=\"-446.31\" font-family=\"Helvetica,sans-Serif\" font-size=\"14.00\">True</text>\n</g>\n<!-- 4 -->\n<g id=\"node5\" class=\"node\">\n<title>4</title>\n<path fill=\"#833de5\" stroke=\"black\" d=\"M451,-425C451,-425 310,-425 310,-425 304,-425 298,-419 298,-413 298,-413 298,-354 298,-354 298,-348 304,-342 310,-342 310,-342 451,-342 451,-342 457,-342 463,-348 463,-354 463,-354 463,-413 463,-413 463,-419 457,-425 451,-425\"/>\n<text text-anchor=\"start\" x=\"306\" y=\"-409.8\" font-family=\"Helvetica,sans-Serif\" font-size=\"14.00\">petal length (cm) ≤ 5.05</text>\n<text text-anchor=\"start\" x=\"330.5\" y=\"-394.8\" font-family=\"Helvetica,sans-Serif\" font-size=\"14.00\">entropy = 0.128</text>\n<text text-anchor=\"start\" x=\"333\" y=\"-379.8\" font-family=\"Helvetica,sans-Serif\" font-size=\"14.00\">samples = 397</text>\n<text text-anchor=\"start\" x=\"324\" y=\"-364.8\" font-family=\"Helvetica,sans-Serif\" font-size=\"14.00\">value = [0, 7, 390]</text>\n<text text-anchor=\"start\" x=\"330.5\" y=\"-349.8\" font-family=\"Helvetica,sans-Serif\" font-size=\"14.00\">class = virginica</text>\n</g>\n<!-- 0&#45;&gt;4 -->\n<g id=\"edge4\" class=\"edge\">\n<title>0&#45;&gt;4</title>\n<path fill=\"none\" stroke=\"black\" d=\"M320.68,-460.58C327.37,-452.07 334.49,-443.01 341.4,-434.23\"/>\n<polygon fill=\"black\" stroke=\"black\" points=\"344.13,-436.41 347.56,-426.39 338.63,-432.09 344.13,-436.41\"/>\n<text text-anchor=\"middle\" x=\"351.47\" y=\"-446.32\" font-family=\"Helvetica,sans-Serif\" font-size=\"14.00\">False</text>\n</g>\n<!-- 2 -->\n<g id=\"node3\" class=\"node\">\n<title>2</title>\n<path fill=\"#e58139\" stroke=\"black\" d=\"M109,-298.5C109,-298.5 12,-298.5 12,-298.5 6,-298.5 0,-292.5 0,-286.5 0,-286.5 0,-242.5 0,-242.5 0,-236.5 6,-230.5 12,-230.5 12,-230.5 109,-230.5 109,-230.5 115,-230.5 121,-236.5 121,-242.5 121,-242.5 121,-286.5 121,-286.5 121,-292.5 115,-298.5 109,-298.5\"/>\n<text text-anchor=\"start\" x=\"18.5\" y=\"-283.3\" font-family=\"Helvetica,sans-Serif\" font-size=\"14.00\">entropy = 0.0</text>\n<text text-anchor=\"start\" x=\"17\" y=\"-268.3\" font-family=\"Helvetica,sans-Serif\" font-size=\"14.00\">samples = 34</text>\n<text text-anchor=\"start\" x=\"8\" y=\"-253.3\" font-family=\"Helvetica,sans-Serif\" font-size=\"14.00\">value = [34, 0, 0]</text>\n<text text-anchor=\"start\" x=\"14.5\" y=\"-238.3\" font-family=\"Helvetica,sans-Serif\" font-size=\"14.00\">class = setosa</text>\n</g>\n<!-- 1&#45;&gt;2 -->\n<g id=\"edge2\" class=\"edge\">\n<title>1&#45;&gt;2</title>\n<path fill=\"none\" stroke=\"black\" d=\"M149.58,-341.58C136.17,-330.12 121.58,-317.67 108.18,-306.22\"/>\n<polygon fill=\"black\" stroke=\"black\" points=\"110.59,-303.68 100.71,-299.84 106.05,-309 110.59,-303.68\"/>\n</g>\n<!-- 3 -->\n<g id=\"node4\" class=\"node\">\n<title>3</title>\n<path fill=\"#39e581\" stroke=\"black\" d=\"M254,-298.5C254,-298.5 151,-298.5 151,-298.5 145,-298.5 139,-292.5 139,-286.5 139,-286.5 139,-242.5 139,-242.5 139,-236.5 145,-230.5 151,-230.5 151,-230.5 254,-230.5 254,-230.5 260,-230.5 266,-236.5 266,-242.5 266,-242.5 266,-286.5 266,-286.5 266,-292.5 260,-298.5 254,-298.5\"/>\n<text text-anchor=\"start\" x=\"160.5\" y=\"-283.3\" font-family=\"Helvetica,sans-Serif\" font-size=\"14.00\">entropy = 0.0</text>\n<text text-anchor=\"start\" x=\"159\" y=\"-268.3\" font-family=\"Helvetica,sans-Serif\" font-size=\"14.00\">samples = 25</text>\n<text text-anchor=\"start\" x=\"150\" y=\"-253.3\" font-family=\"Helvetica,sans-Serif\" font-size=\"14.00\">value = [0, 25, 0]</text>\n<text text-anchor=\"start\" x=\"147\" y=\"-238.3\" font-family=\"Helvetica,sans-Serif\" font-size=\"14.00\">class = versicolor</text>\n</g>\n<!-- 1&#45;&gt;3 -->\n<g id=\"edge3\" class=\"edge\">\n<title>1&#45;&gt;3</title>\n<path fill=\"none\" stroke=\"black\" d=\"M199.25,-341.58C199.68,-331.43 200.15,-320.5 200.59,-310.18\"/>\n<polygon fill=\"black\" stroke=\"black\" points=\"204.08,-310.51 201.01,-300.37 197.09,-310.21 204.08,-310.51\"/>\n</g>\n<!-- 5 -->\n<g id=\"node6\" class=\"node\">\n<title>5</title>\n<path fill=\"#9050e8\" stroke=\"black\" d=\"M445,-306C445,-306 306,-306 306,-306 300,-306 294,-300 294,-294 294,-294 294,-235 294,-235 294,-229 300,-223 306,-223 306,-223 445,-223 445,-223 451,-223 457,-229 457,-235 457,-235 457,-294 457,-294 457,-300 451,-306 445,-306\"/>\n<text text-anchor=\"start\" x=\"302\" y=\"-290.8\" font-family=\"Helvetica,sans-Serif\" font-size=\"14.00\">sepal width (cm) ≤ 2.85</text>\n<text text-anchor=\"start\" x=\"325.5\" y=\"-275.8\" font-family=\"Helvetica,sans-Serif\" font-size=\"14.00\">entropy = 0.483</text>\n<text text-anchor=\"start\" x=\"332\" y=\"-260.8\" font-family=\"Helvetica,sans-Serif\" font-size=\"14.00\">samples = 67</text>\n<text text-anchor=\"start\" x=\"323\" y=\"-245.8\" font-family=\"Helvetica,sans-Serif\" font-size=\"14.00\">value = [0, 7, 60]</text>\n<text text-anchor=\"start\" x=\"325.5\" y=\"-230.8\" font-family=\"Helvetica,sans-Serif\" font-size=\"14.00\">class = virginica</text>\n</g>\n<!-- 4&#45;&gt;5 -->\n<g id=\"edge5\" class=\"edge\">\n<title>4&#45;&gt;5</title>\n<path fill=\"none\" stroke=\"black\" d=\"M378.75,-341.58C378.42,-333.79 378.07,-325.53 377.72,-317.45\"/>\n<polygon fill=\"black\" stroke=\"black\" points=\"381.23,-317.55 377.3,-307.71 374.23,-317.85 381.23,-317.55\"/>\n</g>\n<!-- 10 -->\n<g id=\"node11\" class=\"node\">\n<title>10</title>\n<path fill=\"#8139e5\" stroke=\"black\" d=\"M592,-298.5C592,-298.5 487,-298.5 487,-298.5 481,-298.5 475,-292.5 475,-286.5 475,-286.5 475,-242.5 475,-242.5 475,-236.5 481,-230.5 487,-230.5 487,-230.5 592,-230.5 592,-230.5 598,-230.5 604,-236.5 604,-242.5 604,-242.5 604,-286.5 604,-286.5 604,-292.5 598,-298.5 592,-298.5\"/>\n<text text-anchor=\"start\" x=\"497.5\" y=\"-283.3\" font-family=\"Helvetica,sans-Serif\" font-size=\"14.00\">entropy = 0.0</text>\n<text text-anchor=\"start\" x=\"492\" y=\"-268.3\" font-family=\"Helvetica,sans-Serif\" font-size=\"14.00\">samples = 330</text>\n<text text-anchor=\"start\" x=\"483\" y=\"-253.3\" font-family=\"Helvetica,sans-Serif\" font-size=\"14.00\">value = [0, 0, 330]</text>\n<text text-anchor=\"start\" x=\"489.5\" y=\"-238.3\" font-family=\"Helvetica,sans-Serif\" font-size=\"14.00\">class = virginica</text>\n</g>\n<!-- 4&#45;&gt;10 -->\n<g id=\"edge10\" class=\"edge\">\n<title>4&#45;&gt;10</title>\n<path fill=\"none\" stroke=\"black\" d=\"M436.11,-341.58C451.98,-329.9 469.25,-317.19 485.05,-305.57\"/>\n<polygon fill=\"black\" stroke=\"black\" points=\"486.96,-308.5 492.94,-299.76 482.82,-302.87 486.96,-308.5\"/>\n</g>\n<!-- 6 -->\n<g id=\"node7\" class=\"node\">\n<title>6</title>\n<path fill=\"#8641e6\" stroke=\"black\" d=\"M362,-187C362,-187 235,-187 235,-187 229,-187 223,-181 223,-175 223,-175 223,-116 223,-116 223,-110 229,-104 235,-104 235,-104 362,-104 362,-104 368,-104 374,-110 374,-116 374,-116 374,-175 374,-175 374,-181 368,-187 362,-187\"/>\n<text text-anchor=\"start\" x=\"231\" y=\"-171.8\" font-family=\"Helvetica,sans-Serif\" font-size=\"14.00\">petal width (cm) ≤ 1.6</text>\n<text text-anchor=\"start\" x=\"248.5\" y=\"-156.8\" font-family=\"Helvetica,sans-Serif\" font-size=\"14.00\">entropy = 0.235</text>\n<text text-anchor=\"start\" x=\"255\" y=\"-141.8\" font-family=\"Helvetica,sans-Serif\" font-size=\"14.00\">samples = 52</text>\n<text text-anchor=\"start\" x=\"246\" y=\"-126.8\" font-family=\"Helvetica,sans-Serif\" font-size=\"14.00\">value = [0, 2, 50]</text>\n<text text-anchor=\"start\" x=\"248.5\" y=\"-111.8\" font-family=\"Helvetica,sans-Serif\" font-size=\"14.00\">class = virginica</text>\n</g>\n<!-- 5&#45;&gt;6 -->\n<g id=\"edge6\" class=\"edge\">\n<title>5&#45;&gt;6</title>\n<path fill=\"none\" stroke=\"black\" d=\"M348.57,-222.58C343.09,-214.25 337.26,-205.39 331.59,-196.78\"/>\n<polygon fill=\"black\" stroke=\"black\" points=\"334.54,-194.89 326.12,-188.46 328.69,-198.74 334.54,-194.89\"/>\n</g>\n<!-- 9 -->\n<g id=\"node10\" class=\"node\">\n<title>9</title>\n<path fill=\"#c09cf2\" stroke=\"black\" d=\"M501,-179.5C501,-179.5 404,-179.5 404,-179.5 398,-179.5 392,-173.5 392,-167.5 392,-167.5 392,-123.5 392,-123.5 392,-117.5 398,-111.5 404,-111.5 404,-111.5 501,-111.5 501,-111.5 507,-111.5 513,-117.5 513,-123.5 513,-123.5 513,-167.5 513,-167.5 513,-173.5 507,-179.5 501,-179.5\"/>\n<text text-anchor=\"start\" x=\"402.5\" y=\"-164.3\" font-family=\"Helvetica,sans-Serif\" font-size=\"14.00\">entropy = 0.918</text>\n<text text-anchor=\"start\" x=\"409\" y=\"-149.3\" font-family=\"Helvetica,sans-Serif\" font-size=\"14.00\">samples = 15</text>\n<text text-anchor=\"start\" x=\"400\" y=\"-134.3\" font-family=\"Helvetica,sans-Serif\" font-size=\"14.00\">value = [0, 5, 10]</text>\n<text text-anchor=\"start\" x=\"402.5\" y=\"-119.3\" font-family=\"Helvetica,sans-Serif\" font-size=\"14.00\">class = virginica</text>\n</g>\n<!-- 5&#45;&gt;9 -->\n<g id=\"edge9\" class=\"edge\">\n<title>5&#45;&gt;9</title>\n<path fill=\"none\" stroke=\"black\" d=\"M402.43,-222.58C409.54,-211.77 417.23,-200.09 424.4,-189.19\"/>\n<polygon fill=\"black\" stroke=\"black\" points=\"427.14,-191.4 429.71,-181.13 421.29,-187.55 427.14,-191.4\"/>\n</g>\n<!-- 7 -->\n<g id=\"node8\" class=\"node\">\n<title>7</title>\n<path fill=\"#9a61ea\" stroke=\"black\" d=\"M278,-68C278,-68 181,-68 181,-68 175,-68 169,-62 169,-56 169,-56 169,-12 169,-12 169,-6 175,0 181,0 181,0 278,0 278,0 284,0 290,-6 290,-12 290,-12 290,-56 290,-56 290,-62 284,-68 278,-68\"/>\n<text text-anchor=\"start\" x=\"183.5\" y=\"-52.8\" font-family=\"Helvetica,sans-Serif\" font-size=\"14.00\">entropy = 0.65</text>\n<text text-anchor=\"start\" x=\"186\" y=\"-37.8\" font-family=\"Helvetica,sans-Serif\" font-size=\"14.00\">samples = 12</text>\n<text text-anchor=\"start\" x=\"177\" y=\"-22.8\" font-family=\"Helvetica,sans-Serif\" font-size=\"14.00\">value = [0, 2, 10]</text>\n<text text-anchor=\"start\" x=\"179.5\" y=\"-7.8\" font-family=\"Helvetica,sans-Serif\" font-size=\"14.00\">class = virginica</text>\n</g>\n<!-- 6&#45;&gt;7 -->\n<g id=\"edge7\" class=\"edge\">\n<title>6&#45;&gt;7</title>\n<path fill=\"none\" stroke=\"black\" d=\"M272.81,-103.73C267.52,-95.34 261.94,-86.47 256.6,-78.01\"/>\n<polygon fill=\"black\" stroke=\"black\" points=\"259.58,-76.17 251.29,-69.58 253.66,-79.91 259.58,-76.17\"/>\n</g>\n<!-- 8 -->\n<g id=\"node9\" class=\"node\">\n<title>8</title>\n<path fill=\"#8139e5\" stroke=\"black\" d=\"M417,-68C417,-68 320,-68 320,-68 314,-68 308,-62 308,-56 308,-56 308,-12 308,-12 308,-6 314,0 320,0 320,0 417,0 417,0 423,0 429,-6 429,-12 429,-12 429,-56 429,-56 429,-62 423,-68 417,-68\"/>\n<text text-anchor=\"start\" x=\"326.5\" y=\"-52.8\" font-family=\"Helvetica,sans-Serif\" font-size=\"14.00\">entropy = 0.0</text>\n<text text-anchor=\"start\" x=\"325\" y=\"-37.8\" font-family=\"Helvetica,sans-Serif\" font-size=\"14.00\">samples = 40</text>\n<text text-anchor=\"start\" x=\"316\" y=\"-22.8\" font-family=\"Helvetica,sans-Serif\" font-size=\"14.00\">value = [0, 0, 40]</text>\n<text text-anchor=\"start\" x=\"318.5\" y=\"-7.8\" font-family=\"Helvetica,sans-Serif\" font-size=\"14.00\">class = virginica</text>\n</g>\n<!-- 6&#45;&gt;8 -->\n<g id=\"edge8\" class=\"edge\">\n<title>6&#45;&gt;8</title>\n<path fill=\"none\" stroke=\"black\" d=\"M324.57,-103.73C329.99,-95.24 335.72,-86.28 341.18,-77.73\"/>\n<polygon fill=\"black\" stroke=\"black\" points=\"343.96,-79.89 346.4,-69.57 338.06,-76.12 343.96,-79.89\"/>\n</g>\n</g>\n</svg>\n",
      "text/plain": [
       "<graphviz.sources.Source at 0x1d310f3f220>"
      ]
     },
     "execution_count": 101,
     "metadata": {},
     "output_type": "execute_result"
    }
   ],
   "source": [
    "# initialize another classifier to visualize the graph on the total examples\n",
    "clf_graph = clf_oversampling\n",
    "\n",
    "X_train, X_test, y_train, y_test = train_test_split(iris.data, iris.target, test_size=0.3, random_state=0)\n",
    "X_train_oversample, y_train_oversample = oversampling(X_train, y_train, OVERSAMPLING_FACTOR)\n",
    "clf_graph = clf_graph.fit(X_train_oversample, y_train_oversample)\n",
    "\n",
    "dot_data = tree.export_graphviz(clf_graph, out_file=None, \n",
    "                                feature_names=iris.feature_names,\n",
    "                                class_names=iris.target_names,\n",
    "                                filled=True, rounded=True,\n",
    "                                special_characters=True)\n",
    "graph = graphviz.Source(dot_data)\n",
    "graph"
   ]
  },
  {
   "cell_type": "markdown",
   "metadata": {},
   "source": [
    "#### Weights Tree"
   ]
  },
  {
   "cell_type": "code",
   "execution_count": 104,
   "metadata": {},
   "outputs": [
    {
     "name": "stdout",
     "output_type": "stream",
     "text": [
      "accuracy: 0.8\n",
      "f1 score: 0.7931034482758621\n"
     ]
    },
    {
     "data": {
      "text/plain": [
       "array([[16,  0,  0],\n",
       "       [ 0, 10,  8],\n",
       "       [ 0,  1, 10]], dtype=int64)"
      ]
     },
     "execution_count": 104,
     "metadata": {},
     "output_type": "execute_result"
    }
   ],
   "source": [
    "# Added weight to virginica class\n",
    "clf_weights = tree.DecisionTreeClassifier(criterion=\"entropy\",random_state=300,min_samples_leaf=5,class_weight={0:1,1:1,2:10})\n",
    "iris = load_iris()\n",
    "X_train, X_test, y_train, y_test = train_test_split(iris.data, iris.target, test_size=0.3, random_state=0)\n",
    "\n",
    "clf_weights = clf_weights.fit(X_train, y_train)\n",
    "\n",
    "predicted_y_test = clf_weights.predict(X_test)\n",
    "\n",
    "print(f\"accuracy: {accuracy_score(y_test, predicted_y_test)}\")\n",
    "f1 = f1_score(y_test, predicted_y_test, average='macro') # macro means that the score is calculated for each class and then averaged\n",
    "print(f\"f1 score: {f1}\")\n",
    "\n",
    "confusion_matrix(y_test, predicted_y_test)"
   ]
  },
  {
   "cell_type": "code",
   "execution_count": 43,
   "metadata": {},
   "outputs": [
    {
     "data": {
      "image/png": "[encoded data removed]",
      "text/plain": [
       "<Figure size 432x288 with 1 Axes>"
      ]
     },
     "metadata": {
      "needs_background": "light"
     },
     "output_type": "display_data"
    }
   ],
   "source": [
    "X = iris.data\n",
    "y = iris.target\n",
    "\n",
    "# Binarize the output\n",
    "y = label_binarize(y, classes=[0, 1, 2])\n",
    "n_classes = y.shape[1]\n",
    "\n",
    "# Learn to predict each class against the other\n",
    "classifier = OneVsRestClassifier(tree.DecisionTreeClassifier(criterion=\"entropy\",random_state=300,min_samples_leaf=5,class_weight={0:1,1:1,2:10}))\n",
    "\n",
    "y_score = classifier.fit(X_train, y_train).predict(X_test)\n",
    "\n",
    "# Compute ROC curve and ROC area for each class\n",
    "for i in range(n_classes):\n",
    "\tfpr, tpr, thresholds = metrics.roc_curve(y_test[:, i], y_score[:, i])\n",
    "\troc_auc = metrics.auc(fpr, tpr)\n",
    "\tplt.plot(fpr,tpr,label=f\"{iris.target_names[i]} estimator, AUC={str(roc_auc)}\")\n",
    "\tplt.legend()\n",
    "\t"
   ]
  },
  {
   "cell_type": "code",
   "execution_count": 53,
   "metadata": {},
   "outputs": [
    {
     "data": {
      "image/svg+xml": "<?xml version=\"1.0\" encoding=\"UTF-8\" standalone=\"no\"?>\n<!DOCTYPE svg PUBLIC \"-//W3C//DTD SVG 1.1//EN\"\n \"http://www.w3.org/Graphics/SVG/1.1/DTD/svg11.dtd\">\n<!-- Generated by graphviz version 7.0.3 (20221126.0506)\n -->\n<!-- Title: Tree Pages: 1 -->\n<svg width=\"612pt\" height=\"433pt\"\n viewBox=\"0.00 0.00 612.00 433.00\" xmlns=\"http://www.w3.org/2000/svg\" xmlns:xlink=\"http://www.w3.org/1999/xlink\">\n<g id=\"graph0\" class=\"graph\" transform=\"scale(1 1) rotate(0) translate(4 429)\">\n<title>Tree</title>\n<polygon fill=\"white\" stroke=\"none\" points=\"-4,4 -4,-429 608,-429 608,4 -4,4\"/>\n<!-- 0 -->\n<g id=\"node1\" class=\"node\">\n<title>0</title>\n<path fill=\"#9558e9\" stroke=\"black\" d=\"M356,-425C356,-425 221,-425 221,-425 215,-425 209,-419 209,-413 209,-413 209,-354 209,-354 209,-348 215,-342 221,-342 221,-342 356,-342 356,-342 362,-342 368,-348 368,-354 368,-354 368,-413 368,-413 368,-419 362,-425 356,-425\"/>\n<text text-anchor=\"start\" x=\"217\" y=\"-409.8\" font-family=\"Helvetica,sans-Serif\" font-size=\"14.00\">petal width (cm) ≤ 1.45</text>\n<text text-anchor=\"start\" x=\"238.5\" y=\"-394.8\" font-family=\"Helvetica,sans-Serif\" font-size=\"14.00\">entropy = 0.741</text>\n<text text-anchor=\"start\" x=\"241\" y=\"-379.8\" font-family=\"Helvetica,sans-Serif\" font-size=\"14.00\">samples = 105</text>\n<text text-anchor=\"start\" x=\"223.5\" y=\"-364.8\" font-family=\"Helvetica,sans-Serif\" font-size=\"14.00\">value = [34, 32, 390]</text>\n<text text-anchor=\"start\" x=\"238.5\" y=\"-349.8\" font-family=\"Helvetica,sans-Serif\" font-size=\"14.00\">class = virginica</text>\n</g>\n<!-- 1 -->\n<g id=\"node2\" class=\"node\">\n<title>1</title>\n<path fill=\"#f8decb\" stroke=\"black\" d=\"M268,-306C268,-306 127,-306 127,-306 121,-306 115,-300 115,-294 115,-294 115,-235 115,-235 115,-229 121,-223 127,-223 127,-223 268,-223 268,-223 274,-223 280,-229 280,-235 280,-235 280,-294 280,-294 280,-300 274,-306 268,-306\"/>\n<text text-anchor=\"start\" x=\"123\" y=\"-290.8\" font-family=\"Helvetica,sans-Serif\" font-size=\"14.00\">petal length (cm) ≤ 2.35</text>\n<text text-anchor=\"start\" x=\"147.5\" y=\"-275.8\" font-family=\"Helvetica,sans-Serif\" font-size=\"14.00\">entropy = 0.983</text>\n<text text-anchor=\"start\" x=\"154\" y=\"-260.8\" font-family=\"Helvetica,sans-Serif\" font-size=\"14.00\">samples = 59</text>\n<text text-anchor=\"start\" x=\"141\" y=\"-245.8\" font-family=\"Helvetica,sans-Serif\" font-size=\"14.00\">value = [34, 25, 0]</text>\n<text text-anchor=\"start\" x=\"151.5\" y=\"-230.8\" font-family=\"Helvetica,sans-Serif\" font-size=\"14.00\">class = setosa</text>\n</g>\n<!-- 0&#45;&gt;1 -->\n<g id=\"edge1\" class=\"edge\">\n<title>0&#45;&gt;1</title>\n<path fill=\"none\" stroke=\"black\" d=\"M256.67,-341.58C250.05,-333.07 243.01,-324.01 236.18,-315.23\"/>\n<polygon fill=\"black\" stroke=\"black\" points=\"238.99,-313.14 230.08,-307.39 233.46,-317.44 238.99,-313.14\"/>\n<text text-anchor=\"middle\" x=\"226.05\" y=\"-327.31\" font-family=\"Helvetica,sans-Serif\" font-size=\"14.00\">True</text>\n</g>\n<!-- 4 -->\n<g id=\"node5\" class=\"node\">\n<title>4</title>\n<path fill=\"#833de5\" stroke=\"black\" d=\"M451,-306C451,-306 310,-306 310,-306 304,-306 298,-300 298,-294 298,-294 298,-235 298,-235 298,-229 304,-223 310,-223 310,-223 451,-223 451,-223 457,-223 463,-229 463,-235 463,-235 463,-294 463,-294 463,-300 457,-306 451,-306\"/>\n<text text-anchor=\"start\" x=\"306\" y=\"-290.8\" font-family=\"Helvetica,sans-Serif\" font-size=\"14.00\">petal length (cm) ≤ 5.05</text>\n<text text-anchor=\"start\" x=\"330.5\" y=\"-275.8\" font-family=\"Helvetica,sans-Serif\" font-size=\"14.00\">entropy = 0.128</text>\n<text text-anchor=\"start\" x=\"337\" y=\"-260.8\" font-family=\"Helvetica,sans-Serif\" font-size=\"14.00\">samples = 46</text>\n<text text-anchor=\"start\" x=\"324\" y=\"-245.8\" font-family=\"Helvetica,sans-Serif\" font-size=\"14.00\">value = [0, 7, 390]</text>\n<text text-anchor=\"start\" x=\"330.5\" y=\"-230.8\" font-family=\"Helvetica,sans-Serif\" font-size=\"14.00\">class = virginica</text>\n</g>\n<!-- 0&#45;&gt;4 -->\n<g id=\"edge4\" class=\"edge\">\n<title>0&#45;&gt;4</title>\n<path fill=\"none\" stroke=\"black\" d=\"M320.68,-341.58C327.37,-333.07 334.49,-324.01 341.4,-315.23\"/>\n<polygon fill=\"black\" stroke=\"black\" points=\"344.13,-317.41 347.56,-307.39 338.63,-313.09 344.13,-317.41\"/>\n<text text-anchor=\"middle\" x=\"351.47\" y=\"-327.32\" font-family=\"Helvetica,sans-Serif\" font-size=\"14.00\">False</text>\n</g>\n<!-- 2 -->\n<g id=\"node3\" class=\"node\">\n<title>2</title>\n<path fill=\"#e58139\" stroke=\"black\" d=\"M109,-179.5C109,-179.5 12,-179.5 12,-179.5 6,-179.5 0,-173.5 0,-167.5 0,-167.5 0,-123.5 0,-123.5 0,-117.5 6,-111.5 12,-111.5 12,-111.5 109,-111.5 109,-111.5 115,-111.5 121,-117.5 121,-123.5 121,-123.5 121,-167.5 121,-167.5 121,-173.5 115,-179.5 109,-179.5\"/>\n<text text-anchor=\"start\" x=\"18.5\" y=\"-164.3\" font-family=\"Helvetica,sans-Serif\" font-size=\"14.00\">entropy = 0.0</text>\n<text text-anchor=\"start\" x=\"17\" y=\"-149.3\" font-family=\"Helvetica,sans-Serif\" font-size=\"14.00\">samples = 34</text>\n<text text-anchor=\"start\" x=\"8\" y=\"-134.3\" font-family=\"Helvetica,sans-Serif\" font-size=\"14.00\">value = [34, 0, 0]</text>\n<text text-anchor=\"start\" x=\"14.5\" y=\"-119.3\" font-family=\"Helvetica,sans-Serif\" font-size=\"14.00\">class = setosa</text>\n</g>\n<!-- 1&#45;&gt;2 -->\n<g id=\"edge2\" class=\"edge\">\n<title>1&#45;&gt;2</title>\n<path fill=\"none\" stroke=\"black\" d=\"M149.58,-222.58C136.17,-211.12 121.58,-198.67 108.18,-187.22\"/>\n<polygon fill=\"black\" stroke=\"black\" points=\"110.59,-184.68 100.71,-180.84 106.05,-190 110.59,-184.68\"/>\n</g>\n<!-- 3 -->\n<g id=\"node4\" class=\"node\">\n<title>3</title>\n<path fill=\"#39e581\" stroke=\"black\" d=\"M254,-179.5C254,-179.5 151,-179.5 151,-179.5 145,-179.5 139,-173.5 139,-167.5 139,-167.5 139,-123.5 139,-123.5 139,-117.5 145,-111.5 151,-111.5 151,-111.5 254,-111.5 254,-111.5 260,-111.5 266,-117.5 266,-123.5 266,-123.5 266,-167.5 266,-167.5 266,-173.5 260,-179.5 254,-179.5\"/>\n<text text-anchor=\"start\" x=\"160.5\" y=\"-164.3\" font-family=\"Helvetica,sans-Serif\" font-size=\"14.00\">entropy = 0.0</text>\n<text text-anchor=\"start\" x=\"159\" y=\"-149.3\" font-family=\"Helvetica,sans-Serif\" font-size=\"14.00\">samples = 25</text>\n<text text-anchor=\"start\" x=\"150\" y=\"-134.3\" font-family=\"Helvetica,sans-Serif\" font-size=\"14.00\">value = [0, 25, 0]</text>\n<text text-anchor=\"start\" x=\"147\" y=\"-119.3\" font-family=\"Helvetica,sans-Serif\" font-size=\"14.00\">class = versicolor</text>\n</g>\n<!-- 1&#45;&gt;3 -->\n<g id=\"edge3\" class=\"edge\">\n<title>1&#45;&gt;3</title>\n<path fill=\"none\" stroke=\"black\" d=\"M199.25,-222.58C199.68,-212.43 200.15,-201.5 200.59,-191.18\"/>\n<polygon fill=\"black\" stroke=\"black\" points=\"204.08,-191.51 201.01,-181.37 197.09,-191.21 204.08,-191.51\"/>\n</g>\n<!-- 5 -->\n<g id=\"node6\" class=\"node\">\n<title>5</title>\n<path fill=\"#9050e8\" stroke=\"black\" d=\"M445,-187C445,-187 306,-187 306,-187 300,-187 294,-181 294,-175 294,-175 294,-116 294,-116 294,-110 300,-104 306,-104 306,-104 445,-104 445,-104 451,-104 457,-110 457,-116 457,-116 457,-175 457,-175 457,-181 451,-187 445,-187\"/>\n<text text-anchor=\"start\" x=\"302\" y=\"-171.8\" font-family=\"Helvetica,sans-Serif\" font-size=\"14.00\">sepal width (cm) ≤ 2.85</text>\n<text text-anchor=\"start\" x=\"325.5\" y=\"-156.8\" font-family=\"Helvetica,sans-Serif\" font-size=\"14.00\">entropy = 0.483</text>\n<text text-anchor=\"start\" x=\"332\" y=\"-141.8\" font-family=\"Helvetica,sans-Serif\" font-size=\"14.00\">samples = 13</text>\n<text text-anchor=\"start\" x=\"323\" y=\"-126.8\" font-family=\"Helvetica,sans-Serif\" font-size=\"14.00\">value = [0, 7, 60]</text>\n<text text-anchor=\"start\" x=\"325.5\" y=\"-111.8\" font-family=\"Helvetica,sans-Serif\" font-size=\"14.00\">class = virginica</text>\n</g>\n<!-- 4&#45;&gt;5 -->\n<g id=\"edge5\" class=\"edge\">\n<title>4&#45;&gt;5</title>\n<path fill=\"none\" stroke=\"black\" d=\"M378.75,-222.58C378.42,-214.79 378.07,-206.53 377.72,-198.45\"/>\n<polygon fill=\"black\" stroke=\"black\" points=\"381.23,-198.55 377.3,-188.71 374.23,-198.85 381.23,-198.55\"/>\n</g>\n<!-- 8 -->\n<g id=\"node9\" class=\"node\">\n<title>8</title>\n<path fill=\"#8139e5\" stroke=\"black\" d=\"M592,-179.5C592,-179.5 487,-179.5 487,-179.5 481,-179.5 475,-173.5 475,-167.5 475,-167.5 475,-123.5 475,-123.5 475,-117.5 481,-111.5 487,-111.5 487,-111.5 592,-111.5 592,-111.5 598,-111.5 604,-117.5 604,-123.5 604,-123.5 604,-167.5 604,-167.5 604,-173.5 598,-179.5 592,-179.5\"/>\n<text text-anchor=\"start\" x=\"497.5\" y=\"-164.3\" font-family=\"Helvetica,sans-Serif\" font-size=\"14.00\">entropy = 0.0</text>\n<text text-anchor=\"start\" x=\"496\" y=\"-149.3\" font-family=\"Helvetica,sans-Serif\" font-size=\"14.00\">samples = 33</text>\n<text text-anchor=\"start\" x=\"483\" y=\"-134.3\" font-family=\"Helvetica,sans-Serif\" font-size=\"14.00\">value = [0, 0, 330]</text>\n<text text-anchor=\"start\" x=\"489.5\" y=\"-119.3\" font-family=\"Helvetica,sans-Serif\" font-size=\"14.00\">class = virginica</text>\n</g>\n<!-- 4&#45;&gt;8 -->\n<g id=\"edge8\" class=\"edge\">\n<title>4&#45;&gt;8</title>\n<path fill=\"none\" stroke=\"black\" d=\"M436.11,-222.58C451.98,-210.9 469.25,-198.19 485.05,-186.57\"/>\n<polygon fill=\"black\" stroke=\"black\" points=\"486.96,-189.5 492.94,-180.76 482.82,-183.87 486.96,-189.5\"/>\n</g>\n<!-- 6 -->\n<g id=\"node7\" class=\"node\">\n<title>6</title>\n<path fill=\"#8641e6\" stroke=\"black\" d=\"M354,-68C354,-68 257,-68 257,-68 251,-68 245,-62 245,-56 245,-56 245,-12 245,-12 245,-6 251,0 257,0 257,0 354,0 354,0 360,0 366,-6 366,-12 366,-12 366,-56 366,-56 366,-62 360,-68 354,-68\"/>\n<text text-anchor=\"start\" x=\"255.5\" y=\"-52.8\" font-family=\"Helvetica,sans-Serif\" font-size=\"14.00\">entropy = 0.235</text>\n<text text-anchor=\"start\" x=\"266\" y=\"-37.8\" font-family=\"Helvetica,sans-Serif\" font-size=\"14.00\">samples = 7</text>\n<text text-anchor=\"start\" x=\"253\" y=\"-22.8\" font-family=\"Helvetica,sans-Serif\" font-size=\"14.00\">value = [0, 2, 50]</text>\n<text text-anchor=\"start\" x=\"255.5\" y=\"-7.8\" font-family=\"Helvetica,sans-Serif\" font-size=\"14.00\">class = virginica</text>\n</g>\n<!-- 5&#45;&gt;6 -->\n<g id=\"edge6\" class=\"edge\">\n<title>5&#45;&gt;6</title>\n<path fill=\"none\" stroke=\"black\" d=\"M349.43,-103.73C344.01,-95.24 338.28,-86.28 332.82,-77.73\"/>\n<polygon fill=\"black\" stroke=\"black\" points=\"335.94,-76.12 327.6,-69.57 330.04,-79.89 335.94,-76.12\"/>\n</g>\n<!-- 7 -->\n<g id=\"node8\" class=\"node\">\n<title>7</title>\n<path fill=\"#c09cf2\" stroke=\"black\" d=\"M493,-68C493,-68 396,-68 396,-68 390,-68 384,-62 384,-56 384,-56 384,-12 384,-12 384,-6 390,0 396,0 396,0 493,0 493,0 499,0 505,-6 505,-12 505,-12 505,-56 505,-56 505,-62 499,-68 493,-68\"/>\n<text text-anchor=\"start\" x=\"394.5\" y=\"-52.8\" font-family=\"Helvetica,sans-Serif\" font-size=\"14.00\">entropy = 0.918</text>\n<text text-anchor=\"start\" x=\"405\" y=\"-37.8\" font-family=\"Helvetica,sans-Serif\" font-size=\"14.00\">samples = 6</text>\n<text text-anchor=\"start\" x=\"392\" y=\"-22.8\" font-family=\"Helvetica,sans-Serif\" font-size=\"14.00\">value = [0, 5, 10]</text>\n<text text-anchor=\"start\" x=\"394.5\" y=\"-7.8\" font-family=\"Helvetica,sans-Serif\" font-size=\"14.00\">class = virginica</text>\n</g>\n<!-- 5&#45;&gt;7 -->\n<g id=\"edge7\" class=\"edge\">\n<title>5&#45;&gt;7</title>\n<path fill=\"none\" stroke=\"black\" d=\"M401.19,-103.73C406.48,-95.34 412.06,-86.47 417.4,-78.01\"/>\n<polygon fill=\"black\" stroke=\"black\" points=\"420.34,-79.91 422.71,-69.58 414.42,-76.17 420.34,-79.91\"/>\n</g>\n</g>\n</svg>\n",
      "text/plain": [
       "<graphviz.sources.Source at 0x1d30e8160d0>"
      ]
     },
     "execution_count": 53,
     "metadata": {},
     "output_type": "execute_result"
    }
   ],
   "source": [
    "clf_graph = clf_weights\n",
    "clf_graph = clf_graph.fit(X_train, y_train)\n",
    "\n",
    "dot_data = tree.export_graphviz(clf_graph, out_file=None, \n",
    "                                feature_names=iris.feature_names,\n",
    "                                class_names=iris.target_names,\n",
    "                                filled=True, rounded=True,\n",
    "                                special_characters=True)\n",
    "graph = graphviz.Source(dot_data)\n",
    "graph"
   ]
  }
 ],
 "metadata": {
  "kernelspec": {
   "display_name": "Python 3",
   "language": "python",
   "name": "python3"
  },
  "language_info": {
   "codemirror_mode": {
    "name": "ipython",
    "version": 3
   },
   "file_extension": ".py",
   "mimetype": "text/x-python",
   "name": "python",
   "nbconvert_exporter": "python",
   "pygments_lexer": "ipython3",
   "version": "3.8.7"
  },
  "orig_nbformat": 4,
  "vscode": {
   "interpreter": {
    "hash": "7efb2d7ff2df1439e00fdb3d4f2694a3ec3140441601882caf0cf9a3f70ee73c"
   }
  }
 },
 "nbformat": 4,
 "nbformat_minor": 2
}
