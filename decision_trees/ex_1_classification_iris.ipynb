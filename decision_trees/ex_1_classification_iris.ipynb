{
 "cells": [
  {
   "cell_type": "markdown",
   "metadata": {},
   "source": [
    "# Esercizio 1: Classification Iris"
   ]
  },
  {
   "cell_type": "markdown",
   "metadata": {},
   "source": [
    "dataset: https://archive.ics.uci.edu/ml/datasets/iris\n",
    "* 0 - Setosa\n",
    "* 1 - Veriscolor\n",
    "* 2 - Virginica "
   ]
  },
  {
   "cell_type": "code",
   "execution_count": 2,
   "metadata": {},
   "outputs": [],
   "source": [
    "from sklearn import tree \n",
    "from sklearn.datasets import load_iris\n",
    "from sklearn.model_selection import train_test_split\n",
    "from sklearn.metrics import accuracy_score\n",
    "from sklearn.metrics import f1_score\n",
    "from sklearn.model_selection import cross_val_score \n",
    "import graphviz \n",
    "import imblearn"
   ]
  },
  {
   "cell_type": "markdown",
   "metadata": {},
   "source": [
    "##### load the dataset and split it in train and test set"
   ]
  },
  {
   "cell_type": "code",
   "execution_count": 3,
   "metadata": {},
   "outputs": [],
   "source": [
    "iris = load_iris()\n",
    "X_train, X_test, y_train, y_test = train_test_split(iris.data, iris.target, test_size=0.3, random_state=1)"
   ]
  },
  {
   "cell_type": "markdown",
   "metadata": {},
   "source": [
    "##### Initialize the model and fit with the training data"
   ]
  },
  {
   "cell_type": "code",
   "execution_count": 4,
   "metadata": {},
   "outputs": [],
   "source": [
    "# the weights are the same for all the classes\n",
    "clf = tree.DecisionTreeClassifier(criterion=\"entropy\",random_state=300,min_samples_leaf=5,class_weight={0:1,1:1,2:1}) \n",
    "clf = clf.fit(X_train, y_train)"
   ]
  },
  {
   "cell_type": "markdown",
   "metadata": {},
   "source": [
    "##### Predict the classes of the test set"
   ]
  },
  {
   "cell_type": "code",
   "execution_count": 5,
   "metadata": {},
   "outputs": [],
   "source": [
    "predicted_y_test = clf.predict(X_test)"
   ]
  },
  {
   "cell_type": "markdown",
   "metadata": {},
   "source": [
    "##### Printing information about the model"
   ]
  },
  {
   "cell_type": "code",
   "execution_count": 6,
   "metadata": {},
   "outputs": [
    {
     "name": "stdout",
     "output_type": "stream",
     "text": [
      "predicted classes:\n",
      "[0 1 1 0 2 1 2 0 0 2 1 0 2 1 1 0 1 1 0 0 1 1 2 0 2 1 0 0 1 2 1 2 1 2 2 0 1\n",
      " 0 1 2 2 0 1 2 1]\n",
      "\n",
      "real classes:\n",
      "[0 1 1 0 2 1 2 0 0 2 1 0 2 1 1 0 1 1 0 0 1 1 1 0 2 1 0 0 1 2 1 2 1 2 2 0 1\n",
      " 0 1 2 2 0 2 2 1]\n",
      "\n",
      "correctly classified examples: 43\n",
      "number of errors: 2\n"
     ]
    }
   ],
   "source": [
    "print(f\"predicted classes:\\n{predicted_y_test}\\n\")\n",
    "print(f\"real classes:\\n{y_test}\")\n",
    "print(f\"\\ncorrectly classified examples: {sum(predicted_y_test == y_test)}\")\n",
    "print(f\"number of errors: {sum(predicted_y_test != y_test)}\")"
   ]
  },
  {
   "cell_type": "code",
   "execution_count": 7,
   "metadata": {},
   "outputs": [
    {
     "name": "stdout",
     "output_type": "stream",
     "text": [
      "class setosa predicted as setosa\n",
      "sepal length (cm): 5.8\n",
      "sepal width (cm): 4.0\n",
      "petal length (cm): 1.2\n",
      "petal width (cm): 0.2\n",
      "\n",
      "\n",
      "class versicolor predicted as versicolor\n",
      "sepal length (cm): 5.1\n",
      "sepal width (cm): 2.5\n",
      "petal length (cm): 3.0\n",
      "petal width (cm): 1.1\n",
      "\n",
      "\n",
      "class versicolor predicted as versicolor\n",
      "sepal length (cm): 6.6\n",
      "sepal width (cm): 3.0\n",
      "petal length (cm): 4.4\n",
      "petal width (cm): 1.4\n",
      "\n",
      "\n",
      "class setosa predicted as setosa\n",
      "sepal length (cm): 5.4\n",
      "sepal width (cm): 3.9\n",
      "petal length (cm): 1.3\n",
      "petal width (cm): 0.4\n",
      "\n",
      "\n",
      "class virginica predicted as virginica\n",
      "sepal length (cm): 7.9\n",
      "sepal width (cm): 3.8\n",
      "petal length (cm): 6.4\n",
      "petal width (cm): 2.0\n",
      "\n",
      "\n",
      "class versicolor predicted as versicolor\n",
      "sepal length (cm): 6.3\n",
      "sepal width (cm): 3.3\n",
      "petal length (cm): 4.7\n",
      "petal width (cm): 1.6\n",
      "\n",
      "\n",
      "class virginica predicted as virginica\n",
      "sepal length (cm): 6.9\n",
      "sepal width (cm): 3.1\n",
      "petal length (cm): 5.1\n",
      "petal width (cm): 2.3\n",
      "\n",
      "\n",
      "class setosa predicted as setosa\n",
      "sepal length (cm): 5.1\n",
      "sepal width (cm): 3.8\n",
      "petal length (cm): 1.9\n",
      "petal width (cm): 0.4\n",
      "\n",
      "\n",
      "class setosa predicted as setosa\n",
      "sepal length (cm): 4.7\n",
      "sepal width (cm): 3.2\n",
      "petal length (cm): 1.6\n",
      "petal width (cm): 0.2\n",
      "\n",
      "\n",
      "class virginica predicted as virginica\n",
      "sepal length (cm): 6.9\n",
      "sepal width (cm): 3.2\n",
      "petal length (cm): 5.7\n",
      "petal width (cm): 2.3\n",
      "\n",
      "\n",
      "class versicolor predicted as versicolor\n",
      "sepal length (cm): 5.6\n",
      "sepal width (cm): 2.7\n",
      "petal length (cm): 4.2\n",
      "petal width (cm): 1.3\n",
      "\n",
      "\n",
      "class setosa predicted as setosa\n",
      "sepal length (cm): 5.4\n",
      "sepal width (cm): 3.9\n",
      "petal length (cm): 1.7\n",
      "petal width (cm): 0.4\n",
      "\n",
      "\n",
      "class virginica predicted as virginica\n",
      "sepal length (cm): 7.1\n",
      "sepal width (cm): 3.0\n",
      "petal length (cm): 5.9\n",
      "petal width (cm): 2.1\n",
      "\n",
      "\n",
      "class versicolor predicted as versicolor\n",
      "sepal length (cm): 6.4\n",
      "sepal width (cm): 3.2\n",
      "petal length (cm): 4.5\n",
      "petal width (cm): 1.5\n",
      "\n",
      "\n",
      "class versicolor predicted as versicolor\n",
      "sepal length (cm): 6.0\n",
      "sepal width (cm): 2.9\n",
      "petal length (cm): 4.5\n",
      "petal width (cm): 1.5\n",
      "\n",
      "\n",
      "class setosa predicted as setosa\n",
      "sepal length (cm): 4.4\n",
      "sepal width (cm): 3.2\n",
      "petal length (cm): 1.3\n",
      "petal width (cm): 0.2\n",
      "\n",
      "\n",
      "class versicolor predicted as versicolor\n",
      "sepal length (cm): 5.8\n",
      "sepal width (cm): 2.6\n",
      "petal length (cm): 4.0\n",
      "petal width (cm): 1.2\n",
      "\n",
      "\n",
      "class versicolor predicted as versicolor\n",
      "sepal length (cm): 5.6\n",
      "sepal width (cm): 3.0\n",
      "petal length (cm): 4.5\n",
      "petal width (cm): 1.5\n",
      "\n",
      "\n",
      "class setosa predicted as setosa\n",
      "sepal length (cm): 5.4\n",
      "sepal width (cm): 3.4\n",
      "petal length (cm): 1.5\n",
      "petal width (cm): 0.4\n",
      "\n",
      "\n",
      "class setosa predicted as setosa\n",
      "sepal length (cm): 5.0\n",
      "sepal width (cm): 3.2\n",
      "petal length (cm): 1.2\n",
      "petal width (cm): 0.2\n",
      "\n",
      "\n",
      "class versicolor predicted as versicolor\n",
      "sepal length (cm): 5.5\n",
      "sepal width (cm): 2.6\n",
      "petal length (cm): 4.4\n",
      "petal width (cm): 1.2\n",
      "\n",
      "\n",
      "class versicolor predicted as versicolor\n",
      "sepal length (cm): 5.4\n",
      "sepal width (cm): 3.0\n",
      "petal length (cm): 4.5\n",
      "petal width (cm): 1.5\n",
      "\n",
      "\n",
      "class versicolor predicted as virginica\n",
      "sepal length (cm): 6.7\n",
      "sepal width (cm): 3.0\n",
      "petal length (cm): 5.0\n",
      "petal width (cm): 1.7\n",
      "\n",
      "\n",
      "class setosa predicted as setosa\n",
      "sepal length (cm): 5.0\n",
      "sepal width (cm): 3.5\n",
      "petal length (cm): 1.3\n",
      "petal width (cm): 0.3\n",
      "\n",
      "\n",
      "class virginica predicted as virginica\n",
      "sepal length (cm): 7.2\n",
      "sepal width (cm): 3.2\n",
      "petal length (cm): 6.0\n",
      "petal width (cm): 1.8\n",
      "\n",
      "\n",
      "class versicolor predicted as versicolor\n",
      "sepal length (cm): 5.7\n",
      "sepal width (cm): 2.8\n",
      "petal length (cm): 4.1\n",
      "petal width (cm): 1.3\n",
      "\n",
      "\n",
      "class setosa predicted as setosa\n",
      "sepal length (cm): 5.5\n",
      "sepal width (cm): 4.2\n",
      "petal length (cm): 1.4\n",
      "petal width (cm): 0.2\n",
      "\n",
      "\n",
      "class setosa predicted as setosa\n",
      "sepal length (cm): 5.1\n",
      "sepal width (cm): 3.8\n",
      "petal length (cm): 1.5\n",
      "petal width (cm): 0.3\n",
      "\n",
      "\n",
      "class versicolor predicted as versicolor\n",
      "sepal length (cm): 6.1\n",
      "sepal width (cm): 2.8\n",
      "petal length (cm): 4.7\n",
      "petal width (cm): 1.2\n",
      "\n",
      "\n",
      "class virginica predicted as virginica\n",
      "sepal length (cm): 6.3\n",
      "sepal width (cm): 2.5\n",
      "petal length (cm): 5.0\n",
      "petal width (cm): 1.9\n",
      "\n",
      "\n",
      "class versicolor predicted as versicolor\n",
      "sepal length (cm): 6.1\n",
      "sepal width (cm): 3.0\n",
      "petal length (cm): 4.6\n",
      "petal width (cm): 1.4\n",
      "\n",
      "\n",
      "class virginica predicted as virginica\n",
      "sepal length (cm): 7.7\n",
      "sepal width (cm): 3.0\n",
      "petal length (cm): 6.1\n",
      "petal width (cm): 2.3\n",
      "\n",
      "\n",
      "class versicolor predicted as versicolor\n",
      "sepal length (cm): 5.6\n",
      "sepal width (cm): 2.5\n",
      "petal length (cm): 3.9\n",
      "petal width (cm): 1.1\n",
      "\n",
      "\n",
      "class virginica predicted as virginica\n",
      "sepal length (cm): 6.4\n",
      "sepal width (cm): 2.8\n",
      "petal length (cm): 5.6\n",
      "petal width (cm): 2.1\n",
      "\n",
      "\n",
      "class virginica predicted as virginica\n",
      "sepal length (cm): 5.8\n",
      "sepal width (cm): 2.8\n",
      "petal length (cm): 5.1\n",
      "petal width (cm): 2.4\n",
      "\n",
      "\n",
      "class setosa predicted as setosa\n",
      "sepal length (cm): 5.3\n",
      "sepal width (cm): 3.7\n",
      "petal length (cm): 1.5\n",
      "petal width (cm): 0.2\n",
      "\n",
      "\n",
      "class versicolor predicted as versicolor\n",
      "sepal length (cm): 5.5\n",
      "sepal width (cm): 2.3\n",
      "petal length (cm): 4.0\n",
      "petal width (cm): 1.3\n",
      "\n",
      "\n",
      "class setosa predicted as setosa\n",
      "sepal length (cm): 5.2\n",
      "sepal width (cm): 3.4\n",
      "petal length (cm): 1.4\n",
      "petal width (cm): 0.2\n",
      "\n",
      "\n",
      "class versicolor predicted as versicolor\n",
      "sepal length (cm): 6.5\n",
      "sepal width (cm): 2.8\n",
      "petal length (cm): 4.6\n",
      "petal width (cm): 1.5\n",
      "\n",
      "\n",
      "class virginica predicted as virginica\n",
      "sepal length (cm): 6.7\n",
      "sepal width (cm): 2.5\n",
      "petal length (cm): 5.8\n",
      "petal width (cm): 1.8\n",
      "\n",
      "\n",
      "class virginica predicted as virginica\n",
      "sepal length (cm): 6.8\n",
      "sepal width (cm): 3.0\n",
      "petal length (cm): 5.5\n",
      "petal width (cm): 2.1\n",
      "\n",
      "\n",
      "class setosa predicted as setosa\n",
      "sepal length (cm): 5.1\n",
      "sepal width (cm): 3.5\n",
      "petal length (cm): 1.4\n",
      "petal width (cm): 0.3\n",
      "\n",
      "\n",
      "class virginica predicted as versicolor\n",
      "sepal length (cm): 6.0\n",
      "sepal width (cm): 2.2\n",
      "petal length (cm): 5.0\n",
      "petal width (cm): 1.5\n",
      "\n",
      "\n",
      "class virginica predicted as virginica\n",
      "sepal length (cm): 6.3\n",
      "sepal width (cm): 2.9\n",
      "petal length (cm): 5.6\n",
      "petal width (cm): 1.8\n",
      "\n",
      "\n",
      "class versicolor predicted as versicolor\n",
      "sepal length (cm): 6.6\n",
      "sepal width (cm): 2.9\n",
      "petal length (cm): 4.6\n",
      "petal width (cm): 1.3\n",
      "\n",
      "\n"
     ]
    }
   ],
   "source": [
    "for i in range(len(y_test)):\n",
    "    print(f\"class {iris.target_names[y_test[i]]} predicted as {iris.target_names[predicted_y_test[i]]}\")\n",
    "    for j in range(len(iris.feature_names)):\n",
    "        print(f\"{iris.feature_names[j]}: {X_test[i][j]}\")\n",
    "    print(\"\\n\")"
   ]
  },
  {
   "cell_type": "markdown",
   "metadata": {},
   "source": [
    "##### Accuracy and F1 of the model \n",
    "- F1 = 2 * (precision * recall) / (precision + recall)"
   ]
  },
  {
   "cell_type": "code",
   "execution_count": 8,
   "metadata": {},
   "outputs": [
    {
     "name": "stdout",
     "output_type": "stream",
     "text": [
      "accuracy: 0.9555555555555556\n",
      "f1 score: 0.9558404558404558\n"
     ]
    }
   ],
   "source": [
    "print(f\"accuracy: {accuracy_score(y_test, predicted_y_test)}\")\n",
    "f1 = f1_score(y_test, predicted_y_test, average='macro') # macro means that the score is calculated for each class and then averaged\n",
    "print(f\"f1 score: {f1}\")"
   ]
  },
  {
   "cell_type": "markdown",
   "metadata": {},
   "source": [
    "##### Cross Validation"
   ]
  },
  {
   "cell_type": "code",
   "execution_count": 9,
   "metadata": {},
   "outputs": [
    {
     "name": "stdout",
     "output_type": "stream",
     "text": [
      "cross validation scores: [0.96666667 1.         0.86666667 0.86666667 1.        ]\n",
      "cross validation f1 scores: [0.96658312 1.         0.86111111 0.86666667 1.        ]\n"
     ]
    }
   ],
   "source": [
    "#cross validation\n",
    "accuracy_scores = cross_val_score(clf, iris.data, iris.target, cv=5) # default score is the accuracy, 5-fold cross validation\n",
    "print(f\"cross validation scores: {accuracy_scores}\")\n",
    "f1_scores = cross_val_score(clf, iris.data, iris.target, cv=5, scoring='f1_macro') \n",
    "print(f\"cross validation f1 scores: {f1_scores}\")"
   ]
  },
  {
   "cell_type": "markdown",
   "metadata": {},
   "source": [
    "##### Visualize the Tree with Graphviz"
   ]
  },
  {
   "cell_type": "code",
   "execution_count": 10,
   "metadata": {},
   "outputs": [
    {
     "data": {
      "image/svg+xml": "<?xml version=\"1.0\" encoding=\"UTF-8\" standalone=\"no\"?>\n<!DOCTYPE svg PUBLIC \"-//W3C//DTD SVG 1.1//EN\"\n \"http://www.w3.org/Graphics/SVG/1.1/DTD/svg11.dtd\">\n<!-- Generated by graphviz version 6.0.1 (20220911.1526)\n -->\n<!-- Title: Tree Pages: 1 -->\n<svg width=\"660pt\" height=\"552pt\"\n viewBox=\"0.00 0.00 660.00 552.00\" xmlns=\"http://www.w3.org/2000/svg\" xmlns:xlink=\"http://www.w3.org/1999/xlink\">\n<g id=\"graph0\" class=\"graph\" transform=\"scale(1 1) rotate(0) translate(4 548)\">\n<title>Tree</title>\n<polygon fill=\"white\" stroke=\"none\" points=\"-4,4 -4,-548 656,-548 656,4 -4,4\"/>\n<!-- 0 -->\n<g id=\"node1\" class=\"node\">\n<title>0</title>\n<path fill=\"#ffffff\" stroke=\"black\" d=\"M366,-544C366,-544 225,-544 225,-544 219,-544 213,-538 213,-532 213,-532 213,-473 213,-473 213,-467 219,-461 225,-461 225,-461 366,-461 366,-461 372,-461 378,-467 378,-473 378,-473 378,-532 378,-532 378,-538 372,-544 366,-544\"/>\n<text text-anchor=\"start\" x=\"221\" y=\"-528.8\" font-family=\"Helvetica,sans-Serif\" font-size=\"14.00\">petal length (cm) ≤ 2.45</text>\n<text text-anchor=\"start\" x=\"245.5\" y=\"-513.8\" font-family=\"Helvetica,sans-Serif\" font-size=\"14.00\">entropy = 1.585</text>\n<text text-anchor=\"start\" x=\"248\" y=\"-498.8\" font-family=\"Helvetica,sans-Serif\" font-size=\"14.00\">samples = 150</text>\n<text text-anchor=\"start\" x=\"235\" y=\"-483.8\" font-family=\"Helvetica,sans-Serif\" font-size=\"14.00\">value = [50, 50, 50]</text>\n<text text-anchor=\"start\" x=\"249.5\" y=\"-468.8\" font-family=\"Helvetica,sans-Serif\" font-size=\"14.00\">class = setosa</text>\n</g>\n<!-- 1 -->\n<g id=\"node2\" class=\"node\">\n<title>1</title>\n<path fill=\"#e58139\" stroke=\"black\" d=\"M265,-417.5C265,-417.5 168,-417.5 168,-417.5 162,-417.5 156,-411.5 156,-405.5 156,-405.5 156,-361.5 156,-361.5 156,-355.5 162,-349.5 168,-349.5 168,-349.5 265,-349.5 265,-349.5 271,-349.5 277,-355.5 277,-361.5 277,-361.5 277,-405.5 277,-405.5 277,-411.5 271,-417.5 265,-417.5\"/>\n<text text-anchor=\"start\" x=\"174.5\" y=\"-402.3\" font-family=\"Helvetica,sans-Serif\" font-size=\"14.00\">entropy = 0.0</text>\n<text text-anchor=\"start\" x=\"173\" y=\"-387.3\" font-family=\"Helvetica,sans-Serif\" font-size=\"14.00\">samples = 50</text>\n<text text-anchor=\"start\" x=\"164\" y=\"-372.3\" font-family=\"Helvetica,sans-Serif\" font-size=\"14.00\">value = [50, 0, 0]</text>\n<text text-anchor=\"start\" x=\"170.5\" y=\"-357.3\" font-family=\"Helvetica,sans-Serif\" font-size=\"14.00\">class = setosa</text>\n</g>\n<!-- 0&#45;&gt;1 -->\n<g id=\"edge1\" class=\"edge\">\n<title>0&#45;&gt;1</title>\n<path fill=\"none\" stroke=\"black\" d=\"M268.09,-460.91C260.49,-449.65 252.23,-437.42 244.59,-426.11\"/>\n<polygon fill=\"black\" stroke=\"black\" points=\"247.39,-424 238.89,-417.67 241.59,-427.91 247.39,-424\"/>\n<text text-anchor=\"middle\" x=\"234.14\" y=\"-438.51\" font-family=\"Helvetica,sans-Serif\" font-size=\"14.00\">True</text>\n</g>\n<!-- 2 -->\n<g id=\"node3\" class=\"node\">\n<title>2</title>\n<path fill=\"#ffffff\" stroke=\"black\" d=\"M442,-425C442,-425 307,-425 307,-425 301,-425 295,-419 295,-413 295,-413 295,-354 295,-354 295,-348 301,-342 307,-342 307,-342 442,-342 442,-342 448,-342 454,-348 454,-354 454,-354 454,-413 454,-413 454,-419 448,-425 442,-425\"/>\n<text text-anchor=\"start\" x=\"303\" y=\"-409.8\" font-family=\"Helvetica,sans-Serif\" font-size=\"14.00\">petal width (cm) ≤ 1.75</text>\n<text text-anchor=\"start\" x=\"332.5\" y=\"-394.8\" font-family=\"Helvetica,sans-Serif\" font-size=\"14.00\">entropy = 1.0</text>\n<text text-anchor=\"start\" x=\"327\" y=\"-379.8\" font-family=\"Helvetica,sans-Serif\" font-size=\"14.00\">samples = 100</text>\n<text text-anchor=\"start\" x=\"318\" y=\"-364.8\" font-family=\"Helvetica,sans-Serif\" font-size=\"14.00\">value = [0, 50, 50]</text>\n<text text-anchor=\"start\" x=\"319\" y=\"-349.8\" font-family=\"Helvetica,sans-Serif\" font-size=\"14.00\">class = versicolor</text>\n</g>\n<!-- 0&#45;&gt;2 -->\n<g id=\"edge2\" class=\"edge\">\n<title>0&#45;&gt;2</title>\n<path fill=\"none\" stroke=\"black\" d=\"M322.91,-460.91C328.91,-452.01 335.33,-442.51 341.53,-433.33\"/>\n<polygon fill=\"black\" stroke=\"black\" points=\"344.44,-435.27 347.14,-425.02 338.64,-431.35 344.44,-435.27\"/>\n<text text-anchor=\"middle\" x=\"351.9\" y=\"-445.86\" font-family=\"Helvetica,sans-Serif\" font-size=\"14.00\">False</text>\n</g>\n<!-- 3 -->\n<g id=\"node4\" class=\"node\">\n<title>3</title>\n<path fill=\"#4de88e\" stroke=\"black\" d=\"M354,-306C354,-306 213,-306 213,-306 207,-306 201,-300 201,-294 201,-294 201,-235 201,-235 201,-229 207,-223 213,-223 213,-223 354,-223 354,-223 360,-223 366,-229 366,-235 366,-235 366,-294 366,-294 366,-300 360,-306 354,-306\"/>\n<text text-anchor=\"start\" x=\"209\" y=\"-290.8\" font-family=\"Helvetica,sans-Serif\" font-size=\"14.00\">petal length (cm) ≤ 4.95</text>\n<text text-anchor=\"start\" x=\"233.5\" y=\"-275.8\" font-family=\"Helvetica,sans-Serif\" font-size=\"14.00\">entropy = 0.445</text>\n<text text-anchor=\"start\" x=\"240\" y=\"-260.8\" font-family=\"Helvetica,sans-Serif\" font-size=\"14.00\">samples = 54</text>\n<text text-anchor=\"start\" x=\"231\" y=\"-245.8\" font-family=\"Helvetica,sans-Serif\" font-size=\"14.00\">value = [0, 49, 5]</text>\n<text text-anchor=\"start\" x=\"228\" y=\"-230.8\" font-family=\"Helvetica,sans-Serif\" font-size=\"14.00\">class = versicolor</text>\n</g>\n<!-- 2&#45;&gt;3 -->\n<g id=\"edge3\" class=\"edge\">\n<title>2&#45;&gt;3</title>\n<path fill=\"none\" stroke=\"black\" d=\"M342.93,-341.91C335.94,-332.92 328.47,-323.32 321.26,-314.05\"/>\n<polygon fill=\"black\" stroke=\"black\" points=\"323.92,-311.77 315.02,-306.02 318.39,-316.06 323.92,-311.77\"/>\n</g>\n<!-- 8 -->\n<g id=\"node9\" class=\"node\">\n<title>8</title>\n<path fill=\"#843de6\" stroke=\"black\" d=\"M537,-306C537,-306 396,-306 396,-306 390,-306 384,-300 384,-294 384,-294 384,-235 384,-235 384,-229 390,-223 396,-223 396,-223 537,-223 537,-223 543,-223 549,-229 549,-235 549,-235 549,-294 549,-294 549,-300 543,-306 537,-306\"/>\n<text text-anchor=\"start\" x=\"392\" y=\"-290.8\" font-family=\"Helvetica,sans-Serif\" font-size=\"14.00\">petal length (cm) ≤ 4.95</text>\n<text text-anchor=\"start\" x=\"416.5\" y=\"-275.8\" font-family=\"Helvetica,sans-Serif\" font-size=\"14.00\">entropy = 0.151</text>\n<text text-anchor=\"start\" x=\"423\" y=\"-260.8\" font-family=\"Helvetica,sans-Serif\" font-size=\"14.00\">samples = 46</text>\n<text text-anchor=\"start\" x=\"414\" y=\"-245.8\" font-family=\"Helvetica,sans-Serif\" font-size=\"14.00\">value = [0, 1, 45]</text>\n<text text-anchor=\"start\" x=\"416.5\" y=\"-230.8\" font-family=\"Helvetica,sans-Serif\" font-size=\"14.00\">class = virginica</text>\n</g>\n<!-- 2&#45;&gt;8 -->\n<g id=\"edge8\" class=\"edge\">\n<title>2&#45;&gt;8</title>\n<path fill=\"none\" stroke=\"black\" d=\"M406.42,-341.91C413.48,-332.92 421.04,-323.32 428.32,-314.05\"/>\n<polygon fill=\"black\" stroke=\"black\" points=\"431.21,-316.05 434.64,-306.02 425.7,-311.72 431.21,-316.05\"/>\n</g>\n<!-- 4 -->\n<g id=\"node5\" class=\"node\">\n<title>4</title>\n<path fill=\"#3de684\" stroke=\"black\" d=\"M208,-187C208,-187 63,-187 63,-187 57,-187 51,-181 51,-175 51,-175 51,-116 51,-116 51,-110 57,-104 63,-104 63,-104 208,-104 208,-104 214,-104 220,-110 220,-116 220,-116 220,-175 220,-175 220,-181 214,-187 208,-187\"/>\n<text text-anchor=\"start\" x=\"59\" y=\"-171.8\" font-family=\"Helvetica,sans-Serif\" font-size=\"14.00\">sepal length (cm) ≤ 5.15</text>\n<text text-anchor=\"start\" x=\"85.5\" y=\"-156.8\" font-family=\"Helvetica,sans-Serif\" font-size=\"14.00\">entropy = 0.146</text>\n<text text-anchor=\"start\" x=\"92\" y=\"-141.8\" font-family=\"Helvetica,sans-Serif\" font-size=\"14.00\">samples = 48</text>\n<text text-anchor=\"start\" x=\"83\" y=\"-126.8\" font-family=\"Helvetica,sans-Serif\" font-size=\"14.00\">value = [0, 47, 1]</text>\n<text text-anchor=\"start\" x=\"80\" y=\"-111.8\" font-family=\"Helvetica,sans-Serif\" font-size=\"14.00\">class = versicolor</text>\n</g>\n<!-- 3&#45;&gt;4 -->\n<g id=\"edge4\" class=\"edge\">\n<title>3&#45;&gt;4</title>\n<path fill=\"none\" stroke=\"black\" d=\"M232.15,-222.91C220.1,-213.38 207.16,-203.15 194.79,-193.37\"/>\n<polygon fill=\"black\" stroke=\"black\" points=\"196.77,-190.48 186.76,-187.02 192.43,-195.97 196.77,-190.48\"/>\n</g>\n<!-- 7 -->\n<g id=\"node8\" class=\"node\">\n<title>7</title>\n<path fill=\"#c09cf2\" stroke=\"black\" d=\"M342.5,-179.5C342.5,-179.5 250.5,-179.5 250.5,-179.5 244.5,-179.5 238.5,-173.5 238.5,-167.5 238.5,-167.5 238.5,-123.5 238.5,-123.5 238.5,-117.5 244.5,-111.5 250.5,-111.5 250.5,-111.5 342.5,-111.5 342.5,-111.5 348.5,-111.5 354.5,-117.5 354.5,-123.5 354.5,-123.5 354.5,-167.5 354.5,-167.5 354.5,-173.5 348.5,-179.5 342.5,-179.5\"/>\n<text text-anchor=\"start\" x=\"246.5\" y=\"-164.3\" font-family=\"Helvetica,sans-Serif\" font-size=\"14.00\">entropy = 0.918</text>\n<text text-anchor=\"start\" x=\"257\" y=\"-149.3\" font-family=\"Helvetica,sans-Serif\" font-size=\"14.00\">samples = 6</text>\n<text text-anchor=\"start\" x=\"248\" y=\"-134.3\" font-family=\"Helvetica,sans-Serif\" font-size=\"14.00\">value = [0, 2, 4]</text>\n<text text-anchor=\"start\" x=\"246.5\" y=\"-119.3\" font-family=\"Helvetica,sans-Serif\" font-size=\"14.00\">class = virginica</text>\n</g>\n<!-- 3&#45;&gt;7 -->\n<g id=\"edge7\" class=\"edge\">\n<title>3&#45;&gt;7</title>\n<path fill=\"none\" stroke=\"black\" d=\"M288.01,-222.91C289.2,-212.2 290.49,-200.62 291.69,-189.78\"/>\n<polygon fill=\"black\" stroke=\"black\" points=\"295.19,-189.99 292.81,-179.67 288.23,-189.22 295.19,-189.99\"/>\n</g>\n<!-- 5 -->\n<g id=\"node6\" class=\"node\">\n<title>5</title>\n<path fill=\"#6aeca0\" stroke=\"black\" d=\"M115,-68C115,-68 12,-68 12,-68 6,-68 0,-62 0,-56 0,-56 0,-12 0,-12 0,-6 6,0 12,0 12,0 115,0 115,0 121,0 127,-6 127,-12 127,-12 127,-56 127,-56 127,-62 121,-68 115,-68\"/>\n<text text-anchor=\"start\" x=\"13.5\" y=\"-52.8\" font-family=\"Helvetica,sans-Serif\" font-size=\"14.00\">entropy = 0.722</text>\n<text text-anchor=\"start\" x=\"24\" y=\"-37.8\" font-family=\"Helvetica,sans-Serif\" font-size=\"14.00\">samples = 5</text>\n<text text-anchor=\"start\" x=\"15\" y=\"-22.8\" font-family=\"Helvetica,sans-Serif\" font-size=\"14.00\">value = [0, 4, 1]</text>\n<text text-anchor=\"start\" x=\"8\" y=\"-7.8\" font-family=\"Helvetica,sans-Serif\" font-size=\"14.00\">class = versicolor</text>\n</g>\n<!-- 4&#45;&gt;5 -->\n<g id=\"edge5\" class=\"edge\">\n<title>4&#45;&gt;5</title>\n<path fill=\"none\" stroke=\"black\" d=\"M108.69,-103.73C102.93,-94.97 96.84,-85.7 91.05,-76.91\"/>\n<polygon fill=\"black\" stroke=\"black\" points=\"93.81,-74.73 85.4,-68.3 87.97,-78.58 93.81,-74.73\"/>\n</g>\n<!-- 6 -->\n<g id=\"node7\" class=\"node\">\n<title>6</title>\n<path fill=\"#39e581\" stroke=\"black\" d=\"M260,-68C260,-68 157,-68 157,-68 151,-68 145,-62 145,-56 145,-56 145,-12 145,-12 145,-6 151,0 157,0 157,0 260,0 260,0 266,0 272,-6 272,-12 272,-12 272,-56 272,-56 272,-62 266,-68 260,-68\"/>\n<text text-anchor=\"start\" x=\"166.5\" y=\"-52.8\" font-family=\"Helvetica,sans-Serif\" font-size=\"14.00\">entropy = 0.0</text>\n<text text-anchor=\"start\" x=\"165\" y=\"-37.8\" font-family=\"Helvetica,sans-Serif\" font-size=\"14.00\">samples = 43</text>\n<text text-anchor=\"start\" x=\"156\" y=\"-22.8\" font-family=\"Helvetica,sans-Serif\" font-size=\"14.00\">value = [0, 43, 0]</text>\n<text text-anchor=\"start\" x=\"153\" y=\"-7.8\" font-family=\"Helvetica,sans-Serif\" font-size=\"14.00\">class = versicolor</text>\n</g>\n<!-- 4&#45;&gt;6 -->\n<g id=\"edge6\" class=\"edge\">\n<title>4&#45;&gt;6</title>\n<path fill=\"none\" stroke=\"black\" d=\"M162.68,-103.73C168.58,-94.88 174.83,-85.51 180.75,-76.63\"/>\n<polygon fill=\"black\" stroke=\"black\" points=\"183.67,-78.56 186.3,-68.3 177.84,-74.68 183.67,-78.56\"/>\n</g>\n<!-- 9 -->\n<g id=\"node10\" class=\"node\">\n<title>9</title>\n<path fill=\"#9a61ea\" stroke=\"black\" d=\"M500.5,-179.5C500.5,-179.5 408.5,-179.5 408.5,-179.5 402.5,-179.5 396.5,-173.5 396.5,-167.5 396.5,-167.5 396.5,-123.5 396.5,-123.5 396.5,-117.5 402.5,-111.5 408.5,-111.5 408.5,-111.5 500.5,-111.5 500.5,-111.5 506.5,-111.5 512.5,-117.5 512.5,-123.5 512.5,-123.5 512.5,-167.5 512.5,-167.5 512.5,-173.5 506.5,-179.5 500.5,-179.5\"/>\n<text text-anchor=\"start\" x=\"408.5\" y=\"-164.3\" font-family=\"Helvetica,sans-Serif\" font-size=\"14.00\">entropy = 0.65</text>\n<text text-anchor=\"start\" x=\"415\" y=\"-149.3\" font-family=\"Helvetica,sans-Serif\" font-size=\"14.00\">samples = 6</text>\n<text text-anchor=\"start\" x=\"406\" y=\"-134.3\" font-family=\"Helvetica,sans-Serif\" font-size=\"14.00\">value = [0, 1, 5]</text>\n<text text-anchor=\"start\" x=\"404.5\" y=\"-119.3\" font-family=\"Helvetica,sans-Serif\" font-size=\"14.00\">class = virginica</text>\n</g>\n<!-- 8&#45;&gt;9 -->\n<g id=\"edge9\" class=\"edge\">\n<title>8&#45;&gt;9</title>\n<path fill=\"none\" stroke=\"black\" d=\"M462.34,-222.91C461.24,-212.2 460.05,-200.62 458.94,-189.78\"/>\n<polygon fill=\"black\" stroke=\"black\" points=\"462.4,-189.26 457.9,-179.67 455.44,-189.97 462.4,-189.26\"/>\n</g>\n<!-- 10 -->\n<g id=\"node11\" class=\"node\">\n<title>10</title>\n<path fill=\"#8139e5\" stroke=\"black\" d=\"M640,-179.5C640,-179.5 543,-179.5 543,-179.5 537,-179.5 531,-173.5 531,-167.5 531,-167.5 531,-123.5 531,-123.5 531,-117.5 537,-111.5 543,-111.5 543,-111.5 640,-111.5 640,-111.5 646,-111.5 652,-117.5 652,-123.5 652,-123.5 652,-167.5 652,-167.5 652,-173.5 646,-179.5 640,-179.5\"/>\n<text text-anchor=\"start\" x=\"549.5\" y=\"-164.3\" font-family=\"Helvetica,sans-Serif\" font-size=\"14.00\">entropy = 0.0</text>\n<text text-anchor=\"start\" x=\"548\" y=\"-149.3\" font-family=\"Helvetica,sans-Serif\" font-size=\"14.00\">samples = 40</text>\n<text text-anchor=\"start\" x=\"539\" y=\"-134.3\" font-family=\"Helvetica,sans-Serif\" font-size=\"14.00\">value = [0, 0, 40]</text>\n<text text-anchor=\"start\" x=\"541.5\" y=\"-119.3\" font-family=\"Helvetica,sans-Serif\" font-size=\"14.00\">class = virginica</text>\n</g>\n<!-- 8&#45;&gt;10 -->\n<g id=\"edge10\" class=\"edge\">\n<title>8&#45;&gt;10</title>\n<path fill=\"none\" stroke=\"black\" d=\"M509.87,-222.91C522.36,-211.21 535.99,-198.46 548.47,-186.78\"/>\n<polygon fill=\"black\" stroke=\"black\" points=\"551.16,-189.06 556.07,-179.67 546.37,-183.95 551.16,-189.06\"/>\n</g>\n</g>\n</svg>\n",
      "text/plain": [
       "<graphviz.sources.Source at 0x1b848150820>"
      ]
     },
     "execution_count": 10,
     "metadata": {},
     "output_type": "execute_result"
    }
   ],
   "source": [
    "# initialize another classifier to visualize the graph on the total examples\n",
    "clf_graph = tree.DecisionTreeClassifier(criterion=\"entropy\",random_state=300,min_samples_leaf=5,class_weight={0:1,1:1,2:1})\n",
    "clf_graph = clf_graph.fit(iris.data, iris.target)\n",
    "\n",
    "dot_data = tree.export_graphviz(clf_graph, out_file=None, \n",
    "                                feature_names=iris.feature_names,\n",
    "                                class_names=iris.target_names,\n",
    "                                filled=True, rounded=True,\n",
    "                                special_characters=True)\n",
    "graph = graphviz.Source(dot_data)\n",
    "graph"
   ]
  },
  {
   "cell_type": "markdown",
   "metadata": {},
   "source": [
    "- The maximum entropy is log2(3) = 1.585\n",
    "- The minimum entropy is 0\n",
    "- The class is chosen by the majority of the samples"
   ]
  },
  {
   "cell_type": "markdown",
   "metadata": {},
   "source": [
    "### 1.a Oversampling (Artificial Inflation)"
   ]
  },
  {
   "cell_type": "markdown",
   "metadata": {},
   "source": [
    "Applicate un sovracampionamento (artificial inflation) ad una classe nel training set con un determinato fattore: 10 (si pesi di più una delle classi tra virginica o versicolor che sono più difficili da discriminare). Si apprenda l'albero di decisione in queste condizioni."
   ]
  },
  {
   "cell_type": "code",
   "execution_count": 19,
   "metadata": {},
   "outputs": [],
   "source": [
    "clf_oversampling = tree.DecisionTreeClassifier(criterion=\"entropy\",random_state=300,min_samples_leaf=5,class_weight={0:1,1:1,2:1})\n",
    "iris = load_iris()\n",
    "X_train, X_test, y_train, y_test = train_test_split(iris.data, iris.target, test_size=0.3, random_state=1)"
   ]
  }
 ],
 "metadata": {
  "kernelspec": {
   "display_name": "Python 3.10.4 ('env AAUT': venv)",
   "language": "python",
   "name": "python3"
  },
  "language_info": {
   "codemirror_mode": {
    "name": "ipython",
    "version": 3
   },
   "file_extension": ".py",
   "mimetype": "text/x-python",
   "name": "python",
   "nbconvert_exporter": "python",
   "pygments_lexer": "ipython3",
   "version": "3.10.4"
  },
  "orig_nbformat": 4,
  "vscode": {
   "interpreter": {
    "hash": "08df9d67eeb19508b6e989f65b8131cfcf83a113e5c870321e1f1972c1b40b32"
   }
  }
 },
 "nbformat": 4,
 "nbformat_minor": 2
}
