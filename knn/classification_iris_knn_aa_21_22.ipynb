{
  "cells": [
    {
      "cell_type": "markdown",
      "metadata": {
        "id": "VbORlHDOEYTE"
      },
      "source": [
        "# # Classifiers comparison: decision trees and k-nearest neighbors on the dataset Iris\n",
        "\n",
        "\n",
        "In the following program we compare the prediction results obtained by decision trees and k-nearest neighbors on the dataset Iris"
      ]
    },
    {
      "cell_type": "markdown",
      "metadata": {
        "collapsed": true,
        "id": "iFRSTXNDEYTG"
      },
      "source": [
        "The following cell shows the program training a decision tree and its results in preciction "
      ]
    },
    {
      "cell_type": "code",
      "execution_count": 1,
      "metadata": {
        "colab": {
          "base_uri": "https://localhost:8080/"
        },
        "id": "X7fYOeG3EYTH",
        "outputId": "94c06325-bd74-47a6-92b7-8e6158afddd2"
      },
      "outputs": [
        {
          "name": "stdout",
          "output_type": "stream",
          "text": [
            "[0.96666667 1.         0.86666667 0.86666667 1.        ]\n"
          ]
        }
      ],
      "source": [
        "from sklearn import tree \n",
        "from sklearn.datasets import load_iris\n",
        "from sklearn.model_selection import cross_val_score # will be used to separate training and test\n",
        "iris = load_iris()\n",
        "clf = tree.DecisionTreeClassifier(criterion=\"entropy\",random_state=300,min_samples_leaf=5,class_weight={0:1,1:1,2:1})\n",
        "clf = clf.fit(iris.data, iris.target)\n",
        "scores = cross_val_score(clf, iris.data, iris.target, cv=5) # score will be the accuracy\n",
        "print(scores)\n"
      ]
    },
    {
      "cell_type": "markdown",
      "metadata": {
        "id": "O6Stp1gpEYTP"
      },
      "source": [
        "The following cell shows the training of k-nearest neighbors and its prediction results.\n",
        "Here we use a uniform weighting setting (weights='uniform'): any neighbors weights the same in the majority voting aggregation."
      ]
    },
    {
      "cell_type": "code",
      "execution_count": null,
      "metadata": {
        "colab": {
          "base_uri": "https://localhost:8080/"
        },
        "id": "OZAavM5qEYTQ",
        "outputId": "75239f26-c991-4aa5-af30-4e1e11e60e34"
      },
      "outputs": [],
      "source": [
        "from sklearn import neighbors\n",
        "n_neighbors = 11\n",
        "clf_knn = neighbors.KNeighborsClassifier(n_neighbors, weights='uniform')\n",
        "clf_knn = clf_knn.fit(iris.data, iris.target)\n",
        "scores = cross_val_score(clf_knn, iris.data, iris.target, cv=5) # score will be the accuracy\n",
        "print(scores)\n",
        "# shows the model predictions  \n",
        "for i in range(len(iris.target)):\n",
        "    print(iris.data[i,:])\n",
        "    print(iris.data[i,:].reshape(1,-1))\n",
        "    instance=iris.data[i,:].reshape(1,-1)\n",
        "    #print(clf_knn.predict(instance))\n",
        "    predicted=clf_knn.predict(instance)[0]\n",
        "    print(predicted)\n",
        "    if iris.target[i]==predicted:\n",
        "        print(str(i)+\" ok \"+str(iris.target_names[iris.target[i]]))\n",
        "    else:\n",
        "        print(str(i)+\" nok \"+\"true class: \"+str(iris.target_names[iris.target[i]])+\"; predicted: \"+str(iris.target_names[predicted]))"
      ]
    },
    {
      "cell_type": "markdown",
      "metadata": {
        "id": "YVI8abkeEYTV"
      },
      "source": [
        "In the following cell we use a varying weighting setting (weights='distance'): any neighbors weights inversely with its distance to the test instance in the majority voting aggregation."
      ]
    },
    {
      "cell_type": "code",
      "execution_count": null,
      "metadata": {
        "colab": {
          "base_uri": "https://localhost:8080/"
        },
        "id": "dxC1EypXEYTV",
        "outputId": "04a3ea00-6045-4507-e3c8-98bc124b4a5b",
        "scrolled": true
      },
      "outputs": [],
      "source": [
        "n_neighbors = 11\n",
        "clf_knn2 = neighbors.KNeighborsClassifier(n_neighbors, weights='distance')\n",
        "clf_knn2.fit(iris.data, iris.target)\n",
        "\n",
        "for i in range(len(iris.target)):\n",
        "    instance=(iris.data[i,:]).reshape(1, -1)\n",
        "    predicted2=clf_knn2.predict(instance)[0]\n",
        "    if iris.target[i]==predicted2:\n",
        "        print(str(i)+\" ok \"+str(iris.target_names[iris.target[i]]))\n",
        "    else:\n",
        "        print(str(i)+\" nok \"+\"true class: \"+str(iris.target_names[iris.target[i]])+\"; predicted: \"+str(iris.target_names[predicted]))\n",
        "print(\"Classification score of k-nn with distance weighting\")\n",
        "scores2 = cross_val_score(clf_knn2, iris.data, iris.target, cv=5,scoring='accuracy') # score will be the accuracy\n",
        "print(scores2)"
      ]
    },
    {
      "cell_type": "markdown",
      "metadata": {
        "id": "_Wpx4NW0EYTa"
      },
      "source": [
        "The following cell shows the tuning of the k-nn models with a varying value of k (number of nearest neighbors) and finds the best value of k (giving the maximum accuracy)."
      ]
    },
    {
      "cell_type": "code",
      "execution_count": null,
      "metadata": {
        "colab": {
          "base_uri": "https://localhost:8080/",
          "height": 1000
        },
        "id": "-jhdpzK2EYTa",
        "outputId": "6eadc375-90cb-46bf-d6eb-237b942ff42f",
        "scrolled": false
      },
      "outputs": [],
      "source": [
        "import numpy as np\n",
        "from numpy import zeros\n",
        "from sklearn import neighbors\n",
        "from sklearn.datasets import load_iris\n",
        "iris = load_iris()\n",
        "from sklearn.model_selection import train_test_split\n",
        "\n",
        "X_train, X_test, y_train, y_test = train_test_split(iris.data, iris.target, test_size=0.4, random_state=0)\n",
        "\n",
        "best_accuracy=0\n",
        "best_k=1\n",
        "A=np.zeros(len(y_train), dtype=np.float) # for storing accuracies\n",
        "for n_neighbors in np.arange(1,len(y_train)+1):\n",
        "    clf_knn3 = neighbors.KNeighborsClassifier(n_neighbors, weights='distance')\n",
        "    # (n_neighbors=5, weights='uniform', algorithm='auto', leaf_size=30, p=2, metric='minkowski', metric_params=None, n_jobs=1, **kwargs)\n",
        "    clf_knn3.fit(X_train, y_train)\n",
        "    index=n_neighbors-1\n",
        "    A[index]=clf_knn3.score(X_test, y_test)\n",
        "    if best_accuracy<clf_knn3.score(X_test, y_test):\n",
        "        best_accuracy=clf_knn3.score(X_test, y_test)\n",
        "        best_k=n_neighbors\n",
        "    print(\"k neighbors=\"+str(n_neighbors))\n",
        "    print(\"accuracy=\"+str(clf_knn3.score(X_test, y_test)))\n",
        "    \n",
        "print(\"\\n\")\n",
        "print(\"best k=\"+str(best_k))\n",
        "print(\"best accuracy=\"+str(best_accuracy))\n",
        "\n",
        "import matplotlib.pyplot as plt\n",
        "import matplotlib.ticker as ticker\n",
        "\n",
        "#plt.xticks(np.arange(1, len(y_train)+1, 8))\n",
        "plt.yticks(np.arange(0.0,1.0,0.01))\n",
        "\n",
        "plt.plot(np.arange(1,len(y_train)+1),A)\n",
        "\n",
        "plt.show()"
      ]
    },
    {
      "cell_type": "markdown",
      "metadata": {
        "collapsed": true,
        "id": "p23LUav0EYTe"
      },
      "source": [
        "In the following cell we plot in the same plot two subplots with the diagrams on accuracy with the two kinds of weighting \n",
        "of the vote of the neighbours (uniform and with distance)"
      ]
    },
    {
      "cell_type": "code",
      "execution_count": null,
      "metadata": {
        "colab": {
          "base_uri": "https://localhost:8080/",
          "height": 1000
        },
        "id": "Ewb11oFOEYTf",
        "outputId": "a64d135d-b84c-4051-f1b6-5cd248b5c70f"
      },
      "outputs": [],
      "source": [
        "import numpy as np\n",
        "from numpy import zeros\n",
        "from sklearn import neighbors\n",
        "from sklearn.datasets import load_iris\n",
        "iris = load_iris()\n",
        "from sklearn.model_selection import train_test_split\n",
        "\n",
        "import matplotlib.pyplot as plt\n",
        "\n",
        "X_train, X_test, y_train, y_test = train_test_split(iris.data, iris.target, test_size=0.4, random_state=0)\n",
        "\n",
        "i=0  #parameter in the control of the subplot to draw on'\n",
        "f,(ax1, ax2) = plt.subplots(1, 2, sharey=True)\n",
        "for weight_type in ['uniform','distance']:\n",
        "    print(\"weighting:\"+str(weight_type))\n",
        "    A=np.zeros(len(y_train), dtype=np.float) # for storing accuracies\n",
        "    best_accuracy=0\n",
        "    best_k=1\n",
        "    for n_neighbors in np.arange(1,len(y_train)+1):\n",
        "        clf_knn2 = neighbors.KNeighborsClassifier(n_neighbors, weights=weight_type)\n",
        "        # (n_neighbors=5, weights='uniform', algorithm='auto', leaf_size=30, p=2, metric='minkowski', metric_params=None, n_jobs=1, **kwargs)\n",
        "        clf_knn2.fit(X_train, y_train)\n",
        "        index=n_neighbors-1\n",
        "        A[index]=clf_knn2.score(X_test, y_test)\n",
        "        if best_accuracy<clf_knn2.score(X_test, y_test):\n",
        "            best_accuracy=clf_knn2.score(X_test, y_test)\n",
        "            best_k=n_neighbors\n",
        "        print(\"k neighbors=\"+str(n_neighbors))\n",
        "        print(\"accuracy=\"+str(clf_knn2.score(X_test, y_test)))\n",
        "    \n",
        "    print(\"\\n\")\n",
        "    print(\"best k=\"+str(best_k))\n",
        "    print(\"best accuracy=\"+str(best_accuracy))\n",
        "    if i==0:\n",
        "        ax1.plot(np.arange(1,len(y_train)+1),A)\n",
        "        ax1.set_title('weighting type:'+str(weight_type))\n",
        "    else:\n",
        "        ax2.plot(np.arange(1,len(y_train)+1),A)\n",
        "        ax2.set_title('weighting type:'+str(weight_type))\n",
        "    i=i+1\n",
        "\n",
        "plt.show()\n"
      ]
    },
    {
      "cell_type": "markdown",
      "metadata": {
        "collapsed": true,
        "id": "LXhkXpz0EYTj"
      },
      "source": [
        "In the following cell we plot (overlapping) in the same picture both the diagrams on accuracy with the two kinds of weighting \n",
        "of the vote of the neighbours (uniform and with distance)"
      ]
    },
    {
      "cell_type": "code",
      "execution_count": null,
      "metadata": {
        "colab": {
          "base_uri": "https://localhost:8080/",
          "height": 1000
        },
        "id": "7_nkikvMEYTk",
        "outputId": "e5fb0243-2767-4448-e9b5-7252c8bf1610"
      },
      "outputs": [
        {
          "name": "stdout",
          "output_type": "stream",
          "text": [
            "\n",
            " weighting:uniform\n",
            "k neighbors=1\n",
            "accuracy=0.9166666666666666\n",
            "k neighbors=2\n",
            "accuracy=0.8833333333333333\n",
            "k neighbors=3\n",
            "accuracy=0.9333333333333333\n",
            "k neighbors=4\n",
            "accuracy=0.9\n",
            "k neighbors=5\n",
            "accuracy=0.95\n",
            "k neighbors=6\n",
            "accuracy=0.9166666666666666\n",
            "k neighbors=7\n",
            "accuracy=0.9666666666666667\n",
            "k neighbors=8\n",
            "accuracy=0.9333333333333333\n",
            "k neighbors=9\n",
            "accuracy=0.9666666666666667\n",
            "k neighbors=10\n",
            "accuracy=0.9666666666666667\n",
            "k neighbors=11\n",
            "accuracy=0.9666666666666667\n",
            "k neighbors=12\n",
            "accuracy=0.95\n",
            "k neighbors=13\n",
            "accuracy=0.95\n",
            "k neighbors=14\n",
            "accuracy=0.9166666666666666\n",
            "k neighbors=15\n",
            "accuracy=0.9333333333333333\n",
            "k neighbors=16\n",
            "accuracy=0.9166666666666666\n",
            "k neighbors=17\n",
            "accuracy=0.9333333333333333\n",
            "k neighbors=18\n",
            "accuracy=0.9333333333333333\n",
            "k neighbors=19\n",
            "accuracy=0.9333333333333333\n",
            "k neighbors=20\n",
            "accuracy=0.9166666666666666\n",
            "k neighbors=21\n",
            "accuracy=0.9333333333333333\n",
            "k neighbors=22\n",
            "accuracy=0.9\n",
            "k neighbors=23\n",
            "accuracy=0.9\n",
            "k neighbors=24\n",
            "accuracy=0.8833333333333333\n",
            "k neighbors=25\n",
            "accuracy=0.8666666666666667\n",
            "k neighbors=26\n",
            "accuracy=0.8833333333333333\n",
            "k neighbors=27\n",
            "accuracy=0.9\n",
            "k neighbors=28\n",
            "accuracy=0.8833333333333333\n",
            "k neighbors=29\n",
            "accuracy=0.9\n",
            "k neighbors=30\n",
            "accuracy=0.8666666666666667\n",
            "k neighbors=31\n",
            "accuracy=0.9\n",
            "k neighbors=32\n",
            "accuracy=0.8666666666666667\n",
            "k neighbors=33\n",
            "accuracy=0.8833333333333333\n",
            "k neighbors=34\n",
            "accuracy=0.8666666666666667\n",
            "k neighbors=35\n",
            "accuracy=0.8833333333333333\n",
            "k neighbors=36\n",
            "accuracy=0.8666666666666667\n",
            "k neighbors=37\n",
            "accuracy=0.8833333333333333\n",
            "k neighbors=38\n",
            "accuracy=0.8666666666666667\n",
            "k neighbors=39\n",
            "accuracy=0.8666666666666667\n",
            "k neighbors=40\n",
            "accuracy=0.8666666666666667\n",
            "k neighbors=41\n",
            "accuracy=0.8333333333333334\n",
            "k neighbors=42\n",
            "accuracy=0.8166666666666667\n",
            "k neighbors=43\n",
            "accuracy=0.8166666666666667\n",
            "k neighbors=44\n",
            "accuracy=0.8166666666666667\n",
            "k neighbors=45\n",
            "accuracy=0.85\n",
            "k neighbors=46\n",
            "accuracy=0.8333333333333334\n",
            "k neighbors=47\n",
            "accuracy=0.85\n",
            "k neighbors=48\n",
            "accuracy=0.85\n",
            "k neighbors=49\n",
            "accuracy=0.85\n",
            "k neighbors=50\n",
            "accuracy=0.85\n",
            "k neighbors=51\n",
            "accuracy=0.8333333333333334\n",
            "k neighbors=52\n",
            "accuracy=0.8166666666666667\n",
            "k neighbors=53\n",
            "accuracy=0.8333333333333334\n",
            "k neighbors=54\n",
            "accuracy=0.8333333333333334\n",
            "k neighbors=55\n",
            "accuracy=0.8\n",
            "k neighbors=56\n",
            "accuracy=0.8\n",
            "k neighbors=57\n",
            "accuracy=0.8\n",
            "k neighbors=58\n",
            "accuracy=0.7833333333333333\n",
            "k neighbors=59\n",
            "accuracy=0.7666666666666667\n",
            "k neighbors=60\n",
            "accuracy=0.7666666666666667\n",
            "k neighbors=61\n",
            "accuracy=0.7666666666666667\n",
            "k neighbors=62\n",
            "accuracy=0.75\n",
            "k neighbors=63\n",
            "accuracy=0.75\n",
            "k neighbors=64\n",
            "accuracy=0.75\n",
            "k neighbors=65\n",
            "accuracy=0.75\n",
            "k neighbors=66\n",
            "accuracy=0.75\n",
            "k neighbors=67\n",
            "accuracy=0.75\n",
            "k neighbors=68\n",
            "accuracy=0.75\n",
            "k neighbors=69\n",
            "accuracy=0.75\n",
            "k neighbors=70\n",
            "accuracy=0.7333333333333333\n",
            "k neighbors=71\n",
            "accuracy=0.7333333333333333\n",
            "k neighbors=72\n",
            "accuracy=0.7333333333333333\n",
            "k neighbors=73\n",
            "accuracy=0.7333333333333333\n",
            "k neighbors=74\n",
            "accuracy=0.7166666666666667\n",
            "k neighbors=75\n",
            "accuracy=0.7166666666666667\n",
            "k neighbors=76\n",
            "accuracy=0.6833333333333333\n",
            "k neighbors=77\n",
            "accuracy=0.6666666666666666\n",
            "k neighbors=78\n",
            "accuracy=0.6333333333333333\n",
            "k neighbors=79\n",
            "accuracy=0.6333333333333333\n",
            "k neighbors=80\n",
            "accuracy=0.6\n",
            "k neighbors=81\n",
            "accuracy=0.6\n",
            "k neighbors=82\n",
            "accuracy=0.6\n",
            "k neighbors=83\n",
            "accuracy=0.6\n",
            "k neighbors=84\n",
            "accuracy=0.6\n",
            "k neighbors=85\n",
            "accuracy=0.26666666666666666\n",
            "k neighbors=86\n",
            "accuracy=0.26666666666666666\n",
            "k neighbors=87\n",
            "accuracy=0.26666666666666666\n",
            "k neighbors=88\n",
            "accuracy=0.26666666666666666\n",
            "k neighbors=89\n",
            "accuracy=0.26666666666666666\n",
            "k neighbors=90\n",
            "accuracy=0.26666666666666666\n",
            "\n",
            "\n",
            "best k=7\n",
            "best accuracy=0.9666666666666667\n",
            "\n",
            " weighting:distance\n",
            "k neighbors=1\n",
            "accuracy=0.9166666666666666\n",
            "k neighbors=2\n",
            "accuracy=0.9166666666666666\n",
            "k neighbors=3\n",
            "accuracy=0.9333333333333333\n",
            "k neighbors=4\n",
            "accuracy=0.9166666666666666\n",
            "k neighbors=5\n",
            "accuracy=0.95\n",
            "k neighbors=6\n",
            "accuracy=0.9333333333333333\n",
            "k neighbors=7\n",
            "accuracy=0.9666666666666667\n",
            "k neighbors=8\n",
            "accuracy=0.9333333333333333\n",
            "k neighbors=9\n",
            "accuracy=0.9666666666666667\n",
            "k neighbors=10\n",
            "accuracy=0.9666666666666667\n",
            "k neighbors=11\n",
            "accuracy=0.9666666666666667\n",
            "k neighbors=12\n",
            "accuracy=0.9666666666666667\n",
            "k neighbors=13\n",
            "accuracy=0.9666666666666667\n",
            "k neighbors=14\n",
            "accuracy=0.95\n",
            "k neighbors=15\n",
            "accuracy=0.95\n",
            "k neighbors=16\n",
            "accuracy=0.9166666666666666\n",
            "k neighbors=17\n",
            "accuracy=0.9333333333333333\n",
            "k neighbors=18\n",
            "accuracy=0.9166666666666666\n",
            "k neighbors=19\n",
            "accuracy=0.9166666666666666\n",
            "k neighbors=20\n",
            "accuracy=0.9166666666666666\n",
            "k neighbors=21\n",
            "accuracy=0.9166666666666666\n",
            "k neighbors=22\n",
            "accuracy=0.9166666666666666\n",
            "k neighbors=23\n",
            "accuracy=0.9166666666666666\n",
            "k neighbors=24\n",
            "accuracy=0.9\n",
            "k neighbors=25\n",
            "accuracy=0.9166666666666666\n",
            "k neighbors=26\n",
            "accuracy=0.9166666666666666\n",
            "k neighbors=27\n",
            "accuracy=0.9333333333333333\n",
            "k neighbors=28\n",
            "accuracy=0.9333333333333333\n",
            "k neighbors=29\n",
            "accuracy=0.9333333333333333\n",
            "k neighbors=30\n",
            "accuracy=0.9166666666666666\n",
            "k neighbors=31\n",
            "accuracy=0.9333333333333333\n",
            "k neighbors=32\n",
            "accuracy=0.9166666666666666\n",
            "k neighbors=33\n",
            "accuracy=0.9333333333333333\n",
            "k neighbors=34\n",
            "accuracy=0.9166666666666666\n",
            "k neighbors=35\n",
            "accuracy=0.9333333333333333\n",
            "k neighbors=36\n",
            "accuracy=0.9166666666666666\n",
            "k neighbors=37\n",
            "accuracy=0.9333333333333333\n",
            "k neighbors=38\n",
            "accuracy=0.9\n",
            "k neighbors=39\n",
            "accuracy=0.9166666666666666\n",
            "k neighbors=40\n",
            "accuracy=0.9166666666666666\n",
            "k neighbors=41\n",
            "accuracy=0.9333333333333333\n",
            "k neighbors=42\n",
            "accuracy=0.9333333333333333\n",
            "k neighbors=43\n",
            "accuracy=0.9333333333333333\n",
            "k neighbors=44\n",
            "accuracy=0.9166666666666666\n",
            "k neighbors=45\n",
            "accuracy=0.9333333333333333\n",
            "k neighbors=46\n",
            "accuracy=0.9166666666666666\n",
            "k neighbors=47\n",
            "accuracy=0.9166666666666666\n",
            "k neighbors=48\n",
            "accuracy=0.9166666666666666\n",
            "k neighbors=49\n",
            "accuracy=0.9166666666666666\n",
            "k neighbors=50\n",
            "accuracy=0.9166666666666666\n",
            "k neighbors=51\n",
            "accuracy=0.9333333333333333\n",
            "k neighbors=52\n",
            "accuracy=0.9333333333333333\n",
            "k neighbors=53\n",
            "accuracy=0.9333333333333333\n",
            "k neighbors=54\n",
            "accuracy=0.9333333333333333\n",
            "k neighbors=55\n",
            "accuracy=0.9333333333333333\n",
            "k neighbors=56\n",
            "accuracy=0.95\n",
            "k neighbors=57\n",
            "accuracy=0.95\n",
            "k neighbors=58\n",
            "accuracy=0.95\n",
            "k neighbors=59\n",
            "accuracy=0.95\n",
            "k neighbors=60\n",
            "accuracy=0.95\n",
            "k neighbors=61\n",
            "accuracy=0.95\n",
            "k neighbors=62\n",
            "accuracy=0.95\n",
            "k neighbors=63\n",
            "accuracy=0.95\n",
            "k neighbors=64\n",
            "accuracy=0.95\n",
            "k neighbors=65\n",
            "accuracy=0.95\n",
            "k neighbors=66\n",
            "accuracy=0.95\n",
            "k neighbors=67\n",
            "accuracy=0.95\n",
            "k neighbors=68\n",
            "accuracy=0.95\n",
            "k neighbors=69\n",
            "accuracy=0.95\n",
            "k neighbors=70\n",
            "accuracy=0.95\n",
            "k neighbors=71\n",
            "accuracy=0.95\n",
            "k neighbors=72\n",
            "accuracy=0.95\n",
            "k neighbors=73\n",
            "accuracy=0.95\n",
            "k neighbors=74\n",
            "accuracy=0.95\n",
            "k neighbors=75\n",
            "accuracy=0.95\n",
            "k neighbors=76\n",
            "accuracy=0.95\n",
            "k neighbors=77\n",
            "accuracy=0.95\n",
            "k neighbors=78\n",
            "accuracy=0.95\n",
            "k neighbors=79\n",
            "accuracy=0.95\n",
            "k neighbors=80\n",
            "accuracy=0.95\n",
            "k neighbors=81\n",
            "accuracy=0.95\n",
            "k neighbors=82\n",
            "accuracy=0.95\n",
            "k neighbors=83\n",
            "accuracy=0.95\n",
            "k neighbors=84\n",
            "accuracy=0.95\n",
            "k neighbors=85\n",
            "accuracy=0.95\n",
            "k neighbors=86\n",
            "accuracy=0.95\n",
            "k neighbors=87\n",
            "accuracy=0.95\n",
            "k neighbors=88\n",
            "accuracy=0.95\n",
            "k neighbors=89\n",
            "accuracy=0.95\n",
            "k neighbors=90\n",
            "accuracy=0.95\n",
            "\n",
            "\n",
            "best k=7\n",
            "best accuracy=0.9666666666666667\n"
          ]
        },
        {
          "data": {
            "image/png": "[encoded data removed]",
            "text/plain": [
              "<Figure size 432x288 with 1 Axes>"
            ]
          },
          "metadata": {
            "needs_background": "light",
            "tags": []
          },
          "output_type": "display_data"
        }
      ],
      "source": [
        "import numpy as np\n",
        "from numpy import zeros\n",
        "from sklearn import neighbors\n",
        "from sklearn.datasets import load_iris\n",
        "iris = load_iris()\n",
        "from sklearn.model_selection import train_test_split\n",
        "\n",
        "import matplotlib.pyplot as plt\n",
        "\n",
        "X_train, X_test, y_train, y_test = train_test_split(iris.data, iris.target, test_size=0.4, random_state=0)\n",
        "\n",
        "fig = plt.figure()\n",
        "fig.suptitle('Accuracy in k-nn with number of neighbors and types of weighting', fontsize=14, fontweight='bold')\n",
        "ax = fig.add_subplot(111)\n",
        "ax.set_xlabel('n. neighbors')\n",
        "ax.set_ylabel('accuracy')\n",
        "\n",
        "A=np.zeros((len(y_train),2), dtype=np.float) # 2 arrays for storing accuracies for each type of weigthing\n",
        "i=0  #parameter in the control of the different diagram (=matrix A column index)\n",
        "best_accuracy=0\n",
        "for weight_type in ['uniform','distance']:\n",
        "    print(\"\\n weighting:\"+str(weight_type))\n",
        "    best_accuracy=0\n",
        "    best_k=1\n",
        "    for n_neighbors in np.arange(1,len(y_train)+1):\n",
        "        clf_knn2 = neighbors.KNeighborsClassifier(n_neighbors, weights=weight_type)\n",
        "        # (n_neighbors=5, weights='uniform', algorithm='auto', leaf_size=30, p=2, metric='minkowski', metric_params=None, n_jobs=1, **kwargs)\n",
        "        clf_knn2.fit(X_train, y_train)\n",
        "        index=n_neighbors-1 # computes the matrix row index\n",
        "        A[index,i]=clf_knn2.score(X_test, y_test)\n",
        "        if best_accuracy<clf_knn2.score(X_test, y_test):\n",
        "            best_accuracy=clf_knn2.score(X_test, y_test)\n",
        "            best_k=n_neighbors\n",
        "        print(\"k neighbors=\"+str(n_neighbors))\n",
        "        print(\"accuracy=\"+str(clf_knn2.score(X_test, y_test)))\n",
        "    \n",
        "    print(\"\\n\")\n",
        "    print(\"best k=\"+str(best_k))\n",
        "    print(\"best accuracy=\"+str(best_accuracy))\n",
        "    plt.plot(np.arange(1,len(y_train)+1),A[:,i])\n",
        "    i=i+1\n",
        "plt.legend(['uniform', 'distance'], loc='lower left')  \n",
        "plt.show()\n"
      ]
    },
    {
      "cell_type": "markdown",
      "metadata": {
        "collapsed": true,
        "id": "-aSX54vFEYTp"
      },
      "source": [
        "Plot the Iris dataset, in 2-D, with a red color for Setosa, blu for Versicolor, Green for Virginica.\n"
      ]
    },
    {
      "cell_type": "code",
      "execution_count": 14,
      "metadata": {
        "id": "5o8cPLOdEYTq"
      },
      "outputs": [
        {
          "data": {
            "text/plain": [
              "Text(0, 0.5, 'Petal width')"
            ]
          },
          "execution_count": 14,
          "metadata": {},
          "output_type": "execute_result"
        },
        {
          "data": {
            "image/png": "[encoded data removed]",
            "text/plain": [
              "<Figure size 432x288 with 1 Axes>"
            ]
          },
          "metadata": {
            "needs_background": "light"
          },
          "output_type": "display_data"
        }
      ],
      "source": [
        "'''\n",
        "1. sepal length in cm\n",
        "2. sepal width in cm\n",
        "3. petal length in cm\n",
        "4. petal width in cm\n",
        "'''\n",
        "X = iris.data[:, 2:]\n",
        "y = iris.target\n",
        "\n",
        "plt.scatter(X[:, 0], X[:, 1], c=y, cmap=plt.cm.Set2, edgecolor=\"k\")\n",
        "plt.xlabel(\"Petal length\")\n",
        "plt.ylabel(\"Petal width\")"
      ]
    },
    {
      "cell_type": "markdown",
      "metadata": {
        "id": "Fs9ogv4vEYTt"
      },
      "source": [
        "## What you have to do: \n",
        "1. Plot the Iris dataset, in 2-D, with the color as above determined by the k-nn estimation\n"
      ]
    },
    {
      "cell_type": "code",
      "execution_count": null,
      "metadata": {
        "id": "niu9K9kn43ZM"
      },
      "outputs": [],
      "source": []
    },
    {
      "cell_type": "markdown",
      "metadata": {
        "id": "B6iglAFh37rQ"
      },
      "source": [
        "2. Plot the ROC plot of the k-nn (for the best value of k) for each of the three classes: setosa, virginica and versicolor\n",
        "3. Plot the ROC plot for the best decision tree you trained in Exercize n.1  \n",
        "4. Compare decision trees and k-nn on the ROC space: for which values of (TPR,FPR) k-nn is better than decision trees?"
      ]
    },
    {
      "cell_type": "code",
      "execution_count": null,
      "metadata": {
        "id": "n4d3We4cEYTu"
      },
      "outputs": [],
      "source": []
    },
    {
      "cell_type": "markdown",
      "metadata": {
        "id": "aqQOXvLKEYTy"
      },
      "source": [
        "5. In the following, extend the above exercize on k-nn using a kernel function  \n",
        "K(x,y) for the distances computation, such that distance(x,y)=1-K(x,y).    Use a Gaussian-like (or Radial Basis Function) kernel K(x,y)=exp(-gamma(x-y)^2), with gamma the inverse of the sigma squared variance, that must be tuned to the best value according to the accuracy reached by the k-nn, with k=7 (similarly as done with the previous example on tuning the parameter n_neightbors)."
      ]
    },
    {
      "cell_type": "code",
      "execution_count": null,
      "metadata": {
        "id": "aBWkBiriEYTy"
      },
      "outputs": [],
      "source": []
    }
  ],
  "metadata": {
    "anaconda-cloud": {},
    "colab": {
      "collapsed_sections": [],
      "name": "classification_iris_knn_aa_21_22.ipynb",
      "provenance": []
    },
    "kernelspec": {
      "display_name": "Python 3.8.7 64-bit",
      "language": "python",
      "name": "python3"
    },
    "language_info": {
      "codemirror_mode": {
        "name": "ipython",
        "version": 3
      },
      "file_extension": ".py",
      "mimetype": "text/x-python",
      "name": "python",
      "nbconvert_exporter": "python",
      "pygments_lexer": "ipython3",
      "version": "3.8.7"
    },
    "vscode": {
      "interpreter": {
        "hash": "7efb2d7ff2df1439e00fdb3d4f2694a3ec3140441601882caf0cf9a3f70ee73c"
      }
    }
  },
  "nbformat": 4,
  "nbformat_minor": 0
}
