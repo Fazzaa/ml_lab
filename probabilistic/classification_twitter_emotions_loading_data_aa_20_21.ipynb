{
  "cells": [
    {
      "attachments": {},
      "cell_type": "markdown",
      "metadata": {
        "id": "7vWhC1-mMyop"
      },
      "source": [
        "## Classifiers comparison on texts with naive Bayes assumption\n",
        "\n",
        "In this session of laboratory we compare two models for categorical data probabilistic modeling: \n",
        "1. multivariate Bernoulli \n",
        "2. multinomial on a dataset \n",
        "\n",
        "We adopt a dataset on Twitter messages labelled with emotions (Joy vs Sadness).\n",
        "\n",
        "The following program shows the loading of the data from a file."
      ]
    },
    {
      "cell_type": "markdown",
      "metadata": {
        "id": "i70pgsCOMyop"
      },
      "source": [
        "Data are loaded into a matrix X adopting a sparse matrix representation, in order to save space and time.\n",
        "Sparse matrix representation (in the csr format) represents in three \"parallel\" arrays the value of the matrix cells that are different from zero and the indices of those matrix cells.\n",
        "The arrays are called: \n",
        "- data\n",
        "- row\n",
        "- col\n",
        "\n",
        "- data[i] stores the value of the matrix cell #i whose indexes are contained in row[i] and col[i] \n",
        "- row[i] stores the index of the row in the matrix of the cell #i, \n",
        "- col[i] stores the index of the column of the cell #i.\n"
      ]
    },
    {
      "cell_type": "markdown",
      "metadata": {
        "id": "Sktoeaw5Myop"
      },
      "source": [
        "The data file is in csv format.\n",
        "Any Twitter message has been preprocessed by a Natural Language pipeline which eliminated stop words and substituted the interesting document elements with an integer identifier.  \n",
        "The interesting document elements might be words, emoji or emoticons. The elements could be repeated in the same document and are uniquely identified in the documents by the same integer number (named \"element_id\" in the program). This \"element_id\" number will be used as the index of the column of the data matrix, for the purposes of storage of data.\n",
        "\n",
        "Each row of the CSV file reports the content of a document (a Twitter message).It is formed as a list of integer number pairs, followed by a string which is the label of the document (\"Joy\" or \"Sadness\").\n",
        "The first number of the pair is the identifier of a document element (the \"element_id\"); \n",
        "the second number of the pair is the count (frequency) of that element in that document.\n",
        "\n",
        "The dataset has:\n",
        "\n",
        "tot_n_docs (or rows in the file) =n_rows=11981\n",
        "\n",
        "n_features (total number of distinct words in the corpus)=11288\n",
        "\n"
      ]
    },
    {
      "cell_type": "markdown",
      "metadata": {
        "collapsed": true,
        "id": "Phlf-MPAMyop"
      },
      "source": [
        "The following program reads the data file and loads in a sparse way the matrix using the scipy.sparse library"
      ]
    },
    {
      "cell_type": "code",
      "execution_count": 1,
      "metadata": {
        "colab": {
          "base_uri": "https://localhost:8080/"
        },
        "id": "rMyi3U-ZMyop",
        "outputId": "39724efe-040d-470e-dd16-6ccf319e797a"
      },
      "outputs": [
        {
          "name": "stdout",
          "output_type": "stream",
          "text": [
            "final n_row=[0 0 0 ... 0 0 0]\n",
            "resulting matrix:\n"
          ]
        },
        {
          "data": {
            "text/plain": [
              "'print(twitter_data)\\nprint(twitter_labels)\\nprint(twitter_target)'"
            ]
          },
          "execution_count": 1,
          "metadata": {},
          "output_type": "execute_result"
        }
      ],
      "source": [
        "\n",
        "from numpy import ndarray, zeros\n",
        "import numpy as np\n",
        "import scipy\n",
        "from scipy.sparse import csr_matrix\n",
        "\n",
        "class_labels = [\"Joy\",\"Sadness\"]\n",
        "n_features=11288 # number of columns in the matrix = number of features (distinct elements in the documents)\n",
        "n_rows=11981 # number rows of the matrix\n",
        "n_elements=71474 # number of the existing values in the matrix (not empty, to be loaded in the matrix in a sparse way)\n",
        "\n",
        "#path_training=\"/Users/meo/Documents/Didattica/Laboratorio-15-16-Jupyter/\"\n",
        "path_training=\"./data/\"\n",
        "file_name=\"joy_sadness6000.txt\"\n",
        "\n",
        "# declare the row and col arrays with the indexes of the matrix cells (non empty) to be loaded from file\n",
        "# they are needed because the matrix is sparse and we load in the matrix only the elements which are present\n",
        "row=np.empty(n_elements, dtype=int)\n",
        "col=np.empty(n_elements, dtype=int)\n",
        "data=np.empty(n_elements, dtype=int)\n",
        "\n",
        "row_n=0 # number of current row to be read and managed\n",
        "cur_el=0 # position in the three arrays: row, col and data\n",
        "twitter_labels=[] # list of class labels (target array) of the documents (twitter) that will be read from the input file\n",
        "twitter_target=[] # list of 0/1 for class labels\n",
        "with open(path_training + file_name, \"r\") as fi:\n",
        "    for line in fi:\n",
        "        el_list=line.split(',')  # list of integers read from a row of the file\n",
        "        l=len(el_list)\n",
        "        last_el=el_list[l-1] # I grab the last element in the list which is the class label\n",
        "        class_name=last_el.strip() # eliminate the '\\n'\n",
        "        twitter_labels.append(class_name)\n",
        "        # twitter_labels contains the labels (Joy/Sadness); twitter_target contains 0/1 for the respective labels\n",
        "        if (class_name==class_labels[0]):\n",
        "           twitter_target.append(0)\n",
        "        else:\n",
        "           twitter_target.append(1)\n",
        "        i=0 # I start reading all the doc elements from the beginning of the list\n",
        "        while(i<(l-1)):\n",
        "            element_id=int(el_list[i]) # identifier of the element in the document equivalent to the column index\n",
        "            element_id=element_id-1 # the index starts from 0 (the read id starts from 1)\n",
        "            i=i+1\n",
        "            value_cell=int(el_list[i]) # make access to the following value in the file which is the count of the element in the documento \n",
        "            i=i+1\n",
        "            row[cur_el]=row_n # load the data in the three arrays: the first two are the row and col indexes; the last one is the matrix cell value\n",
        "            col[cur_el]=element_id\n",
        "            data[cur_el]=value_cell\n",
        "            cur_el=cur_el+1\n",
        "        row_n=row_n+1\n",
        "fi.close\n",
        "print(\"final n_row=\"+str(row))\n",
        "# loads the matrix by means of the indexes and the values in the three arrays just filled\n",
        "twitter_data=csr_matrix((data, (row, col)), shape=(n_rows, n_features)).toarray()\n",
        "print(\"resulting matrix:\")\n",
        "'''print(twitter_data)\n",
        "print(twitter_labels)\n",
        "print(twitter_target)'''\n"
      ]
    },
    {
      "attachments": {},
      "cell_type": "markdown",
      "metadata": {
        "collapsed": true,
        "id": "v4FHZONyMyoq"
      },
      "source": [
        "Write a program in the following cell that splits the data matrix in training and test set (by random selection) and predicts the class (Joy/Sadness) of the messages on the basis of the words. \n",
        "Consider the two possible models:\n",
        "multivariate Bernoulli and multinomial Bernoulli.\n",
        "Find the accuracy of the models and test if the observed differences are significant."
      ]
    },
    {
      "cell_type": "code",
      "execution_count": 2,
      "metadata": {
        "id": "c44Vk519Myoq"
      },
      "outputs": [],
      "source": [
        "import numpy as np\n",
        "from sklearn.naive_bayes import BernoulliNB, MultinomialNB\n",
        "from sklearn.model_selection import train_test_split\n",
        "from sklearn.metrics import accuracy_score\n",
        "from sklearn.model_selection import cross_validate\n",
        "from sklearn.model_selection import cross_val_score\n",
        "from scipy.stats import ttest_ind"
      ]
    },
    {
      "cell_type": "code",
      "execution_count": 3,
      "metadata": {},
      "outputs": [
        {
          "name": "stdout",
          "output_type": "stream",
          "text": [
            "Multivariate Bernoulli classifier: 0.9457655402586567\n",
            "Multinomial Bernoulli classifier: 0.9432624113475178\n"
          ]
        }
      ],
      "source": [
        "trainX, testX, trainY, testY = train_test_split(twitter_data, twitter_target, test_size=0.2, random_state=42)\n",
        "\n",
        "clf_multivariate = BernoulliNB()\n",
        "clf_multinomial = MultinomialNB()\n",
        "\n",
        "clf_multivariate.fit(trainX, trainY)\n",
        "clf_multinomial.fit(trainX, trainY)\n",
        "\n",
        "pred_multivariate = clf_multivariate.predict(testX)\n",
        "pred_multinomial = clf_multinomial.predict(testX)\n",
        "\n",
        "print(f\"Multivariate Bernoulli classifier: {accuracy_score(testY, pred_multivariate)}\")\n",
        "print(f\"Multinomial Bernoulli classifier: {accuracy_score(testY, pred_multinomial)}\")\n"
      ]
    },
    {
      "cell_type": "code",
      "execution_count": 4,
      "metadata": {},
      "outputs": [],
      "source": [
        "cv_results_mv = cross_validate(clf_multivariate, twitter_data, twitter_target, cv=10)\n",
        "sorted(cv_results_mv.keys())\n",
        "acc_folds_mv = cv_results_mv['test_score']\n",
        "\n",
        "cv_results_mn = cross_validate(clf_multinomial, twitter_data, twitter_target, cv=10)\n",
        "sorted(cv_results_mn.keys())\n",
        "acc_folds_mn = cv_results_mn['test_score']"
      ]
    },
    {
      "cell_type": "code",
      "execution_count": 5,
      "metadata": {},
      "outputs": [
        {
          "name": "stdout",
          "output_type": "stream",
          "text": [
            "[ 0.00250209  0.00083472  0.          0.00166945  0.00417362  0.00500835\n",
            "  0.00166945  0.00500835  0.00083472 -0.00083472]\n"
          ]
        }
      ],
      "source": [
        "acc_folds_diff = acc_folds_mv - acc_folds_mn\n",
        "print(acc_folds_diff)"
      ]
    },
    {
      "cell_type": "code",
      "execution_count": 6,
      "metadata": {},
      "outputs": [
        {
          "data": {
            "text/plain": [
              "Ttest_indResult(statistic=0.5809918432440697, pvalue=0.5684500713413551)"
            ]
          },
          "execution_count": 6,
          "metadata": {},
          "output_type": "execute_result"
        }
      ],
      "source": [
        "ttest_ind(acc_folds_mv, acc_folds_mn)"
      ]
    },
    {
      "attachments": {},
      "cell_type": "markdown",
      "metadata": {},
      "source": [
        "- Ipotesi: le differenze di accuratezza tra i due modelli non sono significative.\n",
        "- Rifiuto l'ipotesi? No, p_value > 0.05\n",
        "\n",
        " "
      ]
    }
  ],
  "metadata": {
    "anaconda-cloud": {},
    "colab": {
      "name": "classification_twitter_emotions_loading_data.ipynb",
      "provenance": []
    },
    "kernelspec": {
      "display_name": "Python 3",
      "language": "python",
      "name": "python3"
    },
    "language_info": {
      "codemirror_mode": {
        "name": "ipython",
        "version": 3
      },
      "file_extension": ".py",
      "mimetype": "text/x-python",
      "name": "python",
      "nbconvert_exporter": "python",
      "pygments_lexer": "ipython3",
      "version": "3.8.7"
    },
    "vscode": {
      "interpreter": {
        "hash": "7efb2d7ff2df1439e00fdb3d4f2694a3ec3140441601882caf0cf9a3f70ee73c"
      }
    }
  },
  "nbformat": 4,
  "nbformat_minor": 0
}
